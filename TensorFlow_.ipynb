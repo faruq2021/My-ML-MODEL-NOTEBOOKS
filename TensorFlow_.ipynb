{
  "nbformat": 4,
  "nbformat_minor": 0,
  "metadata": {
    "colab": {
      "name": "TensorFlow .ipynb",
      "provenance": [],
      "authorship_tag": "ABX9TyPB4W+zCwWKKmXmG8OKjtVt",
      "include_colab_link": true
    },
    "kernelspec": {
      "name": "python3",
      "display_name": "Python 3"
    },
    "accelerator": "GPU"
  },
  "cells": [
    {
      "cell_type": "markdown",
      "metadata": {
        "id": "view-in-github",
        "colab_type": "text"
      },
      "source": [
        "<a href=\"https://colab.research.google.com/github/faruq2021/My-ML-MODEL-NOTEBOOKS/blob/main/TensorFlow_.ipynb\" target=\"_parent\"><img src=\"https://colab.research.google.com/assets/colab-badge.svg\" alt=\"Open In Colab\"/></a>"
      ]
    },
    {
      "cell_type": "code",
      "metadata": {
        "id": "20MYixpdxblC"
      },
      "source": [
        "import numpy as np\r\n",
        "import tensorflow as tf \r\n",
        "import logging \r\n",
        "logger=tf.get_logger()\r\n",
        "logger.setLevel(logging.ERROR)\r\n"
      ],
      "execution_count": 1,
      "outputs": []
    },
    {
      "cell_type": "code",
      "metadata": {
        "colab": {
          "base_uri": "https://localhost:8080/"
        },
        "id": "cOFPmBkpyX62",
        "outputId": "622021d3-5347-4bf8-d915-cf1ea3c28841"
      },
      "source": [
        "celsius_q=np.array([-40,-10,0,8,15,22,38],dtype=float)\r\n",
        "fahrenheit_a=np.array([-40,14,32,46,59,72,100], dtype=float)\r\n",
        "for i,c in enumerate(celsius_q):\r\n",
        "  print(\"{} degress Celsius={} degrees Fahrenheit\".format(c,fahrenheit_a[i]))"
      ],
      "execution_count": 2,
      "outputs": [
        {
          "output_type": "stream",
          "text": [
            "-40.0 degress Celsius=-40.0 degrees Fahrenheit\n",
            "-10.0 degress Celsius=14.0 degrees Fahrenheit\n",
            "0.0 degress Celsius=32.0 degrees Fahrenheit\n",
            "8.0 degress Celsius=46.0 degrees Fahrenheit\n",
            "15.0 degress Celsius=59.0 degrees Fahrenheit\n",
            "22.0 degress Celsius=72.0 degrees Fahrenheit\n",
            "38.0 degress Celsius=100.0 degrees Fahrenheit\n"
          ],
          "name": "stdout"
        }
      ]
    },
    {
      "cell_type": "markdown",
      "metadata": {
        "id": "EwNiA7ugEYvc"
      },
      "source": [
        "Build a model to carry out the above using tensorflow kera."
      ]
    },
    {
      "cell_type": "code",
      "metadata": {
        "id": "7x3i3xBnErNk"
      },
      "source": [
        "#Defining layers\r\n",
        "l0=tf.keras.layers.Dense(units=1,input_shape=[1])"
      ],
      "execution_count": 3,
      "outputs": []
    },
    {
      "cell_type": "code",
      "metadata": {
        "id": "N-H0ZfkZFM7z"
      },
      "source": [
        "#once layers are defined, assemble them into a model\r\n",
        "model=tf.keras.Sequential([l0])\r\n",
        "\r\n",
        "#often times the layer will be defined inside the model definition\r\n",
        "#e.g model=tf.keras.Sequential([tf.keras.layers.Dense(units=1,input_shape=[1])])"
      ],
      "execution_count": 4,
      "outputs": []
    },
    {
      "cell_type": "code",
      "metadata": {
        "id": "llnnMnvfGCng"
      },
      "source": [
        "#Next compile the model \r\n",
        "#loss function is used how far off the prediction are from the desired outcome \r\n",
        "#optimizer function a way of reducing internal function to reduce loss\r\n",
        "\r\n",
        "model.compile(loss=\"mean_squared_error\",optimizer=tf.keras.optimizers.Adam(0.1))\r\n",
        "#0.1 above is refered to as the learning rate, usually within 0.001 the default to 0.1"
      ],
      "execution_count": 5,
      "outputs": []
    },
    {
      "cell_type": "code",
      "metadata": {
        "colab": {
          "base_uri": "https://localhost:8080/"
        },
        "id": "Y8t-qn7yMk_7",
        "outputId": "1577b0db-5ec8-4d7b-98fd-b8d95b2d4473"
      },
      "source": [
        "#train the model by calling the fit model \r\n",
        "history=model.fit(celsius_q,fahrenheit_a,epochs=500,verbose=False)\r\n",
        "print(\"finished training your model\")\r\n"
      ],
      "execution_count": 6,
      "outputs": [
        {
          "output_type": "stream",
          "text": [
            "finished training your model\n"
          ],
          "name": "stdout"
        }
      ]
    },
    {
      "cell_type": "code",
      "metadata": {
        "colab": {
          "base_uri": "https://localhost:8080/",
          "height": 296
        },
        "id": "cRaUl8ppQYj7",
        "outputId": "be3add10-ace4-44c1-f881-bf030c77809d"
      },
      "source": [
        "#Display training statistics \r\n",
        "#the fit mthod returns a history object. We can use this to plot how the loss of our \r\n",
        "#model goes down after training epoch. A high loss means that the fahrenheit degrees\r\n",
        "#the model predicts is far from the correspondng value of fahrenheit-a\r\n",
        "#Use Matplotlib to visulaize this(other tools can be used)\r\n",
        "\r\n",
        "import matplotlib.pyplot as plt\r\n",
        "\r\n",
        "plt.xlabel(\"Epoch Number\")\r\n",
        "plt.ylabel(\"Loss Magnitude\")\r\n",
        "plt.plot(history.history['loss'])\r\n",
        "\r\n"
      ],
      "execution_count": 7,
      "outputs": [
        {
          "output_type": "execute_result",
          "data": {
            "text/plain": [
              "[<matplotlib.lines.Line2D at 0x7fd300526d10>]"
            ]
          },
          "metadata": {
            "tags": []
          },
          "execution_count": 7
        },
        {
          "output_type": "display_data",
          "data": {
            "image/png": "[encoded data removed]",
            "text/plain": [
              "<Figure size 432x288 with 1 Axes>"
            ]
          },
          "metadata": {
            "tags": [],
            "needs_background": "light"
          }
        }
      ]
    },
    {
      "cell_type": "code",
      "metadata": {
        "colab": {
          "base_uri": "https://localhost:8080/"
        },
        "id": "1_GNSqctSnbG",
        "outputId": "051e0bf7-0faf-4495-c7c5-66d2d081df85"
      },
      "source": [
        "print(model.predict([100.0]))"
      ],
      "execution_count": 8,
      "outputs": [
        {
          "output_type": "stream",
          "text": [
            "[[211.33252]]\n"
          ],
          "name": "stdout"
        }
      ]
    },
    {
      "cell_type": "code",
      "metadata": {
        "colab": {
          "base_uri": "https://localhost:8080/"
        },
        "id": "e4jSi52jWXmE",
        "outputId": "d42c8437-54c8-4234-968f-c8ea4f4a83fd"
      },
      "source": [
        "#print the internal variables\r\n",
        "print(\"these are the layer variables:{}\".format(l0.get_weights()))"
      ],
      "execution_count": 9,
      "outputs": [
        {
          "output_type": "stream",
          "text": [
            "these are the layer variables:[array([[1.8213745]], dtype=float32), array([29.195066], dtype=float32)]\n"
          ],
          "name": "stdout"
        }
      ]
    },
    {
      "cell_type": "code",
      "metadata": {
        "colab": {
          "base_uri": "https://localhost:8080/"
        },
        "id": "wtZCuQrCZsbG",
        "outputId": "3310462b-dc29-42c3-98cf-cc91ffd9c830"
      },
      "source": [
        "\"\"\"\r\n",
        "Just for fun, what if we created more Dense layers with different units, which therefore also has more variables?\r\n",
        "\"\"\"\r\n",
        "l0 = tf.keras.layers.Dense(units=4, input_shape=[1])\r\n",
        "l1 = tf.keras.layers.Dense(units=4)\r\n",
        "l2 = tf.keras.layers.Dense(units=1)\r\n",
        "model = tf.keras.Sequential([l0, l1, l2])\r\n",
        "model.compile(loss='mean_squared_error', optimizer=tf.keras.optimizers.Adam(0.1))\r\n",
        "model.fit(celsius_q, fahrenheit_a, epochs=500, verbose=False)\r\n",
        "print(\"Finished training the model\")\r\n",
        "print(model.predict([100.0]))\r\n",
        "print(\"Model predicts that 100 degrees Celsius is: {} degrees Fahrenheit\".format(model.predict([100.0])))\r\n",
        "print(\"These are the l0 variables: {}\".format(l0.get_weights()))\r\n",
        "print(\"These are the l1 variables: {}\".format(l1.get_weights()))\r\n",
        "print(\"These are the l2 variables: {}\".format(l2.get_weights()))"
      ],
      "execution_count": 10,
      "outputs": [
        {
          "output_type": "stream",
          "text": [
            "Finished training the model\n",
            "[[211.74742]]\n",
            "Model predicts that 100 degrees Celsius is: [[211.74742]] degrees Fahrenheit\n",
            "These are the l0 variables: [array([[0.09547262, 0.48989412, 0.18543145, 0.3790091 ]], dtype=float32), array([-2.3898964,  2.8238318, -2.2235887,  2.7752857], dtype=float32)]\n",
            "These are the l1 variables: [array([[-0.32259873,  0.38871562, -0.30352637,  0.6737169 ],\n",
            "       [ 1.0916805 , -0.3772347 ,  0.5829647 , -0.4680905 ],\n",
            "       [-0.42335513, -0.6082061 , -0.28962013,  0.46233127],\n",
            "       [ 0.9624466 ,  0.5042075 ,  0.24722452, -1.0906812 ]],\n",
            "      dtype=float32), array([ 2.7767339,  0.5409786,  2.5009   , -2.7754638], dtype=float32)]\n",
            "These are the l2 variables: [array([[ 1.2882886 ],\n",
            "       [ 0.13154353],\n",
            "       [ 0.7399278 ],\n",
            "       [-1.1560069 ]], dtype=float32), array([2.7111032], dtype=float32)]\n"
          ],
          "name": "stdout"
        }
      ]
    },
    {
      "cell_type": "code",
      "metadata": {
        "colab": {
          "base_uri": "https://localhost:8080/",
          "height": 53
        },
        "id": "bOESQ0nzaa-J",
        "outputId": "92c76590-5cbc-4aa9-a23c-0a8c899e9556"
      },
      "source": [
        "'''\r\n",
        "Flattening: The process of converting a 2d image into 1d vector\r\n",
        "ReLU: An activation function that allows a model to solve nonlinear problems\r\n",
        "Softmax: A function that provides probabilities for each possible output class\r\n",
        "Classification: A machine learning model used for distinguishing among two or more output categories\r\n",
        "'''"
      ],
      "execution_count": 11,
      "outputs": [
        {
          "output_type": "execute_result",
          "data": {
            "application/vnd.google.colaboratory.intrinsic+json": {
              "type": "string"
            },
            "text/plain": [
              "'\\nFlattening: The process of converting a 2d image into 1d vector\\nReLU: An activation function that allows a model to solve nonlinear problems\\nSoftmax: A function that provides probabilities for each possible output class\\nClassification: A machine learning model used for distinguishing among two or more output categories\\n'"
            ]
          },
          "metadata": {
            "tags": []
          },
          "execution_count": 11
        }
      ]
    },
    {
      "cell_type": "code",
      "metadata": {
        "colab": {
          "base_uri": "https://localhost:8080/"
        },
        "id": "t8GaYz0OhTgM",
        "outputId": "199e5fb1-0204-4096-a221-5672ae307fe3"
      },
      "source": [
        "!pip install -U tensorflow_datasets"
      ],
      "execution_count": 12,
      "outputs": [
        {
          "output_type": "stream",
          "text": [
            "Collecting tensorflow_datasets\n",
            "\u001b[?25l  Downloading https://files.pythonhosted.org/packages/d3/91/c3e36695ca04e6f3c2d920887d7dc36550f6bbb03d7d5fd03c2172b06d97/tensorflow_datasets-4.2.0-py3-none-any.whl (3.7MB)\n",
            "\u001b[K     |████████████████████████████████| 3.7MB 20.4MB/s \n",
            "\u001b[?25hRequirement already satisfied, skipping upgrade: tqdm in /usr/local/lib/python3.7/dist-packages (from tensorflow_datasets) (4.41.1)\n",
            "Requirement already satisfied, skipping upgrade: absl-py in /usr/local/lib/python3.7/dist-packages (from tensorflow_datasets) (0.10.0)\n",
            "Requirement already satisfied, skipping upgrade: protobuf>=3.12.2 in /usr/local/lib/python3.7/dist-packages (from tensorflow_datasets) (3.12.4)\n",
            "Requirement already satisfied, skipping upgrade: future in /usr/local/lib/python3.7/dist-packages (from tensorflow_datasets) (0.16.0)\n",
            "Requirement already satisfied, skipping upgrade: dill in /usr/local/lib/python3.7/dist-packages (from tensorflow_datasets) (0.3.3)\n",
            "Requirement already satisfied, skipping upgrade: numpy in /usr/local/lib/python3.7/dist-packages (from tensorflow_datasets) (1.19.5)\n",
            "Requirement already satisfied, skipping upgrade: termcolor in /usr/local/lib/python3.7/dist-packages (from tensorflow_datasets) (1.1.0)\n",
            "Requirement already satisfied, skipping upgrade: requests>=2.19.0 in /usr/local/lib/python3.7/dist-packages (from tensorflow_datasets) (2.23.0)\n",
            "Requirement already satisfied, skipping upgrade: tensorflow-metadata in /usr/local/lib/python3.7/dist-packages (from tensorflow_datasets) (0.28.0)\n",
            "Requirement already satisfied, skipping upgrade: six in /usr/local/lib/python3.7/dist-packages (from tensorflow_datasets) (1.15.0)\n",
            "Requirement already satisfied, skipping upgrade: importlib-resources; python_version < \"3.9\" in /usr/local/lib/python3.7/dist-packages (from tensorflow_datasets) (5.1.2)\n",
            "Requirement already satisfied, skipping upgrade: attrs>=18.1.0 in /usr/local/lib/python3.7/dist-packages (from tensorflow_datasets) (20.3.0)\n",
            "Requirement already satisfied, skipping upgrade: typing-extensions; python_version < \"3.8\" in /usr/local/lib/python3.7/dist-packages (from tensorflow_datasets) (3.7.4.3)\n",
            "Requirement already satisfied, skipping upgrade: promise in /usr/local/lib/python3.7/dist-packages (from tensorflow_datasets) (2.3)\n",
            "Requirement already satisfied, skipping upgrade: setuptools in /usr/local/lib/python3.7/dist-packages (from protobuf>=3.12.2->tensorflow_datasets) (54.0.0)\n",
            "Requirement already satisfied, skipping upgrade: chardet<4,>=3.0.2 in /usr/local/lib/python3.7/dist-packages (from requests>=2.19.0->tensorflow_datasets) (3.0.4)\n",
            "Requirement already satisfied, skipping upgrade: idna<3,>=2.5 in /usr/local/lib/python3.7/dist-packages (from requests>=2.19.0->tensorflow_datasets) (2.10)\n",
            "Requirement already satisfied, skipping upgrade: certifi>=2017.4.17 in /usr/local/lib/python3.7/dist-packages (from requests>=2.19.0->tensorflow_datasets) (2020.12.5)\n",
            "Requirement already satisfied, skipping upgrade: urllib3!=1.25.0,!=1.25.1,<1.26,>=1.21.1 in /usr/local/lib/python3.7/dist-packages (from requests>=2.19.0->tensorflow_datasets) (1.24.3)\n",
            "Requirement already satisfied, skipping upgrade: googleapis-common-protos<2,>=1.52.0 in /usr/local/lib/python3.7/dist-packages (from tensorflow-metadata->tensorflow_datasets) (1.53.0)\n",
            "Requirement already satisfied, skipping upgrade: zipp>=0.4; python_version < \"3.8\" in /usr/local/lib/python3.7/dist-packages (from importlib-resources; python_version < \"3.9\"->tensorflow_datasets) (3.4.1)\n",
            "Installing collected packages: tensorflow-datasets\n",
            "  Found existing installation: tensorflow-datasets 4.0.1\n",
            "    Uninstalling tensorflow-datasets-4.0.1:\n",
            "      Successfully uninstalled tensorflow-datasets-4.0.1\n",
            "Successfully installed tensorflow-datasets-4.2.0\n"
          ],
          "name": "stdout"
        }
      ]
    },
    {
      "cell_type": "code",
      "metadata": {
        "colab": {
          "base_uri": "https://localhost:8080/"
        },
        "id": "oZF8EJcFi_6R",
        "outputId": "c6d39667-ef19-4b6d-ac6c-e1d91121ba70"
      },
      "source": [
        "from __future__ import absolute_import, division, print_function\r\n",
        "import tensorflow as tf\r\n",
        "import tensorflow_datasets as tfds\r\n",
        "#tf.logging.set_verbosity(tf.logging.ERROR)\r\n",
        "import math\r\n",
        "import numpy as np\r\n",
        "import matplotlib.pyplot as plt\r\n",
        "import tqdm\r\n",
        "import tqdm.auto\r\n",
        "tqdm.tqdm=tqdm.auto.tqdm\r\n",
        "\r\n",
        "print(tf.__version__)\r\n"
      ],
      "execution_count": 13,
      "outputs": [
        {
          "output_type": "stream",
          "text": [
            "2.4.1\n"
          ],
          "name": "stdout"
        }
      ]
    },
    {
      "cell_type": "code",
      "metadata": {
        "id": "cMP4OSGNkKgN"
      },
      "source": [
        "dataset, metadata=tfds.load(\"fashion_mnist\", as_supervised=True, with_info=True)\r\n",
        "train_dataset, test_dataset=dataset['train'],dataset['test']"
      ],
      "execution_count": 17,
      "outputs": []
    },
    {
      "cell_type": "code",
      "metadata": {
        "id": "IJYE8H56oxds"
      },
      "source": [
        "#create classnames \r\n",
        "classnames=[\"T-shirt/top\",\"Trouser\",\"Pullover\",\"Dress\",\"Coat\",\r\n",
        "            \"sandal\",\"Shirt\",\"Sneaker\",\"Bag\",\"Ankle_boots\"]"
      ],
      "execution_count": 15,
      "outputs": []
    },
    {
      "cell_type": "code",
      "metadata": {
        "colab": {
          "base_uri": "https://localhost:8080/"
        },
        "id": "6nZy4RYJse9J",
        "outputId": "0fc555ca-6147-450a-d5d4-91f829a34417"
      },
      "source": [
        "#explore and split the datasets\r\n",
        "num_train_examples=metadata.splits[\"train\"].num_examples\r\n",
        "num_test_examples=metadata.splits[\"test\"].num_examples\r\n",
        "print(\"Number of training examples:{}\".format(num_train_examples))\r\n",
        "print(\"Number of test examples:{}\".format(num_test_examples))"
      ],
      "execution_count": 18,
      "outputs": [
        {
          "output_type": "stream",
          "text": [
            "Number of training examples:60000\n",
            "Number of test examples:10000\n"
          ],
          "name": "stdout"
        }
      ]
    },
    {
      "cell_type": "code",
      "metadata": {
        "id": "CWRpDTSgteT8"
      },
      "source": [
        "#preprocess the data by creating a normalization function\r\n",
        "def normalize(images,labels):\r\n",
        "  images=tf.cast(images,tf.float32)\r\n",
        "  images/=255\r\n",
        "  return images, labels\r\n",
        "\r\n",
        "train_dataset=train_dataset.map(normalize)\r\n",
        "train_dataset=test_dataset.map(normalize)"
      ],
      "execution_count": 19,
      "outputs": []
    },
    {
      "cell_type": "code",
      "metadata": {
        "colab": {
          "base_uri": "https://localhost:8080/",
          "height": 264
        },
        "id": "be9Ma0r0XWJD",
        "outputId": "42fd1bc1-a99c-4752-ddd8-eef9ce23dbbd"
      },
      "source": [
        "#explore the processed data,plot an image to see what it looks like \r\n",
        "#take a single image, and remove the colour dimension by reshaping\r\n",
        "\r\n",
        "for image,label in test_dataset.take(1):\r\n",
        "  break\r\n",
        "image=image.numpy().reshape((28,28))\r\n",
        "\r\n",
        "#plot the image \r\n",
        "plt.figure()\r\n",
        "plt.imshow(image,cmap=plt.cm.binary)\r\n",
        "plt.colorbar()\r\n",
        "plt.grid(False)\r\n",
        "plt.show()"
      ],
      "execution_count": 20,
      "outputs": [
        {
          "output_type": "display_data",
          "data": {
            "image/png": "[encoded data removed]",
            "text/plain": [
              "<Figure size 432x288 with 2 Axes>"
            ]
          },
          "metadata": {
            "tags": [],
            "needs_background": "light"
          }
        }
      ]
    },
    {
      "cell_type": "code",
      "metadata": {
        "colab": {
          "base_uri": "https://localhost:8080/",
          "height": 606
        },
        "id": "mM9IxYIDYmv0",
        "outputId": "649b781a-db6c-43ad-d1f4-19d77f8db2de"
      },
      "source": [
        "#plot the first s5 images as done to one above\r\n",
        "\r\n",
        "plt.figure(figsize=(10,10))\r\n",
        "i=0\r\n",
        "for (image,label)in test_dataset.take(25):\r\n",
        "  image=image.numpy().reshape(28,28)\r\n",
        "  plt.subplot(5,5,i+1)\r\n",
        "  plt.xticks([])\r\n",
        "  plt.yticks([])\r\n",
        "  plt.grid(False)\r\n",
        "  plt.imshow(image,cmap=plt.cm.binary)\r\n",
        "  plt.xlabel(classnames[label])\r\n",
        "  i += 1\r\n",
        "plt.show"
      ],
      "execution_count": 23,
      "outputs": [
        {
          "output_type": "execute_result",
          "data": {
            "text/plain": [
              "<function matplotlib.pyplot.show>"
            ]
          },
          "metadata": {
            "tags": []
          },
          "execution_count": 23
        },
        {
          "output_type": "display_data",
          "data": {
            "image/png": "[encoded data removed]",
            "text/plain": [
              "<Figure size 720x720 with 25 Axes>"
            ]
          },
          "metadata": {
            "tags": []
          }
        }
      ]
    },
    {
      "cell_type": "code",
      "metadata": {
        "id": "XGmNJPdaaIxR"
      },
      "source": [
        "#build the neural network\r\n",
        "#set up the layers of the NN, which is the basic building block of neural network\r\n",
        "model=tf.keras.Sequential([tf.keras.layers.Flatten(input_shape=(28,28,1)), tf.keras.layers.Dense(128,activation=tf.nn.relu),tf.keras.layers.Dense(10,activation=tf.nn.softmax)])\r\n",
        "                          \r\n"
      ],
      "execution_count": 26,
      "outputs": []
    },
    {
      "cell_type": "code",
      "metadata": {
        "id": "M5i0J33goXNT"
      },
      "source": [
        "#compile the model using the adam optimizer\r\n",
        "model.compile(optimizer=\"adam\",loss=\"sparse_categorical_crossentropy\",metrics=[\"accuracy\"])\r\n"
      ],
      "execution_count": 29,
      "outputs": []
    },
    {
      "cell_type": "code",
      "metadata": {
        "colab": {
          "base_uri": "https://localhost:8080/"
        },
        "id": "ZhYoi6t7qEIQ",
        "outputId": "5380c328-1326-4be7-bad2-f6e7932886ee"
      },
      "source": [
        "#before training datasets specify some iterative parameters to the datasets\r\n",
        "BATCH_SIZE=32\r\n",
        "train_dataset=train_dataset.repeat().shuffle(num_train_examples).batch(BATCH_SIZE)\r\n",
        "test_dataset=test_dataset.batch(BATCH_SIZE)\r\n",
        "\r\n",
        "#fit model\r\n",
        "\r\n",
        "model.fit(train_dataset,epochs=5,steps_per_epoch=math.ceil(num_train_examples/BATCH_SIZE))"
      ],
      "execution_count": 30,
      "outputs": [
        {
          "output_type": "stream",
          "text": [
            "Epoch 1/5\n",
            "1875/1875 [==============================] - 7s 3ms/step - loss: 0.6383 - accuracy: 0.7758\n",
            "Epoch 2/5\n",
            "1875/1875 [==============================] - 5s 3ms/step - loss: 0.3485 - accuracy: 0.8719\n",
            "Epoch 3/5\n",
            "1875/1875 [==============================] - 5s 3ms/step - loss: 0.2650 - accuracy: 0.9015\n",
            "Epoch 4/5\n",
            "1875/1875 [==============================] - 5s 3ms/step - loss: 0.2114 - accuracy: 0.9235\n",
            "Epoch 5/5\n",
            "1875/1875 [==============================] - 5s 3ms/step - loss: 0.1636 - accuracy: 0.9397\n"
          ],
          "name": "stdout"
        },
        {
          "output_type": "execute_result",
          "data": {
            "text/plain": [
              "<tensorflow.python.keras.callbacks.History at 0x7fd29aeef9d0>"
            ]
          },
          "metadata": {
            "tags": []
          },
          "execution_count": 30
        }
      ]
    },
    {
      "cell_type": "code",
      "metadata": {
        "colab": {
          "base_uri": "https://localhost:8080/"
        },
        "id": "Kb_n6tYsrxU-",
        "outputId": "d3e26c83-ea81-4b16-d9f1-9877779b2418"
      },
      "source": [
        "#EVALUATE accuracy \r\n",
        "test_loss, test_accuracy= model.evaluate(test_dataset, steps=math.ceil(num_test_examples/32))\r\n",
        "print(\"Accuracy on test dataset:\", test_accuracy)"
      ],
      "execution_count": 31,
      "outputs": [
        {
          "output_type": "stream",
          "text": [
            "313/313 [==============================] - 1s 2ms/step - loss: 34.0556 - accuracy: 0.9140\n",
            "Accuracy on test dataset: 0.9139999747276306\n"
          ],
          "name": "stdout"
        }
      ]
    },
    {
      "cell_type": "code",
      "metadata": {
        "id": "N5PW_sNmspZP"
      },
      "source": [
        "#make predictions and explore\r\n",
        "for test_images, test_labels in test_dataset.take(1):\r\n",
        "  test_images=test_images.numpy()\r\n",
        "  test_labels=test_labels.numpy()\r\n",
        "  predictions=model.predict(test_images)"
      ],
      "execution_count": 32,
      "outputs": []
    },
    {
      "cell_type": "code",
      "metadata": {
        "colab": {
          "base_uri": "https://localhost:8080/"
        },
        "id": "rgKxvYAluFVQ",
        "outputId": "9e66102f-3c9f-4fa0-95be-b41e3865801d"
      },
      "source": [
        "predictions.shape"
      ],
      "execution_count": 34,
      "outputs": [
        {
          "output_type": "execute_result",
          "data": {
            "text/plain": [
              "(32, 10)"
            ]
          },
          "metadata": {
            "tags": []
          },
          "execution_count": 34
        }
      ]
    },
    {
      "cell_type": "code",
      "metadata": {
        "colab": {
          "base_uri": "https://localhost:8080/"
        },
        "id": "7jfTwX4QuJZe",
        "outputId": "d6c23f18-3518-4d76-bde0-522d28b9b073"
      },
      "source": [
        "predictions[0]\r\n"
      ],
      "execution_count": 36,
      "outputs": [
        {
          "output_type": "execute_result",
          "data": {
            "text/plain": [
              "array([0., 0., 0., 0., 1., 0., 0., 0., 0., 0.], dtype=float32)"
            ]
          },
          "metadata": {
            "tags": []
          },
          "execution_count": 36
        }
      ]
    },
    {
      "cell_type": "code",
      "metadata": {
        "colab": {
          "base_uri": "https://localhost:8080/"
        },
        "id": "DP8V7rhKvUws",
        "outputId": "c42e5343-ca59-42e1-d091-4863ea46a2b6"
      },
      "source": [
        "np.argmax(predictions[0])"
      ],
      "execution_count": 37,
      "outputs": [
        {
          "output_type": "execute_result",
          "data": {
            "text/plain": [
              "4"
            ]
          },
          "metadata": {
            "tags": []
          },
          "execution_count": 37
        }
      ]
    },
    {
      "cell_type": "code",
      "metadata": {
        "colab": {
          "base_uri": "https://localhost:8080/"
        },
        "id": "GaTpFNzKvmi7",
        "outputId": "e640e0c0-0b39-42f0-c252-546b282d14c5"
      },
      "source": [
        "test_labels[0]"
      ],
      "execution_count": 38,
      "outputs": [
        {
          "output_type": "execute_result",
          "data": {
            "text/plain": [
              "4"
            ]
          },
          "metadata": {
            "tags": []
          },
          "execution_count": 38
        }
      ]
    },
    {
      "cell_type": "code",
      "metadata": {
        "id": "ReC1_Z0mvyeS"
      },
      "source": [
        ""
      ],
      "execution_count": null,
      "outputs": []
    }
  ]
}