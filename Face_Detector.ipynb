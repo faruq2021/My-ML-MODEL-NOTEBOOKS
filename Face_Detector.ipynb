{
  "nbformat": 4,
  "nbformat_minor": 0,
  "metadata": {
    "colab": {
      "name": "Face Detector.ipynb",
      "provenance": [],
      "collapsed_sections": [],
      "mount_file_id": "1jT189rRBTAmAG1pjl_VrIn-eLLiI8i1O",
      "authorship_tag": "ABX9TyNsKf1lvXl4ZTOIP2EeUdkv",
      "include_colab_link": true
    },
    "kernelspec": {
      "name": "python3",
      "display_name": "Python 3"
    },
    "language_info": {
      "name": "python"
    },
    "accelerator": "GPU"
  },
  "cells": [
    {
      "cell_type": "markdown",
      "metadata": {
        "id": "view-in-github",
        "colab_type": "text"
      },
      "source": [
        "<a href=\"https://colab.research.google.com/github/faruq2021/My-ML-MODEL-NOTEBOOKS/blob/main/Face_Detector.ipynb\" target=\"_parent\"><img src=\"https://colab.research.google.com/assets/colab-badge.svg\" alt=\"Open In Colab\"/></a>"
      ]
    },
    {
      "cell_type": "code",
      "metadata": {
        "colab": {
          "base_uri": "https://localhost:8080/"
        },
        "id": "n06Igww_xG-X",
        "outputId": "a5930682-2215-451b-b4bf-4afa799d36fc"
      },
      "source": [
        "!nvidia-smi\n"
      ],
      "execution_count": 2,
      "outputs": [
        {
          "output_type": "stream",
          "name": "stdout",
          "text": [
            "Thu Dec  2 14:37:10 2021       \n",
            "+-----------------------------------------------------------------------------+\n",
            "| NVIDIA-SMI 495.44       Driver Version: 460.32.03    CUDA Version: 11.2     |\n",
            "|-------------------------------+----------------------+----------------------+\n",
            "| GPU  Name        Persistence-M| Bus-Id        Disp.A | Volatile Uncorr. ECC |\n",
            "| Fan  Temp  Perf  Pwr:Usage/Cap|         Memory-Usage | GPU-Util  Compute M. |\n",
            "|                               |                      |               MIG M. |\n",
            "|===============================+======================+======================|\n",
            "|   0  Tesla K80           Off  | 00000000:00:04.0 Off |                    0 |\n",
            "| N/A   32C    P8    28W / 149W |      0MiB / 11441MiB |      0%      Default |\n",
            "|                               |                      |                  N/A |\n",
            "+-------------------------------+----------------------+----------------------+\n",
            "                                                                               \n",
            "+-----------------------------------------------------------------------------+\n",
            "| Processes:                                                                  |\n",
            "|  GPU   GI   CI        PID   Type   Process name                  GPU Memory |\n",
            "|        ID   ID                                                   Usage      |\n",
            "|=============================================================================|\n",
            "|  No running processes found                                                 |\n",
            "+-----------------------------------------------------------------------------+\n"
          ]
        }
      ]
    },
    {
      "cell_type": "code",
      "metadata": {
        "id": "NlmvNFvyxTBA",
        "colab": {
          "base_uri": "https://localhost:8080/"
        },
        "outputId": "d4676020-ba78-428d-809c-337ce9cdb251"
      },
      "source": [
        "!nvcc --version"
      ],
      "execution_count": 3,
      "outputs": [
        {
          "output_type": "stream",
          "name": "stdout",
          "text": [
            "nvcc: NVIDIA (R) Cuda compiler driver\n",
            "Copyright (c) 2005-2020 NVIDIA Corporation\n",
            "Built on Mon_Oct_12_20:09:46_PDT_2020\n",
            "Cuda compilation tools, release 11.1, V11.1.105\n",
            "Build cuda_11.1.TC455_06.29190527_0\n"
          ]
        }
      ]
    },
    {
      "cell_type": "code",
      "metadata": {
        "id": "kNzb932txb7A"
      },
      "source": [
        "import numpy as np\n",
        "import pandas as pd\n",
        "import matplotlib.pyplot as plt\n",
        "import tensorflow as tf\n",
        "import keras \n",
        "from tensorflow import keras\n",
        "from tensorflow.keras.models import Sequential \n",
        "from tensorflow.keras.layers import Flatten, Dense, Conv2D, MaxPool2D, Activation, BatchNormalization \n",
        "from tensorflow.keras.optimizers import Adam \n",
        "from tensorflow.keras.metrics import categorical_crossentropy \n",
        "from tensorflow.keras.preprocessing.image import ImageDataGenerator \n",
        "import os\n",
        "import glob \n",
        "import itertools\n",
        "import shutil\n",
        "import random\n"
      ],
      "execution_count": 4,
      "outputs": []
    },
    {
      "cell_type": "code",
      "metadata": {
        "id": "LL05WBA2x900"
      },
      "source": [
        "os.chdir('/content/drive/MyDrive/me-vs-NotMe')\n",
        "if os.path.isdir('train/faruq') is False:\n",
        "  os.makedirs('train/faruq')\n",
        "  os.makedirs('train/not_faruq')\n",
        "  os.makedirs('valid/faruq')\n",
        "  os.makedirs('valid/not_faruq')\n",
        "  os.makedirs('test/faruq')\n",
        "  os.makedirs('test/not_faruq')\n",
        "  for c in random.sample(glob.glob('/faruq*'),15):\n",
        "    shutil.move(c, 'train/faruq')\n",
        "  for c in random.sample(glob.glob('/not_faruq*'),15):\n",
        "    shutil.move(c, 'train/not_faruq')\n",
        "  for c in random.sample(glob.glob('/faruq*'),5):\n",
        "    shutil.move(c, 'valid/faruq')\n",
        "  for c in random.sample(glob.glob('/not_faruq*'),5):\n",
        "    shutil.move(c, 'valid/not_faruq')\n",
        "  for c in random.sample(glob.glob('/faruq*'),3):\n",
        "    shutil.move(c, 'test/faruq')\n",
        "  for c in random.sample(glob.glob('/not_faruq*'),3):\n",
        "    shutil.move(c, 'test/not_faruq')\n",
        "os.chdir('../../')\n",
        " \n",
        "  \n",
        "  \n",
        "  "
      ],
      "execution_count": 5,
      "outputs": []
    },
    {
      "cell_type": "code",
      "metadata": {
        "id": "VfwRW4b7BxFS"
      },
      "source": [
        "#pathe= os.chdir('/content/drive/MyDrive/me-vs-NotMe')"
      ],
      "execution_count": 6,
      "outputs": []
    },
    {
      "cell_type": "code",
      "metadata": {
        "id": "TSzbYoLqR--h"
      },
      "source": [
        "\n",
        "\n",
        "\n",
        "#path = pathe\n",
        "#faruq = [i for i in os.listdir(path) if os.path.isfile(os.path.join(path,i)) and 'faruq' in i]\n",
        "\n"
      ],
      "execution_count": 7,
      "outputs": []
    },
    {
      "cell_type": "code",
      "metadata": {
        "id": "tIVKfcy91YeG"
      },
      "source": [
        "#define parts to datasets \n",
        "train_path=\"/content/drive/MyDrive/me-vs-NotMe/train\" \n",
        "test_path=\"/content/drive/MyDrive/me-vs-NotMe/test\"\n",
        "valid_path=\"/content/drive/MyDrive/me-vs-NotMe/valid\""
      ],
      "execution_count": 8,
      "outputs": []
    },
    {
      "cell_type": "code",
      "metadata": {
        "colab": {
          "base_uri": "https://localhost:8080/"
        },
        "id": "MKbHJZOAEnTS",
        "outputId": "69081d15-3bda-4ee8-a202-2aaac191db12"
      },
      "source": [
        "#use keras image data generator to create process images\n",
        "from keras.applications.vgg16 import preprocess_input\n",
        "train_set= ImageDataGenerator(preprocessing_function=preprocess_input,zoom_range=[0.5,1.0],\n",
        "horizontal_flip=True,brightness_range=[0.2,1.0],height_shift_range=0.5)\\\n",
        ".flow_from_directory(directory=train_path,target_size=(225,225),classes=['faruq','not_faruq'],batch_size=2)\n"
      ],
      "execution_count": 18,
      "outputs": [
        {
          "output_type": "stream",
          "name": "stdout",
          "text": [
            "Found 38 images belonging to 2 classes.\n"
          ]
        }
      ]
    },
    {
      "cell_type": "code",
      "metadata": {
        "colab": {
          "base_uri": "https://localhost:8080/"
        },
        "id": "25Cwlf8CINhq",
        "outputId": "43f53258-e60d-454c-bc7c-a4bceb93dec2"
      },
      "source": [
        "test_set= ImageDataGenerator(preprocessing_function=preprocess_input).flow_from_directory(directory=test_path,target_size=(225,225),classes=['faruq','not_faruq'],batch_size=2)"
      ],
      "execution_count": 19,
      "outputs": [
        {
          "output_type": "stream",
          "name": "stdout",
          "text": [
            "Found 10 images belonging to 2 classes.\n"
          ]
        }
      ]
    },
    {
      "cell_type": "code",
      "metadata": {
        "colab": {
          "base_uri": "https://localhost:8080/"
        },
        "id": "6YTab4LbKG8Y",
        "outputId": "854c6451-2ed0-404d-eb1a-9c12af867aab"
      },
      "source": [
        "validation_set= ImageDataGenerator(preprocessing_function=preprocess_input).flow_from_directory(directory=valid_path,target_size=(225,225),classes=['faruq','not_faruq'],batch_size=2)"
      ],
      "execution_count": 20,
      "outputs": [
        {
          "output_type": "stream",
          "name": "stdout",
          "text": [
            "Found 6 images belonging to 2 classes.\n"
          ]
        }
      ]
    },
    {
      "cell_type": "code",
      "metadata": {
        "id": "ljLx51hUkihF"
      },
      "source": [
        "#print a batch of the training set\n",
        "\"\"\"imgs, labels=next(train_set)\n",
        "def plotimage (image_arr):\n",
        "  fig, axes =plt.subplots(1,5,figsize=(20,20))\n",
        "  axes=axes.flatten()\n",
        "  for img, ax in zip(image_arr,axes):\n",
        "    ax.imshow(img)\n",
        "    ax.axis(\"off\")\n",
        "  plt.tight_layout()\n",
        "  plt.show()\"\"\"\n"
      ],
      "execution_count": 25,
      "outputs": []
    },
    {
      "cell_type": "code",
      "metadata": {
        "id": "93k5GtqgrS0x"
      },
      "source": [
        "#build and train CNN \n",
        "fNet1=Sequential([Conv2D(filters=32,kernel_size=(3,3),activation='relu',padding='same',input_shape=(225,225,3)),\n",
        "     MaxPool2D(pool_size=(2,2),strides=2),\n",
        "     Conv2D(filters=64,kernel_size=(3,3),activation='relu',padding='same'),\n",
        "     MaxPool2D(pool_size=(2,2),strides=2),\n",
        "     Flatten(), Dense(units=2,activation='softmax')])\n",
        "    "
      ],
      "execution_count": 41,
      "outputs": []
    },
    {
      "cell_type": "code",
      "metadata": {
        "colab": {
          "base_uri": "https://localhost:8080/"
        },
        "id": "eirqMe5Z1JWT",
        "outputId": "9b6d8848-17ac-415e-e2a3-b87ff66cf81c"
      },
      "source": [
        "fNet1.summary()"
      ],
      "execution_count": 45,
      "outputs": [
        {
          "output_type": "stream",
          "name": "stdout",
          "text": [
            "Model: \"sequential\"\n",
            "_________________________________________________________________\n",
            " Layer (type)                Output Shape              Param #   \n",
            "=================================================================\n",
            " conv2d (Conv2D)             (None, 225, 225, 32)      896       \n",
            "                                                                 \n",
            " max_pooling2d (MaxPooling2D  (None, 112, 112, 32)     0         \n",
            " )                                                               \n",
            "                                                                 \n",
            " conv2d_1 (Conv2D)           (None, 112, 112, 64)      18496     \n",
            "                                                                 \n",
            " max_pooling2d_1 (MaxPooling  (None, 56, 56, 64)       0         \n",
            " 2D)                                                             \n",
            "                                                                 \n",
            " flatten (Flatten)           (None, 200704)            0         \n",
            "                                                                 \n",
            " dense (Dense)               (None, 2)                 401410    \n",
            "                                                                 \n",
            "=================================================================\n",
            "Total params: 420,802\n",
            "Trainable params: 420,802\n",
            "Non-trainable params: 0\n",
            "_________________________________________________________________\n"
          ]
        }
      ]
    },
    {
      "cell_type": "code",
      "metadata": {
        "id": "_5hzMMMy1M9h"
      },
      "source": [
        "#compile model \n",
        "fNet1.compile(optimizer=Adam(learning_rate=0.00001),loss='BinaryCrossentropy',metrics=['Accuracy'])"
      ],
      "execution_count": 52,
      "outputs": []
    },
    {
      "cell_type": "code",
      "metadata": {
        "colab": {
          "base_uri": "https://localhost:8080/"
        },
        "id": "d6jHOcoa_V_1",
        "outputId": "ebe93d5e-18a3-49a9-bc34-e857a108a19f"
      },
      "source": [
        "fNet1.fit(x=train_set,validation_data=validation_set, epochs=25, verbose=2)"
      ],
      "execution_count": 55,
      "outputs": [
        {
          "output_type": "stream",
          "name": "stdout",
          "text": [
            "Epoch 1/25\n",
            "19/19 - 1s - loss: 0.7477 - Accuracy: 0.7632 - val_loss: 0.9204 - val_Accuracy: 0.8333 - 1s/epoch - 54ms/step\n",
            "Epoch 2/25\n",
            "19/19 - 1s - loss: 0.4087 - Accuracy: 0.8684 - val_loss: 1.6912 - val_Accuracy: 0.6667 - 944ms/epoch - 50ms/step\n",
            "Epoch 3/25\n",
            "19/19 - 1s - loss: 0.6078 - Accuracy: 0.8947 - val_loss: 1.1218 - val_Accuracy: 0.6667 - 990ms/epoch - 52ms/step\n",
            "Epoch 4/25\n",
            "19/19 - 1s - loss: 0.4765 - Accuracy: 0.8684 - val_loss: 0.9788 - val_Accuracy: 0.6667 - 1s/epoch - 54ms/step\n",
            "Epoch 5/25\n",
            "19/19 - 1s - loss: 0.3922 - Accuracy: 0.9211 - val_loss: 1.3750 - val_Accuracy: 0.6667 - 950ms/epoch - 50ms/step\n",
            "Epoch 6/25\n",
            "19/19 - 1s - loss: 0.5999 - Accuracy: 0.8158 - val_loss: 0.6074 - val_Accuracy: 0.8333 - 953ms/epoch - 50ms/step\n",
            "Epoch 7/25\n",
            "19/19 - 1s - loss: 0.3718 - Accuracy: 0.8947 - val_loss: 0.0844 - val_Accuracy: 1.0000 - 1s/epoch - 53ms/step\n",
            "Epoch 8/25\n",
            "19/19 - 1s - loss: 0.2647 - Accuracy: 0.8684 - val_loss: 0.6748 - val_Accuracy: 0.8333 - 981ms/epoch - 52ms/step\n",
            "Epoch 9/25\n",
            "19/19 - 1s - loss: 0.6123 - Accuracy: 0.7632 - val_loss: 0.1501 - val_Accuracy: 0.8333 - 952ms/epoch - 50ms/step\n",
            "Epoch 10/25\n",
            "19/19 - 1s - loss: 0.6182 - Accuracy: 0.8684 - val_loss: 0.0121 - val_Accuracy: 1.0000 - 938ms/epoch - 49ms/step\n",
            "Epoch 11/25\n",
            "19/19 - 1s - loss: 0.1695 - Accuracy: 0.9737 - val_loss: 0.0904 - val_Accuracy: 1.0000 - 1s/epoch - 53ms/step\n",
            "Epoch 12/25\n",
            "19/19 - 1s - loss: 0.6030 - Accuracy: 0.8421 - val_loss: 0.2035 - val_Accuracy: 0.8333 - 979ms/epoch - 52ms/step\n",
            "Epoch 13/25\n",
            "19/19 - 1s - loss: 0.1808 - Accuracy: 0.9474 - val_loss: 0.9637 - val_Accuracy: 0.6667 - 967ms/epoch - 51ms/step\n",
            "Epoch 14/25\n",
            "19/19 - 1s - loss: 0.2676 - Accuracy: 0.8421 - val_loss: 0.8572 - val_Accuracy: 0.6667 - 995ms/epoch - 52ms/step\n",
            "Epoch 15/25\n",
            "19/19 - 1s - loss: 0.4552 - Accuracy: 0.8158 - val_loss: 0.3287 - val_Accuracy: 0.8333 - 1s/epoch - 54ms/step\n",
            "Epoch 16/25\n",
            "19/19 - 1s - loss: 0.2734 - Accuracy: 0.8947 - val_loss: 0.1792 - val_Accuracy: 0.8333 - 998ms/epoch - 53ms/step\n",
            "Epoch 17/25\n",
            "19/19 - 1s - loss: 0.4483 - Accuracy: 0.8684 - val_loss: 0.4558 - val_Accuracy: 0.8333 - 984ms/epoch - 52ms/step\n",
            "Epoch 18/25\n",
            "19/19 - 1s - loss: 0.4457 - Accuracy: 0.8684 - val_loss: 0.6221 - val_Accuracy: 0.8333 - 1s/epoch - 54ms/step\n",
            "Epoch 19/25\n",
            "19/19 - 1s - loss: 0.1301 - Accuracy: 0.9737 - val_loss: 0.7277 - val_Accuracy: 0.8333 - 991ms/epoch - 52ms/step\n",
            "Epoch 20/25\n",
            "19/19 - 1s - loss: 0.3638 - Accuracy: 0.8158 - val_loss: 0.0944 - val_Accuracy: 1.0000 - 964ms/epoch - 51ms/step\n",
            "Epoch 21/25\n",
            "19/19 - 1s - loss: 0.4100 - Accuracy: 0.8421 - val_loss: 0.1031 - val_Accuracy: 1.0000 - 1s/epoch - 54ms/step\n",
            "Epoch 22/25\n",
            "19/19 - 1s - loss: 0.2938 - Accuracy: 0.8684 - val_loss: 0.3090 - val_Accuracy: 0.8333 - 1s/epoch - 53ms/step\n",
            "Epoch 23/25\n",
            "19/19 - 1s - loss: 0.4191 - Accuracy: 0.8421 - val_loss: 0.0179 - val_Accuracy: 1.0000 - 989ms/epoch - 52ms/step\n",
            "Epoch 24/25\n",
            "19/19 - 1s - loss: 0.3218 - Accuracy: 0.9211 - val_loss: 0.0023 - val_Accuracy: 1.0000 - 978ms/epoch - 51ms/step\n",
            "Epoch 25/25\n",
            "19/19 - 1s - loss: 0.4353 - Accuracy: 0.7895 - val_loss: 0.0406 - val_Accuracy: 1.0000 - 1s/epoch - 53ms/step\n"
          ]
        },
        {
          "output_type": "execute_result",
          "data": {
            "text/plain": [
              "<keras.callbacks.History at 0x7f82ffab0ed0>"
            ]
          },
          "metadata": {},
          "execution_count": 55
        }
      ]
    },
    {
      "cell_type": "code",
      "metadata": {
        "id": "aIFFX76KCi3K"
      },
      "source": [
        "prediction=fNet1.predict(x=test_set)"
      ],
      "execution_count": 58,
      "outputs": []
    },
    {
      "cell_type": "code",
      "metadata": {
        "colab": {
          "base_uri": "https://localhost:8080/"
        },
        "id": "Mw843KMjD8_4",
        "outputId": "e732d216-6257-43aa-a712-c2fbd2426d32"
      },
      "source": [
        "np.round(prediction)"
      ],
      "execution_count": 59,
      "outputs": [
        {
          "output_type": "execute_result",
          "data": {
            "text/plain": [
              "array([[0., 1.],\n",
              "       [0., 1.],\n",
              "       [0., 1.],\n",
              "       [0., 1.],\n",
              "       [1., 0.],\n",
              "       [0., 1.],\n",
              "       [1., 0.],\n",
              "       [1., 0.],\n",
              "       [1., 0.],\n",
              "       [1., 0.]], dtype=float32)"
            ]
          },
          "metadata": {},
          "execution_count": 59
        }
      ]
    },
    {
      "cell_type": "code",
      "metadata": {
        "colab": {
          "base_uri": "https://localhost:8080/"
        },
        "id": "D-eGQ_ytEBOf",
        "outputId": "dec88295-dd38-4dd8-ecce-ff4175d7585d"
      },
      "source": [
        "test_set.classes"
      ],
      "execution_count": 60,
      "outputs": [
        {
          "output_type": "execute_result",
          "data": {
            "text/plain": [
              "array([0, 0, 0, 0, 0, 1, 1, 1, 1, 1], dtype=int32)"
            ]
          },
          "metadata": {},
          "execution_count": 60
        }
      ]
    },
    {
      "cell_type": "code",
      "metadata": {
        "colab": {
          "base_uri": "https://localhost:8080/"
        },
        "id": "oLQ6a5QVFjDd",
        "outputId": "356dd8d7-393c-49dd-eeb3-fe039156d098"
      },
      "source": [
        "test_loss, test_acc = fNet1.evaluate(test_set)"
      ],
      "execution_count": 63,
      "outputs": [
        {
          "output_type": "stream",
          "name": "stdout",
          "text": [
            "5/5 [==============================] - 0s 20ms/step - loss: 0.1579 - Accuracy: 1.0000\n"
          ]
        }
      ]
    },
    {
      "cell_type": "code",
      "metadata": {
        "colab": {
          "base_uri": "https://localhost:8080/"
        },
        "id": "6S9XYnDwL6fp",
        "outputId": "85d1239f-df67-4fd1-df2b-b27d0c09ade5"
      },
      "source": [
        "fNet1.save('/content/drive/MyDrive'\n",
        "    ,\n",
        "    overwrite=True,\n",
        "    include_optimizer=True,\n",
        "    save_format=None,\n",
        "    signatures=None,\n",
        "    options=None,\n",
        "    save_traces=True,\n",
        ")"
      ],
      "execution_count": 70,
      "outputs": [
        {
          "output_type": "stream",
          "name": "stdout",
          "text": [
            "INFO:tensorflow:Assets written to: /content/drive/MyDrive/assets\n"
          ]
        }
      ]
    },
    {
      "cell_type": "code",
      "metadata": {
        "id": "An-LXINYMngr"
      },
      "source": [
        ""
      ],
      "execution_count": null,
      "outputs": []
    }
  ]
}