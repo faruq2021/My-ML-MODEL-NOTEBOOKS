{
  "cells": [
    {
      "cell_type": "markdown",
      "metadata": {
        "id": "view-in-github",
        "colab_type": "text"
      },
      "source": [
        "<a href=\"https://colab.research.google.com/github/faruq2021/My-ML-MODEL-NOTEBOOKS/blob/main/Satelite_Imagery_Demo_Project.ipynb\" target=\"_parent\"><img src=\"https://colab.research.google.com/assets/colab-badge.svg\" alt=\"Open In Colab\"/></a>"
      ]
    },
    {
      "cell_type": "code",
      "execution_count": 1,
      "metadata": {
        "colab": {
          "base_uri": "https://localhost:8080/"
        },
        "id": "fWCx6hsQpFQq",
        "outputId": "176ba5fb-28c3-4a01-81de-bc51288a6036"
      },
      "outputs": [
        {
          "output_type": "stream",
          "name": "stdout",
          "text": [
            "Wed Dec 15 15:22:55 2021       \n",
            "+-----------------------------------------------------------------------------+\n",
            "| NVIDIA-SMI 495.44       Driver Version: 460.32.03    CUDA Version: 11.2     |\n",
            "|-------------------------------+----------------------+----------------------+\n",
            "| GPU  Name        Persistence-M| Bus-Id        Disp.A | Volatile Uncorr. ECC |\n",
            "| Fan  Temp  Perf  Pwr:Usage/Cap|         Memory-Usage | GPU-Util  Compute M. |\n",
            "|                               |                      |               MIG M. |\n",
            "|===============================+======================+======================|\n",
            "|   0  Tesla K80           Off  | 00000000:00:04.0 Off |                    0 |\n",
            "| N/A   47C    P8    27W / 149W |      0MiB / 11441MiB |      0%      Default |\n",
            "|                               |                      |                  N/A |\n",
            "+-------------------------------+----------------------+----------------------+\n",
            "                                                                               \n",
            "+-----------------------------------------------------------------------------+\n",
            "| Processes:                                                                  |\n",
            "|  GPU   GI   CI        PID   Type   Process name                  GPU Memory |\n",
            "|        ID   ID                                                   Usage      |\n",
            "|=============================================================================|\n",
            "|  No running processes found                                                 |\n",
            "+-----------------------------------------------------------------------------+\n"
          ]
        }
      ],
      "source": [
        "!nvidia-smi"
      ]
    },
    {
      "cell_type": "code",
      "execution_count": 2,
      "metadata": {
        "id": "TbFaZy0bQ9En"
      },
      "outputs": [],
      "source": [
        "import numpy as np\n",
        "import pandas as pd\n",
        "import matplotlib.pyplot as plt\n",
        "import tensorflow as tf\n",
        "import keras \n",
        "from tensorflow import keras\n",
        "from tensorflow.keras.models import Sequential \n",
        "from tensorflow.keras.layers import Flatten, Dense, Conv2D, MaxPool2D, Activation, BatchNormalization \n",
        "from tensorflow.keras.optimizers import Adam \n",
        "from tensorflow.keras.metrics import categorical_crossentropy \n",
        "from tensorflow.keras.preprocessing.image import ImageDataGenerator \n",
        "import sklearn \n",
        "import os\n",
        "import glob \n",
        "import itertools\n",
        "import shutil\n",
        "import random"
      ]
    },
    {
      "cell_type": "code",
      "execution_count": 3,
      "metadata": {
        "colab": {
          "base_uri": "https://localhost:8080/"
        },
        "id": "55iBr108_xv7",
        "outputId": "c8712c9d-92fe-4d47-df3d-9b7c56a3b927"
      },
      "outputs": [
        {
          "output_type": "stream",
          "name": "stdout",
          "text": [
            "Wed Dec 15 15:22:58 2021       \n",
            "+-----------------------------------------------------------------------------+\n",
            "| NVIDIA-SMI 495.44       Driver Version: 460.32.03    CUDA Version: 11.2     |\n",
            "|-------------------------------+----------------------+----------------------+\n",
            "| GPU  Name        Persistence-M| Bus-Id        Disp.A | Volatile Uncorr. ECC |\n",
            "| Fan  Temp  Perf  Pwr:Usage/Cap|         Memory-Usage | GPU-Util  Compute M. |\n",
            "|                               |                      |               MIG M. |\n",
            "|===============================+======================+======================|\n",
            "|   0  Tesla K80           Off  | 00000000:00:04.0 Off |                    0 |\n",
            "| N/A   47C    P8    27W / 149W |      0MiB / 11441MiB |      0%      Default |\n",
            "|                               |                      |                  N/A |\n",
            "+-------------------------------+----------------------+----------------------+\n",
            "                                                                               \n",
            "+-----------------------------------------------------------------------------+\n",
            "| Processes:                                                                  |\n",
            "|  GPU   GI   CI        PID   Type   Process name                  GPU Memory |\n",
            "|        ID   ID                                                   Usage      |\n",
            "|=============================================================================|\n",
            "|  No running processes found                                                 |\n",
            "+-----------------------------------------------------------------------------+\n"
          ]
        }
      ],
      "source": [
        "!nvidia-smi"
      ]
    },
    {
      "cell_type": "code",
      "execution_count": 4,
      "metadata": {
        "colab": {
          "base_uri": "https://localhost:8080/"
        },
        "id": "aKmhUvzg_RD3",
        "outputId": "14d63e8d-64c4-439f-e8a1-55096515a09f"
      },
      "outputs": [
        {
          "output_type": "stream",
          "name": "stdout",
          "text": [
            "['Id cards Free Template ( Google Sync Ready ) (Community) (1).zip (Unzipped Files)', 'data_satelite_demo', 'desert', 'cloudy', 'green_area', 'train', 'valid', 'test', 'water', '.ipynb_checkpoints']\n"
          ]
        }
      ],
      "source": [
        "import warnings\n",
        "warnings.filterwarnings('ignore')\n",
        "# Get all the paths\n",
        "data_dir_list = os.listdir('/content/drive/MyDrive/data')\n",
        "print(data_dir_list)\n",
        "path, dirs, files = next(os.walk(\"/content/drive/MyDrive/data\"))\n",
        "file_count = len(files)\n",
        "# print(file_count)"
      ]
    },
    {
      "cell_type": "code",
      "execution_count": 5,
      "metadata": {
        "colab": {
          "base_uri": "https://localhost:8080/",
          "height": 36
        },
        "id": "4LgKofKZBwUv",
        "outputId": "826c0b61-b824-403a-a841-077869a520ed"
      },
      "outputs": [
        {
          "output_type": "execute_result",
          "data": {
            "application/vnd.google.colaboratory.intrinsic+json": {
              "type": "string"
            },
            "text/plain": [
              "\"original_dataset_dir ='/content/drive/MyDrive/Data'\\nbase_dir ='/content/satelite-data/'\\nos.mkdir(base_dir)\""
            ]
          },
          "metadata": {},
          "execution_count": 5
        }
      ],
      "source": [
        "#make new base directory\n",
        "'''original_dataset_dir ='/content/drive/MyDrive/Data'\n",
        "base_dir ='/content/satelite-data/'\n",
        "os.mkdir(base_dir)'''"
      ]
    },
    {
      "cell_type": "code",
      "execution_count": 6,
      "metadata": {
        "colab": {
          "base_uri": "https://localhost:8080/",
          "height": 36
        },
        "id": "pOzljgNjCKMc",
        "outputId": "011e47ba-701b-464c-a010-8411def1634d"
      },
      "outputs": [
        {
          "output_type": "execute_result",
          "data": {
            "application/vnd.google.colaboratory.intrinsic+json": {
              "type": "string"
            },
            "text/plain": [
              "\"train_dir = os.path.join(base_dir, 'train')\\nos.mkdir(train_dir)\\n\\nvalidation_dir = os.path.join(base_dir, 'validation')\\nos.mkdir(validation_dir)\""
            ]
          },
          "metadata": {},
          "execution_count": 6
        }
      ],
      "source": [
        "#create two folders (train and validation)\n",
        "'''train_dir = os.path.join(base_dir, 'train')\n",
        "os.mkdir(train_dir)\n",
        "\n",
        "validation_dir = os.path.join(base_dir, 'validation')\n",
        "os.mkdir(validation_dir)'''"
      ]
    },
    {
      "cell_type": "code",
      "execution_count": 7,
      "metadata": {
        "colab": {
          "base_uri": "https://localhost:8080/",
          "height": 93
        },
        "id": "ZEiCiW2dD20Y",
        "outputId": "a7513229-2cb1-4e6a-adcf-bcb1ae8f27e8"
      },
      "outputs": [
        {
          "output_type": "execute_result",
          "data": {
            "application/vnd.google.colaboratory.intrinsic+json": {
              "type": "string"
            },
            "text/plain": [
              "\"train_desert_dir = os.path.join(train_dir, 'desert')\\nos.mkdir(train_desert_dir)\\n\\ntrain_cloudy_dir = os.path.join(train_dir, 'cloudy')\\nos.mkdir(train_cloudy_dir)\\n\\ntrain_green_area_dir = os.path.join(train_dir, 'green_area')\\nos.mkdir(train_green_area_dir)\\n\\ntrain_water_dir = os.path.join(train_dir, 'water')\\nos.mkdir(train_water_dir)\\n\\n#Under validation folder create four folders \\n# (desert, cloudy,green_area,water)\\n\\nvalidation_desert_dir = os.path.join(validation_dir, 'desert')\\nos.mkdir(validation_desert_dir)\\n\\nvalidation_cloudy_dir = os.path.join(validation_dir, 'cloudy')\\nos.mkdir(validation_cloudy_dir)\\n\\nvalidation_green_area_dir = os.path.join(validation_dir, 'green_area')\\nos.mkdir(validation_green_area_dir)\\n\\nvalidation_water_dir = os.path.join(validation_dir, 'water')\\nos.mkdir(validation_water_dir)\""
            ]
          },
          "metadata": {},
          "execution_count": 7
        }
      ],
      "source": [
        "#Under train folder create four folders \n",
        "# (desert, cloudy,green_area,water)\n",
        "\n",
        "'''train_desert_dir = os.path.join(train_dir, 'desert')\n",
        "os.mkdir(train_desert_dir)\n",
        "\n",
        "train_cloudy_dir = os.path.join(train_dir, 'cloudy')\n",
        "os.mkdir(train_cloudy_dir)\n",
        "\n",
        "train_green_area_dir = os.path.join(train_dir, 'green_area')\n",
        "os.mkdir(train_green_area_dir)\n",
        "\n",
        "train_water_dir = os.path.join(train_dir, 'water')\n",
        "os.mkdir(train_water_dir)\n",
        "\n",
        "#Under validation folder create four folders \n",
        "# (desert, cloudy,green_area,water)\n",
        "\n",
        "validation_desert_dir = os.path.join(validation_dir, 'desert')\n",
        "os.mkdir(validation_desert_dir)\n",
        "\n",
        "validation_cloudy_dir = os.path.join(validation_dir, 'cloudy')\n",
        "os.mkdir(validation_cloudy_dir)\n",
        "\n",
        "validation_green_area_dir = os.path.join(validation_dir, 'green_area')\n",
        "os.mkdir(validation_green_area_dir)\n",
        "\n",
        "validation_water_dir = os.path.join(validation_dir, 'water')\n",
        "os.mkdir(validation_water_dir)'''\n",
        "\n"
      ]
    },
    {
      "cell_type": "code",
      "execution_count": 8,
      "metadata": {
        "colab": {
          "base_uri": "https://localhost:8080/",
          "height": 93
        },
        "id": "vgqIRNkqJ5En",
        "outputId": "e71ae0a7-3e9c-4bec-ceec-da9f76134c67"
      },
      "outputs": [
        {
          "output_type": "execute_result",
          "data": {
            "application/vnd.google.colaboratory.intrinsic+json": {
              "type": "string"
            },
            "text/plain": [
              "'def split_data(SOURCE, TRAINING, VALIDATION, SPLIT_SIZE):\\n    files = []\\n    for filename in os.listdir(SOURCE):\\n        file = SOURCE + filename\\n        if os.path.getsize(file) > 0:\\n            files.append(filename)\\n        else:\\n            print(filename + \" is zero length, so ignoring.\")\\n\\n    training_length = int(len(files) * SPLIT_SIZE)\\n    valid_length = int(len(files) - training_length)\\n    shuffled_set = random.sample(files, len(files))\\n    training_set = shuffled_set[0:training_length]\\n    valid_set = shuffled_set[training_length:]\\n\\n    for filename in training_set:\\n        this_file = SOURCE + filename\\n        destination = TRAINING + filename\\n        copyfile(this_file, destination)\\n\\n    for filename in valid_set:\\n        this_file = SOURCE + filename\\n        destination = VALIDATION + filename\\n        copyfile(this_file, destination)'"
            ]
          },
          "metadata": {},
          "execution_count": 8
        }
      ],
      "source": [
        "'''def split_data(SOURCE, TRAINING, VALIDATION, SPLIT_SIZE):\n",
        "    files = []\n",
        "    for filename in os.listdir(SOURCE):\n",
        "        file = SOURCE + filename\n",
        "        if os.path.getsize(file) > 0:\n",
        "            files.append(filename)\n",
        "        else:\n",
        "            print(filename + \" is zero length, so ignoring.\")\n",
        "\n",
        "    training_length = int(len(files) * SPLIT_SIZE)\n",
        "    valid_length = int(len(files) - training_length)\n",
        "    shuffled_set = random.sample(files, len(files))\n",
        "    training_set = shuffled_set[0:training_length]\n",
        "    valid_set = shuffled_set[training_length:]\n",
        "\n",
        "    for filename in training_set:\n",
        "        this_file = SOURCE + filename\n",
        "        destination = TRAINING + filename\n",
        "        copyfile(this_file, destination)\n",
        "\n",
        "    for filename in valid_set:\n",
        "        this_file = SOURCE + filename\n",
        "        destination = VALIDATION + filename\n",
        "        copyfile(this_file, destination)'''"
      ]
    },
    {
      "cell_type": "code",
      "execution_count": 9,
      "metadata": {
        "colab": {
          "base_uri": "https://localhost:8080/",
          "height": 73
        },
        "id": "BkaGINDIQXuS",
        "outputId": "1ade1349-c227-4b74-8e40-d0584d669bff"
      },
      "outputs": [
        {
          "output_type": "execute_result",
          "data": {
            "application/vnd.google.colaboratory.intrinsic+json": {
              "type": "string"
            },
            "text/plain": [
              "\"CLOUDY_SOURCE_DIR = '/content/dataset/cloudy/'\\nTRAINING_CLOUDY_DIR = '/content/weather-data/train/cloudy/'\\nVALID_CLOUDY_DIR = '/content/weather-data/validation/cloudy/'\\n\\nFOGGY_SOURCE_DIR = '/content/dataset/foggy/'\\nTRAINING_FOGGY_DIR = '/content/weather-data/train/foggy/'\\nVALID_FOGGY_DIR = '/content/weather-data/validation/foggy/'\\n\\nRAINY_SOURCE_DIR = '/content/dataset/rainy/'\\nTRAINING_RAINY_DIR = '/content/weather-data/train/rainy/'\\nVALID_RAINY_DIR = '/content/weather-data/validation/rainy/'\\n\\nSHINE_SOURCE_DIR = '/content/dataset/shine/'\\nTRAINING_SHINE_DIR = '/content/weather-data/train/shine/'\\nVALID_SHINE_DIR = '/content/weather-data/validation/shine/\""
            ]
          },
          "metadata": {},
          "execution_count": 9
        }
      ],
      "source": [
        "'''CLOUDY_SOURCE_DIR = '/content/dataset/cloudy/'\n",
        "TRAINING_CLOUDY_DIR = '/content/weather-data/train/cloudy/'\n",
        "VALID_CLOUDY_DIR = '/content/weather-data/validation/cloudy/'\n",
        "\n",
        "FOGGY_SOURCE_DIR = '/content/dataset/foggy/'\n",
        "TRAINING_FOGGY_DIR = '/content/weather-data/train/foggy/'\n",
        "VALID_FOGGY_DIR = '/content/weather-data/validation/foggy/'\n",
        "\n",
        "RAINY_SOURCE_DIR = '/content/dataset/rainy/'\n",
        "TRAINING_RAINY_DIR = '/content/weather-data/train/rainy/'\n",
        "VALID_RAINY_DIR = '/content/weather-data/validation/rainy/'\n",
        "\n",
        "SHINE_SOURCE_DIR = '/content/dataset/shine/'\n",
        "TRAINING_SHINE_DIR = '/content/weather-data/train/shine/'\n",
        "VALID_SHINE_DIR = '/content/weather-data/validation/shine/'''\n"
      ]
    },
    {
      "cell_type": "code",
      "execution_count": 10,
      "metadata": {
        "colab": {
          "base_uri": "https://localhost:8080/",
          "height": 55
        },
        "id": "krN6ZdW3PTpL",
        "outputId": "45e85379-0c06-4026-a4d3-7653bd97a8f5"
      },
      "outputs": [
        {
          "output_type": "execute_result",
          "data": {
            "application/vnd.google.colaboratory.intrinsic+json": {
              "type": "string"
            },
            "text/plain": [
              "'from shutil import copyfile\\n\\nsplit_size = .85\\n\\nsplit_data(CLOUDY_SOURCE_DIR, TRAINING_CLOUDY_DIR, VALID_CLOUDY_DIR, split_size)\\nsplit_data(FOGGY_SOURCE_DIR, TRAINING_FOGGY_DIR, VALID_FOGGY_DIR, split_size)\\nsplit_data(RAINY_SOURCE_DIR, TRAINING_RAINY_DIR, VALID_RAINY_DIR, split_size)\\nsplit_data(SHINE_SOURCE_DIR, TRAINING_SHINE_DIR, VALID_SHINE_DIR, split_size)\\nsplit_data(SUNRISE_SOURCE_DIR, TRAINING_SUNRISE_DIR, VALID_SUNRISE_DIR, split_size)'"
            ]
          },
          "metadata": {},
          "execution_count": 10
        }
      ],
      "source": [
        "'''from shutil import copyfile\n",
        "\n",
        "split_size = .85\n",
        "\n",
        "split_data(CLOUDY_SOURCE_DIR, TRAINING_CLOUDY_DIR, VALID_CLOUDY_DIR, split_size)\n",
        "split_data(FOGGY_SOURCE_DIR, TRAINING_FOGGY_DIR, VALID_FOGGY_DIR, split_size)\n",
        "split_data(RAINY_SOURCE_DIR, TRAINING_RAINY_DIR, VALID_RAINY_DIR, split_size)\n",
        "split_data(SHINE_SOURCE_DIR, TRAINING_SHINE_DIR, VALID_SHINE_DIR, split_size)\n",
        "split_data(SUNRISE_SOURCE_DIR, TRAINING_SUNRISE_DIR, VALID_SUNRISE_DIR, split_size)'''"
      ]
    },
    {
      "cell_type": "code",
      "execution_count": 11,
      "metadata": {
        "id": "0LLrBH8lMeTY"
      },
      "outputs": [],
      "source": [
        "train_path=\"/content/drive/MyDrive/data/data_satelite_demo/train_set\" \n",
        "test_path=\"/content/drive/MyDrive/data/data_satelite_demo/test_set\""
      ]
    },
    {
      "cell_type": "code",
      "execution_count": 12,
      "metadata": {
        "id": "adi1W8tpiWLR"
      },
      "outputs": [],
      "source": [
        "img_width=64; img_height=64\n",
        "batch_size=50"
      ]
    },
    {
      "cell_type": "code",
      "execution_count": 13,
      "metadata": {
        "colab": {
          "base_uri": "https://localhost:8080/"
        },
        "id": "jB5iSEAUP_Dl",
        "outputId": "3b058218-b711-4e7f-9ae7-3477bef2b634"
      },
      "outputs": [
        {
          "output_type": "stream",
          "name": "stdout",
          "text": [
            "Found 4401 images belonging to 4 classes.\n"
          ]
        }
      ],
      "source": [
        "train_datagen = ImageDataGenerator(rescale = 1/255.0,\n",
        "                                   rotation_range=30,\n",
        "                                   zoom_range=0.4,\n",
        "                                   horizontal_flip=True)\n",
        "\n",
        "train_generator = train_datagen.flow_from_directory(train_path,\n",
        "                                                    batch_size=batch_size,\n",
        "                                                    class_mode='categorical',\n",
        "                                                    target_size=(img_height, img_width))"
      ]
    },
    {
      "cell_type": "code",
      "execution_count": 14,
      "metadata": {
        "colab": {
          "base_uri": "https://localhost:8080/"
        },
        "id": "3QBwAAPujYZf",
        "outputId": "5762b6f9-12fd-4b47-979f-c2dbd5a09968"
      },
      "outputs": [
        {
          "output_type": "stream",
          "name": "stdout",
          "text": [
            "Found 1230 images belonging to 4 classes.\n"
          ]
        }
      ],
      "source": [
        "validation_datagen = ImageDataGenerator(rescale = 1/255.0)\n",
        "\n",
        "validation_generator = validation_datagen.flow_from_directory(test_path,\n",
        "                                                              batch_size=batch_size,\n",
        "                                                              class_mode='categorical',\n",
        "                                                              target_size=(img_height, img_width)\n",
        "                                                             )"
      ]
    },
    {
      "cell_type": "code",
      "execution_count": 15,
      "metadata": {
        "id": "wODeu0l2h4px"
      },
      "outputs": [],
      "source": [
        "img_width=64; img_height=64\n",
        "batch_size=50"
      ]
    },
    {
      "cell_type": "code",
      "execution_count": 16,
      "metadata": {
        "id": "umGfURM7jtpo"
      },
      "outputs": [],
      "source": [
        "from tensorflow.keras.callbacks import EarlyStopping, ModelCheckpoint\n",
        "callbacks = EarlyStopping(monitor='val_loss', patience=5, verbose=1, mode='auto')\n",
        "# autosave best Model\n",
        "best_model_file = '/content/fNet2.h5'\n",
        "best_model = ModelCheckpoint(best_model_file, monitor='val_acc', verbose = 1, save_best_only = True)"
      ]
    },
    {
      "cell_type": "code",
      "execution_count": 17,
      "metadata": {
        "id": "5cJp0jOJWMpX"
      },
      "outputs": [],
      "source": [
        "fNet2=Sequential([Conv2D(filters=32,kernel_size=(3,3),activation='relu',padding='same',input_shape=(64,64,3)),\n",
        "     MaxPool2D(pool_size=(2,2),strides=2),\n",
        "     Conv2D(filters=64,kernel_size=(3,3),activation='relu',padding='same'),\n",
        "     MaxPool2D(pool_size=(2,2),strides=2),\n",
        "     Flatten(), Dense(units=4,activation='softmax')])\n",
        "    "
      ]
    },
    {
      "cell_type": "code",
      "execution_count": 18,
      "metadata": {
        "colab": {
          "base_uri": "https://localhost:8080/"
        },
        "id": "W4PCEgE2kgU5",
        "outputId": "4c25efdb-ab1b-4fdd-b5d4-2bb83d3bfdaa"
      },
      "outputs": [
        {
          "output_type": "stream",
          "name": "stdout",
          "text": [
            "Model: \"sequential\"\n",
            "_________________________________________________________________\n",
            " Layer (type)                Output Shape              Param #   \n",
            "=================================================================\n",
            " conv2d (Conv2D)             (None, 64, 64, 32)        896       \n",
            "                                                                 \n",
            " max_pooling2d (MaxPooling2D  (None, 32, 32, 32)       0         \n",
            " )                                                               \n",
            "                                                                 \n",
            " conv2d_1 (Conv2D)           (None, 32, 32, 64)        18496     \n",
            "                                                                 \n",
            " max_pooling2d_1 (MaxPooling  (None, 16, 16, 64)       0         \n",
            " 2D)                                                             \n",
            "                                                                 \n",
            " flatten (Flatten)           (None, 16384)             0         \n",
            "                                                                 \n",
            " dense (Dense)               (None, 4)                 65540     \n",
            "                                                                 \n",
            "=================================================================\n",
            "Total params: 84,932\n",
            "Trainable params: 84,932\n",
            "Non-trainable params: 0\n",
            "_________________________________________________________________\n"
          ]
        }
      ],
      "source": [
        "fNet2.summary()"
      ]
    },
    {
      "cell_type": "code",
      "execution_count": 19,
      "metadata": {
        "id": "mCuHgQXKkm98"
      },
      "outputs": [],
      "source": [
        "fNet2.compile(optimizer='Adam', \n",
        "              loss='categorical_crossentropy', \n",
        "              metrics =['accuracy'])"
      ]
    },
    {
      "cell_type": "code",
      "execution_count": 20,
      "metadata": {
        "colab": {
          "base_uri": "https://localhost:8080/"
        },
        "id": "wM3-ZHfzlAYw",
        "outputId": "eee2d587-9e12-46cd-8c91-e3fa3ea5f651"
      },
      "outputs": [
        {
          "output_type": "stream",
          "name": "stdout",
          "text": [
            "Epoch 1/20\n",
            "WARNING:tensorflow:Can save best model only with val_acc available, skipping.\n",
            "89/89 - 263s - loss: 0.6657 - accuracy: 0.6614 - val_loss: 0.5099 - val_accuracy: 0.8130 - 263s/epoch - 3s/step\n",
            "Epoch 2/20\n",
            "WARNING:tensorflow:Can save best model only with val_acc available, skipping.\n",
            "89/89 - 21s - loss: 0.3947 - accuracy: 0.8305 - val_loss: 0.4390 - val_accuracy: 0.6813 - 21s/epoch - 232ms/step\n",
            "Epoch 3/20\n",
            "WARNING:tensorflow:Can save best model only with val_acc available, skipping.\n",
            "89/89 - 21s - loss: 0.3396 - accuracy: 0.8605 - val_loss: 0.3307 - val_accuracy: 0.8707 - 21s/epoch - 233ms/step\n",
            "Epoch 4/20\n",
            "WARNING:tensorflow:Can save best model only with val_acc available, skipping.\n",
            "89/89 - 21s - loss: 0.3271 - accuracy: 0.8634 - val_loss: 0.3376 - val_accuracy: 0.8618 - 21s/epoch - 231ms/step\n",
            "Epoch 5/20\n",
            "WARNING:tensorflow:Can save best model only with val_acc available, skipping.\n",
            "89/89 - 21s - loss: 0.3239 - accuracy: 0.8675 - val_loss: 0.2937 - val_accuracy: 0.8854 - 21s/epoch - 232ms/step\n",
            "Epoch 6/20\n",
            "WARNING:tensorflow:Can save best model only with val_acc available, skipping.\n",
            "89/89 - 21s - loss: 0.2767 - accuracy: 0.8898 - val_loss: 0.3462 - val_accuracy: 0.8675 - 21s/epoch - 230ms/step\n",
            "Epoch 7/20\n",
            "WARNING:tensorflow:Can save best model only with val_acc available, skipping.\n",
            "89/89 - 20s - loss: 0.2672 - accuracy: 0.8941 - val_loss: 0.2960 - val_accuracy: 0.8780 - 20s/epoch - 230ms/step\n",
            "Epoch 8/20\n",
            "WARNING:tensorflow:Can save best model only with val_acc available, skipping.\n",
            "89/89 - 21s - loss: 0.2541 - accuracy: 0.9014 - val_loss: 0.2839 - val_accuracy: 0.8846 - 21s/epoch - 231ms/step\n",
            "Epoch 9/20\n",
            "WARNING:tensorflow:Can save best model only with val_acc available, skipping.\n",
            "89/89 - 21s - loss: 0.2458 - accuracy: 0.9012 - val_loss: 0.2865 - val_accuracy: 0.8553 - 21s/epoch - 231ms/step\n",
            "Epoch 10/20\n",
            "WARNING:tensorflow:Can save best model only with val_acc available, skipping.\n",
            "89/89 - 21s - loss: 0.2972 - accuracy: 0.8709 - val_loss: 0.2674 - val_accuracy: 0.9033 - 21s/epoch - 233ms/step\n",
            "Epoch 11/20\n",
            "WARNING:tensorflow:Can save best model only with val_acc available, skipping.\n",
            "89/89 - 21s - loss: 0.2996 - accuracy: 0.8778 - val_loss: 0.2576 - val_accuracy: 0.8886 - 21s/epoch - 231ms/step\n",
            "Epoch 12/20\n",
            "WARNING:tensorflow:Can save best model only with val_acc available, skipping.\n",
            "89/89 - 21s - loss: 0.2526 - accuracy: 0.8973 - val_loss: 0.2308 - val_accuracy: 0.9130 - 21s/epoch - 232ms/step\n",
            "Epoch 13/20\n",
            "WARNING:tensorflow:Can save best model only with val_acc available, skipping.\n",
            "89/89 - 21s - loss: 0.2749 - accuracy: 0.8878 - val_loss: 0.4704 - val_accuracy: 0.7927 - 21s/epoch - 233ms/step\n",
            "Epoch 14/20\n",
            "WARNING:tensorflow:Can save best model only with val_acc available, skipping.\n",
            "89/89 - 21s - loss: 0.2621 - accuracy: 0.8934 - val_loss: 0.3149 - val_accuracy: 0.8398 - 21s/epoch - 231ms/step\n",
            "Epoch 15/20\n",
            "WARNING:tensorflow:Can save best model only with val_acc available, skipping.\n",
            "89/89 - 20s - loss: 0.2909 - accuracy: 0.8816 - val_loss: 0.2343 - val_accuracy: 0.9203 - 20s/epoch - 230ms/step\n",
            "Epoch 16/20\n",
            "WARNING:tensorflow:Can save best model only with val_acc available, skipping.\n",
            "89/89 - 20s - loss: 0.2779 - accuracy: 0.8862 - val_loss: 0.2459 - val_accuracy: 0.9089 - 20s/epoch - 229ms/step\n",
            "Epoch 17/20\n",
            "WARNING:tensorflow:Can save best model only with val_acc available, skipping.\n",
            "89/89 - 20s - loss: 0.2778 - accuracy: 0.8909 - val_loss: 0.2716 - val_accuracy: 0.9000 - 20s/epoch - 230ms/step\n",
            "Epoch 18/20\n",
            "WARNING:tensorflow:Can save best model only with val_acc available, skipping.\n",
            "89/89 - 21s - loss: 0.2390 - accuracy: 0.9062 - val_loss: 0.2752 - val_accuracy: 0.8780 - 21s/epoch - 231ms/step\n",
            "Epoch 19/20\n",
            "WARNING:tensorflow:Can save best model only with val_acc available, skipping.\n",
            "89/89 - 20s - loss: 0.2137 - accuracy: 0.9184 - val_loss: 0.2211 - val_accuracy: 0.9163 - 20s/epoch - 229ms/step\n",
            "Epoch 20/20\n",
            "WARNING:tensorflow:Can save best model only with val_acc available, skipping.\n",
            "89/89 - 20s - loss: 0.2153 - accuracy: 0.9173 - val_loss: 0.2903 - val_accuracy: 0.8455 - 20s/epoch - 229ms/step\n"
          ]
        },
        {
          "output_type": "execute_result",
          "data": {
            "text/plain": [
              "<keras.callbacks.History at 0x7fbcace27a10>"
            ]
          },
          "metadata": {},
          "execution_count": 20
        }
      ],
      "source": [
        "fNet2.fit_generator(train_generator,\n",
        "                              epochs=20,\n",
        "                              verbose=2,\n",
        "                              validation_data=validation_generator,\n",
        "                              callbacks = [best_model]\n",
        "                              )"
      ]
    }
  ],
  "metadata": {
    "accelerator": "GPU",
    "colab": {
      "name": "Satelite Imagery Demo Project.ipynb",
      "provenance": [],
      "mount_file_id": "1l7n1AFZFOpM9VStoClJKgCXX_a-CUitC",
      "authorship_tag": "ABX9TyMn/PgulcUM2Kyu6SwBsAuX",
      "include_colab_link": true
    },
    "kernelspec": {
      "display_name": "Python 3",
      "name": "python3"
    },
    "language_info": {
      "name": "python"
    }
  },
  "nbformat": 4,
  "nbformat_minor": 0
}