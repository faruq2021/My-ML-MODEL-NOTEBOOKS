{
 "cells": [
  {
   "cell_type": "markdown",
   "metadata": {},
   "source": [
    "## Hamoye ML Project Electric Cars - Team Prophet v3"
   ]
  },
  {
   "cell_type": "code",
   "execution_count": 1,
   "metadata": {},
   "outputs": [],
   "source": [
    "import pandas as pd\n",
    "import numpy as np\n",
    "import seaborn as sns\n",
    "import matplotlib.pyplot as plt"
   ]
  },
  {
   "cell_type": "code",
   "execution_count": 2,
   "metadata": {},
   "outputs": [],
   "source": [
    "df = pd.read_csv('D:\\\\People\\\\Amit\\\\Hamoye\\\\project\\\\electric_cars_with-outlier.csv')"
   ]
  },
  {
   "cell_type": "code",
   "execution_count": 3,
   "metadata": {},
   "outputs": [
    {
     "data": {
      "text/plain": [
       "vehicle_name         0\n",
       "model                0\n",
       "battery              0\n",
       "seats                0\n",
       "acceleration         0\n",
       "top_speed            0\n",
       "distance             0\n",
       "efficiency           0\n",
       "fast_charge          5\n",
       "price_pounds        45\n",
       "price_germany       13\n",
       "price_netherland    25\n",
       "dtype: int64"
      ]
     },
     "execution_count": 3,
     "metadata": {},
     "output_type": "execute_result"
    }
   ],
   "source": [
    "df.isnull().sum()"
   ]
  },
  {
   "cell_type": "code",
   "execution_count": 4,
   "metadata": {},
   "outputs": [],
   "source": [
    "# Considering the fact that five vehicles dont have Fast Charge we will replace the string - with zero\n",
    "df['fast_charge'] = df['fast_charge'].replace(to_replace=np.nan, value=0)"
   ]
  },
  {
   "cell_type": "code",
   "execution_count": 5,
   "metadata": {},
   "outputs": [
    {
     "data": {
      "text/plain": [
       "vehicle_name         object\n",
       "model                object\n",
       "battery             float64\n",
       "seats                 int64\n",
       "acceleration        float64\n",
       "top_speed             int64\n",
       "distance              int64\n",
       "efficiency            int64\n",
       "fast_charge         float64\n",
       "price_pounds        float64\n",
       "price_germany       float64\n",
       "price_netherland    float64\n",
       "dtype: object"
      ]
     },
     "execution_count": 5,
     "metadata": {},
     "output_type": "execute_result"
    }
   ],
   "source": [
    "df.dtypes"
   ]
  },
  {
   "cell_type": "code",
   "execution_count": 6,
   "metadata": {},
   "outputs": [
    {
     "data": {
      "text/plain": [
       "0"
      ]
     },
     "execution_count": 6,
     "metadata": {},
     "output_type": "execute_result"
    }
   ],
   "source": [
    "df['fast_charge'].isnull().sum()"
   ]
  },
  {
   "cell_type": "code",
   "execution_count": 25,
   "metadata": {},
   "outputs": [
    {
     "data": {
      "text/plain": [
       "vehicle_name          0\n",
       "model                 0\n",
       "battery               0\n",
       "seats                 0\n",
       "acceleration          0\n",
       "top_speed             0\n",
       "distance              0\n",
       "efficiency            0\n",
       "fast_charge           0\n",
       "price_pounds         45\n",
       "price_germany         0\n",
       "price_netherland     25\n",
       "price_usd             0\n",
       "vehicle_name_code     0\n",
       "dtype: int64"
      ]
     },
     "execution_count": 25,
     "metadata": {},
     "output_type": "execute_result"
    }
   ],
   "source": [
    "## Filling Null Values in germany using pounds and netherland\n",
    "for i in range(len(df)):\n",
    "    if (df.isna()['price_germany'][i]):\n",
    "        if (df['price_pounds'][i]!=0) and (not df.isna()['price_pounds'][i]):\n",
    "            df['price_germany'][i] = round(df['price_pounds'][i]/1.17)\n",
    "        elif (df['price_netherland'][i]!=0) and (not df.isna()['price_netherland'][i]):\n",
    "             df['price_germany'][i]= round(df['price_netherland'][i])\n",
    "    \n",
    "df.isnull().sum()"
   ]
  },
  {
   "cell_type": "code",
   "execution_count": 8,
   "metadata": {},
   "outputs": [
    {
     "data": {
      "text/plain": [
       "vehicle_name         object\n",
       "model                object\n",
       "battery             float64\n",
       "seats                 int64\n",
       "acceleration        float64\n",
       "top_speed             int64\n",
       "distance              int64\n",
       "efficiency            int64\n",
       "fast_charge         float64\n",
       "price_pounds        float64\n",
       "price_germany       float64\n",
       "price_netherland    float64\n",
       "dtype: object"
      ]
     },
     "execution_count": 8,
     "metadata": {},
     "output_type": "execute_result"
    }
   ],
   "source": [
    "df.dtypes"
   ]
  },
  {
   "cell_type": "code",
   "execution_count": 9,
   "metadata": {},
   "outputs": [],
   "source": [
    "#### Now we use price_germany to get prices in USD\n",
    "df['price_usd'] = round((df['price_germany']/1.18))"
   ]
  },
  {
   "cell_type": "code",
   "execution_count": 10,
   "metadata": {},
   "outputs": [
    {
     "data": {
      "text/html": [
       "<div>\n",
       "<style scoped>\n",
       "    .dataframe tbody tr th:only-of-type {\n",
       "        vertical-align: middle;\n",
       "    }\n",
       "\n",
       "    .dataframe tbody tr th {\n",
       "        vertical-align: top;\n",
       "    }\n",
       "\n",
       "    .dataframe thead th {\n",
       "        text-align: right;\n",
       "    }\n",
       "</style>\n",
       "<table border=\"1\" class=\"dataframe\">\n",
       "  <thead>\n",
       "    <tr style=\"text-align: right;\">\n",
       "      <th></th>\n",
       "      <th>vehicle_name</th>\n",
       "      <th>model</th>\n",
       "      <th>battery</th>\n",
       "      <th>seats</th>\n",
       "      <th>acceleration</th>\n",
       "      <th>top_speed</th>\n",
       "      <th>distance</th>\n",
       "      <th>efficiency</th>\n",
       "      <th>fast_charge</th>\n",
       "      <th>price_pounds</th>\n",
       "      <th>price_germany</th>\n",
       "      <th>price_netherland</th>\n",
       "      <th>price_usd</th>\n",
       "    </tr>\n",
       "  </thead>\n",
       "  <tbody>\n",
       "    <tr>\n",
       "      <th>0</th>\n",
       "      <td>Tesla</td>\n",
       "      <td>Model 3 Standard Range Plus LFP</td>\n",
       "      <td>52.5</td>\n",
       "      <td>5</td>\n",
       "      <td>5.6</td>\n",
       "      <td>225</td>\n",
       "      <td>350</td>\n",
       "      <td>150</td>\n",
       "      <td>560.0</td>\n",
       "      <td>40990.0</td>\n",
       "      <td>43560.0</td>\n",
       "      <td>49990.0</td>\n",
       "      <td>36915.0</td>\n",
       "    </tr>\n",
       "    <tr>\n",
       "      <th>1</th>\n",
       "      <td>Mercedes</td>\n",
       "      <td>EQS 580 4MATIC</td>\n",
       "      <td>107.8</td>\n",
       "      <td>5</td>\n",
       "      <td>4.3</td>\n",
       "      <td>210</td>\n",
       "      <td>610</td>\n",
       "      <td>177</td>\n",
       "      <td>800.0</td>\n",
       "      <td>115000.0</td>\n",
       "      <td>135529.0</td>\n",
       "      <td>140000.0</td>\n",
       "      <td>114855.0</td>\n",
       "    </tr>\n",
       "    <tr>\n",
       "      <th>2</th>\n",
       "      <td>Tesla</td>\n",
       "      <td>Model Y Long Range Dual Motor</td>\n",
       "      <td>70.0</td>\n",
       "      <td>7</td>\n",
       "      <td>5.0</td>\n",
       "      <td>217</td>\n",
       "      <td>410</td>\n",
       "      <td>171</td>\n",
       "      <td>520.0</td>\n",
       "      <td>54000.0</td>\n",
       "      <td>59965.0</td>\n",
       "      <td>65010.0</td>\n",
       "      <td>50818.0</td>\n",
       "    </tr>\n",
       "    <tr>\n",
       "      <th>3</th>\n",
       "      <td>Kia</td>\n",
       "      <td>EV6 GT</td>\n",
       "      <td>77.4</td>\n",
       "      <td>5</td>\n",
       "      <td>3.5</td>\n",
       "      <td>260</td>\n",
       "      <td>395</td>\n",
       "      <td>196</td>\n",
       "      <td>920.0</td>\n",
       "      <td>58295.0</td>\n",
       "      <td>65990.0</td>\n",
       "      <td>63595.0</td>\n",
       "      <td>55924.0</td>\n",
       "    </tr>\n",
       "    <tr>\n",
       "      <th>4</th>\n",
       "      <td>Tesla</td>\n",
       "      <td>Model 3 Long Range Dual Motor</td>\n",
       "      <td>70.0</td>\n",
       "      <td>5</td>\n",
       "      <td>4.4</td>\n",
       "      <td>233</td>\n",
       "      <td>455</td>\n",
       "      <td>154</td>\n",
       "      <td>570.0</td>\n",
       "      <td>48490.0</td>\n",
       "      <td>41444.0</td>\n",
       "      <td>NaN</td>\n",
       "      <td>35122.0</td>\n",
       "    </tr>\n",
       "  </tbody>\n",
       "</table>\n",
       "</div>"
      ],
      "text/plain": [
       "  vehicle_name                            model  battery  seats  acceleration  \\\n",
       "0        Tesla  Model 3 Standard Range Plus LFP     52.5      5           5.6   \n",
       "1     Mercedes                   EQS 580 4MATIC    107.8      5           4.3   \n",
       "2        Tesla    Model Y Long Range Dual Motor     70.0      7           5.0   \n",
       "3          Kia                           EV6 GT     77.4      5           3.5   \n",
       "4        Tesla    Model 3 Long Range Dual Motor     70.0      5           4.4   \n",
       "\n",
       "   top_speed  distance  efficiency  fast_charge  price_pounds  price_germany  \\\n",
       "0        225       350         150        560.0       40990.0        43560.0   \n",
       "1        210       610         177        800.0      115000.0       135529.0   \n",
       "2        217       410         171        520.0       54000.0        59965.0   \n",
       "3        260       395         196        920.0       58295.0        65990.0   \n",
       "4        233       455         154        570.0       48490.0        41444.0   \n",
       "\n",
       "   price_netherland  price_usd  \n",
       "0           49990.0    36915.0  \n",
       "1          140000.0   114855.0  \n",
       "2           65010.0    50818.0  \n",
       "3           63595.0    55924.0  \n",
       "4               NaN    35122.0  "
      ]
     },
     "execution_count": 10,
     "metadata": {},
     "output_type": "execute_result"
    }
   ],
   "source": [
    "df.head()"
   ]
  },
  {
   "cell_type": "code",
   "execution_count": 11,
   "metadata": {},
   "outputs": [],
   "source": [
    "## Replacing categorical variable Vehicle brand name to numerical values\n",
    "df[\"vehicle_name_code\"] = df[\"vehicle_name\"].astype('category').cat.codes"
   ]
  },
  {
   "cell_type": "code",
   "execution_count": 12,
   "metadata": {},
   "outputs": [
    {
     "data": {
      "text/html": [
       "<div>\n",
       "<style scoped>\n",
       "    .dataframe tbody tr th:only-of-type {\n",
       "        vertical-align: middle;\n",
       "    }\n",
       "\n",
       "    .dataframe tbody tr th {\n",
       "        vertical-align: top;\n",
       "    }\n",
       "\n",
       "    .dataframe thead th {\n",
       "        text-align: right;\n",
       "    }\n",
       "</style>\n",
       "<table border=\"1\" class=\"dataframe\">\n",
       "  <thead>\n",
       "    <tr style=\"text-align: right;\">\n",
       "      <th></th>\n",
       "      <th>vehicle_name</th>\n",
       "      <th>model</th>\n",
       "      <th>battery</th>\n",
       "      <th>seats</th>\n",
       "      <th>acceleration</th>\n",
       "      <th>top_speed</th>\n",
       "      <th>distance</th>\n",
       "      <th>efficiency</th>\n",
       "      <th>fast_charge</th>\n",
       "      <th>price_pounds</th>\n",
       "      <th>price_germany</th>\n",
       "      <th>price_netherland</th>\n",
       "      <th>price_usd</th>\n",
       "      <th>vehicle_name_code</th>\n",
       "    </tr>\n",
       "  </thead>\n",
       "  <tbody>\n",
       "    <tr>\n",
       "      <th>0</th>\n",
       "      <td>Tesla</td>\n",
       "      <td>Model 3 Standard Range Plus LFP</td>\n",
       "      <td>52.5</td>\n",
       "      <td>5</td>\n",
       "      <td>5.6</td>\n",
       "      <td>225</td>\n",
       "      <td>350</td>\n",
       "      <td>150</td>\n",
       "      <td>560.0</td>\n",
       "      <td>40990.0</td>\n",
       "      <td>43560.0</td>\n",
       "      <td>49990.0</td>\n",
       "      <td>36915.0</td>\n",
       "      <td>33</td>\n",
       "    </tr>\n",
       "    <tr>\n",
       "      <th>1</th>\n",
       "      <td>Mercedes</td>\n",
       "      <td>EQS 580 4MATIC</td>\n",
       "      <td>107.8</td>\n",
       "      <td>5</td>\n",
       "      <td>4.3</td>\n",
       "      <td>210</td>\n",
       "      <td>610</td>\n",
       "      <td>177</td>\n",
       "      <td>800.0</td>\n",
       "      <td>115000.0</td>\n",
       "      <td>135529.0</td>\n",
       "      <td>140000.0</td>\n",
       "      <td>114855.0</td>\n",
       "      <td>20</td>\n",
       "    </tr>\n",
       "    <tr>\n",
       "      <th>2</th>\n",
       "      <td>Tesla</td>\n",
       "      <td>Model Y Long Range Dual Motor</td>\n",
       "      <td>70.0</td>\n",
       "      <td>7</td>\n",
       "      <td>5.0</td>\n",
       "      <td>217</td>\n",
       "      <td>410</td>\n",
       "      <td>171</td>\n",
       "      <td>520.0</td>\n",
       "      <td>54000.0</td>\n",
       "      <td>59965.0</td>\n",
       "      <td>65010.0</td>\n",
       "      <td>50818.0</td>\n",
       "      <td>33</td>\n",
       "    </tr>\n",
       "    <tr>\n",
       "      <th>3</th>\n",
       "      <td>Kia</td>\n",
       "      <td>EV6 GT</td>\n",
       "      <td>77.4</td>\n",
       "      <td>5</td>\n",
       "      <td>3.5</td>\n",
       "      <td>260</td>\n",
       "      <td>395</td>\n",
       "      <td>196</td>\n",
       "      <td>920.0</td>\n",
       "      <td>58295.0</td>\n",
       "      <td>65990.0</td>\n",
       "      <td>63595.0</td>\n",
       "      <td>55924.0</td>\n",
       "      <td>14</td>\n",
       "    </tr>\n",
       "    <tr>\n",
       "      <th>4</th>\n",
       "      <td>Tesla</td>\n",
       "      <td>Model 3 Long Range Dual Motor</td>\n",
       "      <td>70.0</td>\n",
       "      <td>5</td>\n",
       "      <td>4.4</td>\n",
       "      <td>233</td>\n",
       "      <td>455</td>\n",
       "      <td>154</td>\n",
       "      <td>570.0</td>\n",
       "      <td>48490.0</td>\n",
       "      <td>41444.0</td>\n",
       "      <td>NaN</td>\n",
       "      <td>35122.0</td>\n",
       "      <td>33</td>\n",
       "    </tr>\n",
       "  </tbody>\n",
       "</table>\n",
       "</div>"
      ],
      "text/plain": [
       "  vehicle_name                            model  battery  seats  acceleration  \\\n",
       "0        Tesla  Model 3 Standard Range Plus LFP     52.5      5           5.6   \n",
       "1     Mercedes                   EQS 580 4MATIC    107.8      5           4.3   \n",
       "2        Tesla    Model Y Long Range Dual Motor     70.0      7           5.0   \n",
       "3          Kia                           EV6 GT     77.4      5           3.5   \n",
       "4        Tesla    Model 3 Long Range Dual Motor     70.0      5           4.4   \n",
       "\n",
       "   top_speed  distance  efficiency  fast_charge  price_pounds  price_germany  \\\n",
       "0        225       350         150        560.0       40990.0        43560.0   \n",
       "1        210       610         177        800.0      115000.0       135529.0   \n",
       "2        217       410         171        520.0       54000.0        59965.0   \n",
       "3        260       395         196        920.0       58295.0        65990.0   \n",
       "4        233       455         154        570.0       48490.0        41444.0   \n",
       "\n",
       "   price_netherland  price_usd  vehicle_name_code  \n",
       "0           49990.0    36915.0                 33  \n",
       "1          140000.0   114855.0                 20  \n",
       "2           65010.0    50818.0                 33  \n",
       "3           63595.0    55924.0                 14  \n",
       "4               NaN    35122.0                 33  "
      ]
     },
     "execution_count": 12,
     "metadata": {},
     "output_type": "execute_result"
    }
   ],
   "source": [
    "df.head()"
   ]
  },
  {
   "cell_type": "markdown",
   "metadata": {},
   "source": [
    "## Features and Target"
   ]
  },
  {
   "cell_type": "code",
   "execution_count": 13,
   "metadata": {},
   "outputs": [],
   "source": [
    "features = df[['battery', 'seats', 'acceleration',\n",
    "       'top_speed', 'distance', 'efficiency', 'fast_charge']]\n",
    "y = df['price_usd']"
   ]
  },
  {
   "cell_type": "markdown",
   "metadata": {},
   "source": [
    "## Normalizing the data using MinMax Scaler"
   ]
  },
  {
   "cell_type": "code",
   "execution_count": 14,
   "metadata": {},
   "outputs": [],
   "source": [
    "from sklearn.preprocessing import MinMaxScaler\n",
    "scaler = MinMaxScaler()\n",
    "x = pd.DataFrame(scaler.fit_transform(features), columns=features.columns)"
   ]
  },
  {
   "cell_type": "markdown",
   "metadata": {},
   "source": [
    "## Train Test Split\n"
   ]
  },
  {
   "cell_type": "code",
   "execution_count": 15,
   "metadata": {},
   "outputs": [],
   "source": [
    "## Train Test split\n",
    "from sklearn.model_selection import train_test_split\n",
    "x_train, x_test, y_train, y_test = train_test_split(x, y, test_size=0.3, random_state=101)"
   ]
  },
  {
   "cell_type": "markdown",
   "metadata": {},
   "source": [
    "## Linear Regression\n"
   ]
  },
  {
   "cell_type": "code",
   "execution_count": 16,
   "metadata": {},
   "outputs": [],
   "source": [
    "# Import Linear Regression Model\n",
    "from sklearn.linear_model import LinearRegression\n",
    "linear_model = LinearRegression()\n",
    "#fit the model to the training dataset\n",
    "linear_model.fit(x_train, y_train)\n",
    "#obtain predictions\n",
    "pred_1 = linear_model.predict(x_test)"
   ]
  },
  {
   "cell_type": "code",
   "execution_count": 17,
   "metadata": {},
   "outputs": [],
   "source": [
    "# Import Metrics for evaluation\n",
    "from sklearn import metrics"
   ]
  },
  {
   "cell_type": "code",
   "execution_count": 18,
   "metadata": {},
   "outputs": [
    {
     "name": "stdout",
     "output_type": "stream",
     "text": [
      "Mean Absolute Error (MAE) 15364.976071038482\n",
      "Mean Square Error (MSE) 533655163.1166564\n",
      "Root Mean Square Error (RMSE) 23100.97753595411\n",
      "R2 score 0.48044712829934066\n",
      "Explained Variance score 0.48795903007103747\n"
     ]
    }
   ],
   "source": [
    "print('Mean Absolute Error (MAE)', metrics.mean_absolute_error(y_test,pred_1))\n",
    "print('Mean Square Error (MSE)', metrics.mean_squared_error(y_test,pred_1))\n",
    "print('Root Mean Square Error (RMSE)', np.sqrt(metrics.mean_squared_error(y_test,pred_1)))\n",
    "print('R2 score', metrics.r2_score(y_test,pred_1))\n",
    "print('Explained Variance score', metrics.explained_variance_score(y_test,pred_1))"
   ]
  },
  {
   "cell_type": "markdown",
   "metadata": {},
   "source": [
    "## Random Forest"
   ]
  },
  {
   "cell_type": "code",
   "execution_count": 19,
   "metadata": {},
   "outputs": [],
   "source": [
    "#Import Random Forest\n",
    "from sklearn.ensemble import RandomForestRegressor\n",
    "rfc = RandomForestRegressor(n_estimators=300)\n",
    "rfc.fit(x_train,y_train)\n",
    "pred_2 = rfc.predict(x_test)"
   ]
  },
  {
   "cell_type": "code",
   "execution_count": 20,
   "metadata": {},
   "outputs": [
    {
     "name": "stdout",
     "output_type": "stream",
     "text": [
      "Mean Absolute Error (MAE) 9753.805686940837\n",
      "Mean Square Error (MSE) 271542808.2819617\n",
      "Root Mean Square Error (RMSE) 16478.55601325437\n",
      "R2 score 0.735632941301245\n",
      "Explained Variance score 0.7402825984290665\n"
     ]
    }
   ],
   "source": [
    "print('Mean Absolute Error (MAE)', metrics.mean_absolute_error(y_test,pred_2))\n",
    "print('Mean Square Error (MSE)', metrics.mean_squared_error(y_test,pred_2))\n",
    "print('Root Mean Square Error (RMSE)', np.sqrt(metrics.mean_squared_error(y_test,pred_2)))\n",
    "print('R2 score', metrics.r2_score(y_test,pred_2))\n",
    "print('Explained Variance score', metrics.explained_variance_score(y_test,pred_2))"
   ]
  },
  {
   "cell_type": "code",
   "execution_count": 21,
   "metadata": {},
   "outputs": [
    {
     "data": {
      "text/html": [
       "<div>\n",
       "<style scoped>\n",
       "    .dataframe tbody tr th:only-of-type {\n",
       "        vertical-align: middle;\n",
       "    }\n",
       "\n",
       "    .dataframe tbody tr th {\n",
       "        vertical-align: top;\n",
       "    }\n",
       "\n",
       "    .dataframe thead th {\n",
       "        text-align: right;\n",
       "    }\n",
       "</style>\n",
       "<table border=\"1\" class=\"dataframe\">\n",
       "  <thead>\n",
       "    <tr style=\"text-align: right;\">\n",
       "      <th></th>\n",
       "      <th>battery</th>\n",
       "      <th>seats</th>\n",
       "      <th>acceleration</th>\n",
       "      <th>top_speed</th>\n",
       "      <th>distance</th>\n",
       "      <th>efficiency</th>\n",
       "      <th>fast_charge</th>\n",
       "    </tr>\n",
       "  </thead>\n",
       "  <tbody>\n",
       "    <tr>\n",
       "      <th>0</th>\n",
       "      <td>52.5</td>\n",
       "      <td>5</td>\n",
       "      <td>5.6</td>\n",
       "      <td>225</td>\n",
       "      <td>350</td>\n",
       "      <td>150</td>\n",
       "      <td>560.0</td>\n",
       "    </tr>\n",
       "    <tr>\n",
       "      <th>1</th>\n",
       "      <td>107.8</td>\n",
       "      <td>5</td>\n",
       "      <td>4.3</td>\n",
       "      <td>210</td>\n",
       "      <td>610</td>\n",
       "      <td>177</td>\n",
       "      <td>800.0</td>\n",
       "    </tr>\n",
       "    <tr>\n",
       "      <th>2</th>\n",
       "      <td>70.0</td>\n",
       "      <td>7</td>\n",
       "      <td>5.0</td>\n",
       "      <td>217</td>\n",
       "      <td>410</td>\n",
       "      <td>171</td>\n",
       "      <td>520.0</td>\n",
       "    </tr>\n",
       "    <tr>\n",
       "      <th>3</th>\n",
       "      <td>77.4</td>\n",
       "      <td>5</td>\n",
       "      <td>3.5</td>\n",
       "      <td>260</td>\n",
       "      <td>395</td>\n",
       "      <td>196</td>\n",
       "      <td>920.0</td>\n",
       "    </tr>\n",
       "    <tr>\n",
       "      <th>4</th>\n",
       "      <td>70.0</td>\n",
       "      <td>5</td>\n",
       "      <td>4.4</td>\n",
       "      <td>233</td>\n",
       "      <td>455</td>\n",
       "      <td>154</td>\n",
       "      <td>570.0</td>\n",
       "    </tr>\n",
       "  </tbody>\n",
       "</table>\n",
       "</div>"
      ],
      "text/plain": [
       "   battery  seats  acceleration  top_speed  distance  efficiency  fast_charge\n",
       "0     52.5      5           5.6        225       350         150        560.0\n",
       "1    107.8      5           4.3        210       610         177        800.0\n",
       "2     70.0      7           5.0        217       410         171        520.0\n",
       "3     77.4      5           3.5        260       395         196        920.0\n",
       "4     70.0      5           4.4        233       455         154        570.0"
      ]
     },
     "execution_count": 21,
     "metadata": {},
     "output_type": "execute_result"
    }
   ],
   "source": [
    "features.head()"
   ]
  },
  {
   "cell_type": "code",
   "execution_count": 22,
   "metadata": {},
   "outputs": [
    {
     "data": {
      "text/html": [
       "<div>\n",
       "<style scoped>\n",
       "    .dataframe tbody tr th:only-of-type {\n",
       "        vertical-align: middle;\n",
       "    }\n",
       "\n",
       "    .dataframe tbody tr th {\n",
       "        vertical-align: top;\n",
       "    }\n",
       "\n",
       "    .dataframe thead th {\n",
       "        text-align: right;\n",
       "    }\n",
       "</style>\n",
       "<table border=\"1\" class=\"dataframe\">\n",
       "  <thead>\n",
       "    <tr style=\"text-align: right;\">\n",
       "      <th></th>\n",
       "      <th>battery</th>\n",
       "      <th>seats</th>\n",
       "      <th>acceleration</th>\n",
       "      <th>top_speed</th>\n",
       "      <th>distance</th>\n",
       "      <th>efficiency</th>\n",
       "      <th>fast_charge</th>\n",
       "    </tr>\n",
       "  </thead>\n",
       "  <tbody>\n",
       "    <tr>\n",
       "      <th>0</th>\n",
       "      <td>0.195308</td>\n",
       "      <td>0.428571</td>\n",
       "      <td>0.172414</td>\n",
       "      <td>0.355401</td>\n",
       "      <td>0.291429</td>\n",
       "      <td>0.259887</td>\n",
       "      <td>0.397163</td>\n",
       "    </tr>\n",
       "    <tr>\n",
       "      <th>1</th>\n",
       "      <td>0.496999</td>\n",
       "      <td>0.428571</td>\n",
       "      <td>0.108374</td>\n",
       "      <td>0.303136</td>\n",
       "      <td>0.588571</td>\n",
       "      <td>0.412429</td>\n",
       "      <td>0.567376</td>\n",
       "    </tr>\n",
       "    <tr>\n",
       "      <th>2</th>\n",
       "      <td>0.290780</td>\n",
       "      <td>0.714286</td>\n",
       "      <td>0.142857</td>\n",
       "      <td>0.327526</td>\n",
       "      <td>0.360000</td>\n",
       "      <td>0.378531</td>\n",
       "      <td>0.368794</td>\n",
       "    </tr>\n",
       "    <tr>\n",
       "      <th>3</th>\n",
       "      <td>0.331151</td>\n",
       "      <td>0.428571</td>\n",
       "      <td>0.068966</td>\n",
       "      <td>0.477352</td>\n",
       "      <td>0.342857</td>\n",
       "      <td>0.519774</td>\n",
       "      <td>0.652482</td>\n",
       "    </tr>\n",
       "    <tr>\n",
       "      <th>4</th>\n",
       "      <td>0.290780</td>\n",
       "      <td>0.428571</td>\n",
       "      <td>0.113300</td>\n",
       "      <td>0.383275</td>\n",
       "      <td>0.411429</td>\n",
       "      <td>0.282486</td>\n",
       "      <td>0.404255</td>\n",
       "    </tr>\n",
       "  </tbody>\n",
       "</table>\n",
       "</div>"
      ],
      "text/plain": [
       "    battery     seats  acceleration  top_speed  distance  efficiency  \\\n",
       "0  0.195308  0.428571      0.172414   0.355401  0.291429    0.259887   \n",
       "1  0.496999  0.428571      0.108374   0.303136  0.588571    0.412429   \n",
       "2  0.290780  0.714286      0.142857   0.327526  0.360000    0.378531   \n",
       "3  0.331151  0.428571      0.068966   0.477352  0.342857    0.519774   \n",
       "4  0.290780  0.428571      0.113300   0.383275  0.411429    0.282486   \n",
       "\n",
       "   fast_charge  \n",
       "0     0.397163  \n",
       "1     0.567376  \n",
       "2     0.368794  \n",
       "3     0.652482  \n",
       "4     0.404255  "
      ]
     },
     "execution_count": 22,
     "metadata": {},
     "output_type": "execute_result"
    }
   ],
   "source": [
    "x.head()"
   ]
  },
  {
   "cell_type": "code",
   "execution_count": 23,
   "metadata": {},
   "outputs": [
    {
     "name": "stdout",
     "output_type": "stream",
     "text": [
      "Mean Absolute Error (MAE) 9533.327592329546\n",
      "Mean Square Error (MSE) 256950657.8594525\n",
      "Root Mean Square Error (RMSE) 16029.680528926723\n",
      "R2 score 0.7498394817421278\n",
      "Explained Variance score 0.7542700205788013\n"
     ]
    }
   ],
   "source": [
    "#Xgboost Model\n",
    "from xgboost import XGBRegressor\n",
    "xgb = XGBRegressor(n_estimators=1000, max_depth=7, eta=0.1, subsample=0.7, colsample_bytree=0.8)\n",
    "xgb.fit(x_train,y_train)\n",
    "pred_6 = xgb.predict(x_test)\n",
    "print('Mean Absolute Error (MAE)', metrics.mean_absolute_error(y_test,pred_6))\n",
    "print('Mean Square Error (MSE)', metrics.mean_squared_error(y_test,pred_6))\n",
    "print('Root Mean Square Error (RMSE)', np.sqrt(metrics.mean_squared_error(y_test,pred_6))) #RMSE\n",
    "print('R2 score', metrics.r2_score(y_test,pred_6)) #R2 Score\n",
    "print('Explained Variance score', metrics.explained_variance_score(y_test,pred_6))"
   ]
  },
  {
   "cell_type": "code",
   "execution_count": 24,
   "metadata": {},
   "outputs": [
    {
     "data": {
      "text/html": [
       "<div>\n",
       "<style scoped>\n",
       "    .dataframe tbody tr th:only-of-type {\n",
       "        vertical-align: middle;\n",
       "    }\n",
       "\n",
       "    .dataframe tbody tr th {\n",
       "        vertical-align: top;\n",
       "    }\n",
       "\n",
       "    .dataframe thead th {\n",
       "        text-align: right;\n",
       "    }\n",
       "</style>\n",
       "<table border=\"1\" class=\"dataframe\">\n",
       "  <thead>\n",
       "    <tr style=\"text-align: right;\">\n",
       "      <th></th>\n",
       "      <th>battery</th>\n",
       "      <th>seats</th>\n",
       "      <th>acceleration</th>\n",
       "      <th>top_speed</th>\n",
       "      <th>distance</th>\n",
       "      <th>efficiency</th>\n",
       "      <th>fast_charge</th>\n",
       "    </tr>\n",
       "  </thead>\n",
       "  <tbody>\n",
       "    <tr>\n",
       "      <th>0</th>\n",
       "      <td>52.5</td>\n",
       "      <td>5</td>\n",
       "      <td>5.6</td>\n",
       "      <td>225</td>\n",
       "      <td>350</td>\n",
       "      <td>150</td>\n",
       "      <td>560.0</td>\n",
       "    </tr>\n",
       "    <tr>\n",
       "      <th>1</th>\n",
       "      <td>107.8</td>\n",
       "      <td>5</td>\n",
       "      <td>4.3</td>\n",
       "      <td>210</td>\n",
       "      <td>610</td>\n",
       "      <td>177</td>\n",
       "      <td>800.0</td>\n",
       "    </tr>\n",
       "    <tr>\n",
       "      <th>2</th>\n",
       "      <td>70.0</td>\n",
       "      <td>7</td>\n",
       "      <td>5.0</td>\n",
       "      <td>217</td>\n",
       "      <td>410</td>\n",
       "      <td>171</td>\n",
       "      <td>520.0</td>\n",
       "    </tr>\n",
       "    <tr>\n",
       "      <th>3</th>\n",
       "      <td>77.4</td>\n",
       "      <td>5</td>\n",
       "      <td>3.5</td>\n",
       "      <td>260</td>\n",
       "      <td>395</td>\n",
       "      <td>196</td>\n",
       "      <td>920.0</td>\n",
       "    </tr>\n",
       "    <tr>\n",
       "      <th>4</th>\n",
       "      <td>70.0</td>\n",
       "      <td>5</td>\n",
       "      <td>4.4</td>\n",
       "      <td>233</td>\n",
       "      <td>455</td>\n",
       "      <td>154</td>\n",
       "      <td>570.0</td>\n",
       "    </tr>\n",
       "    <tr>\n",
       "      <th>...</th>\n",
       "      <td>...</td>\n",
       "      <td>...</td>\n",
       "      <td>...</td>\n",
       "      <td>...</td>\n",
       "      <td>...</td>\n",
       "      <td>...</td>\n",
       "      <td>...</td>\n",
       "    </tr>\n",
       "    <tr>\n",
       "      <th>176</th>\n",
       "      <td>45.0</td>\n",
       "      <td>8</td>\n",
       "      <td>12.1</td>\n",
       "      <td>130</td>\n",
       "      <td>185</td>\n",
       "      <td>243</td>\n",
       "      <td>250.0</td>\n",
       "    </tr>\n",
       "    <tr>\n",
       "      <th>177</th>\n",
       "      <td>45.0</td>\n",
       "      <td>9</td>\n",
       "      <td>12.1</td>\n",
       "      <td>130</td>\n",
       "      <td>185</td>\n",
       "      <td>243</td>\n",
       "      <td>250.0</td>\n",
       "    </tr>\n",
       "    <tr>\n",
       "      <th>178</th>\n",
       "      <td>45.0</td>\n",
       "      <td>8</td>\n",
       "      <td>12.1</td>\n",
       "      <td>130</td>\n",
       "      <td>180</td>\n",
       "      <td>250</td>\n",
       "      <td>240.0</td>\n",
       "    </tr>\n",
       "    <tr>\n",
       "      <th>179</th>\n",
       "      <td>45.0</td>\n",
       "      <td>9</td>\n",
       "      <td>12.1</td>\n",
       "      <td>130</td>\n",
       "      <td>175</td>\n",
       "      <td>257</td>\n",
       "      <td>230.0</td>\n",
       "    </tr>\n",
       "    <tr>\n",
       "      <th>180</th>\n",
       "      <td>45.0</td>\n",
       "      <td>9</td>\n",
       "      <td>12.1</td>\n",
       "      <td>130</td>\n",
       "      <td>180</td>\n",
       "      <td>250</td>\n",
       "      <td>240.0</td>\n",
       "    </tr>\n",
       "  </tbody>\n",
       "</table>\n",
       "<p>181 rows × 7 columns</p>\n",
       "</div>"
      ],
      "text/plain": [
       "     battery  seats  acceleration  top_speed  distance  efficiency  \\\n",
       "0       52.5      5           5.6        225       350         150   \n",
       "1      107.8      5           4.3        210       610         177   \n",
       "2       70.0      7           5.0        217       410         171   \n",
       "3       77.4      5           3.5        260       395         196   \n",
       "4       70.0      5           4.4        233       455         154   \n",
       "..       ...    ...           ...        ...       ...         ...   \n",
       "176     45.0      8          12.1        130       185         243   \n",
       "177     45.0      9          12.1        130       185         243   \n",
       "178     45.0      8          12.1        130       180         250   \n",
       "179     45.0      9          12.1        130       175         257   \n",
       "180     45.0      9          12.1        130       180         250   \n",
       "\n",
       "     fast_charge  \n",
       "0          560.0  \n",
       "1          800.0  \n",
       "2          520.0  \n",
       "3          920.0  \n",
       "4          570.0  \n",
       "..           ...  \n",
       "176        250.0  \n",
       "177        250.0  \n",
       "178        240.0  \n",
       "179        230.0  \n",
       "180        240.0  \n",
       "\n",
       "[181 rows x 7 columns]"
      ]
     },
     "execution_count": 24,
     "metadata": {},
     "output_type": "execute_result"
    }
   ],
   "source": [
    "features"
   ]
  },
  {
   "cell_type": "code",
   "execution_count": null,
   "metadata": {},
   "outputs": [],
   "source": []
  }
 ],
 "metadata": {
  "kernelspec": {
   "display_name": "Python 3",
   "language": "python",
   "name": "python3"
  },
  "language_info": {
   "codemirror_mode": {
    "name": "ipython",
    "version": 3
   },
   "file_extension": ".py",
   "mimetype": "text/x-python",
   "name": "python",
   "nbconvert_exporter": "python",
   "pygments_lexer": "ipython3",
   "version": "3.8.3"
  }
 },
 "nbformat": 4,
 "nbformat_minor": 4
}
