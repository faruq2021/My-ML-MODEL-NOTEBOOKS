{
  "nbformat": 4,
  "nbformat_minor": 0,
  "metadata": {
    "colab": {
      "name": "SOLP .ipynb",
      "provenance": [],
      "authorship_tag": "ABX9TyO09sHrHxrUtHBCZtSMKdvj",
      "include_colab_link": true
    },
    "kernelspec": {
      "name": "python3",
      "display_name": "Python 3"
    },
    "language_info": {
      "name": "python"
    }
  },
  "cells": [
    {
      "cell_type": "markdown",
      "metadata": {
        "id": "view-in-github",
        "colab_type": "text"
      },
      "source": [
        "<a href=\"https://colab.research.google.com/github/faruq2021/My-ML-MODEL-NOTEBOOKS/blob/main/SOLP_.ipynb\" target=\"_parent\"><img src=\"https://colab.research.google.com/assets/colab-badge.svg\" alt=\"Open In Colab\"/></a>"
      ]
    },
    {
      "cell_type": "code",
      "metadata": {
        "id": "b3Y8YxhyM7qr"
      },
      "source": [
        "import numpy as np\n",
        "import pandas as pd\n",
        "import matplotlib.pyplot as plt\n",
        "import sklearn as sk\n"
      ],
      "execution_count": 1,
      "outputs": []
    },
    {
      "cell_type": "code",
      "metadata": {
        "id": "67RN8OnSWR88"
      },
      "source": [
        "Table={}\n",
        "Table[\"Name\"]=[\"ade\",\"kunle\",\"dayo\",\"josh\",\"elisha\",\"joke\",\"Ismail\",\"Akeem\",\"samuel\",\"john\",\"zulfah\",\"tao\",\"salam\",\"simbi\",\"hezek\",\"Sanusi\",\"kasal\",\"munir\",\"ramat\",\"ike\"]\n",
        "Table[\"Avg_m_income\"]=[800000,60000,50000,120000,30000,230000,500000,120000,80000,50000, 95000,600000,80000,1500000,280000,80000,400000,70000,210000,1000000]\n",
        "Table[\"avg_daily_exp\"]=[6000,2000,3000,4000,5000,4000,4000,6000,5000,6000,6000,3000,4000,2000,5000,4000,6000,3000,2000,6000]\n",
        "Table[\"no_of_dep\"]=[6,2,3,4,5,4,4,6,5,6,6,3,4,2,2,5,4,6,3,2]\n",
        "Table[\"Classes\"]=[1,3,3,3,3,2,1,3,3,3,3,1,3,1,1,3,1,3,2,1,]"
      ],
      "execution_count": 2,
      "outputs": []
    },
    {
      "cell_type": "code",
      "metadata": {
        "id": "H3lVxSIve29J"
      },
      "source": [
        "Observation=pd.DataFrame(Table)"
      ],
      "execution_count": 3,
      "outputs": []
    },
    {
      "cell_type": "code",
      "metadata": {
        "colab": {
          "base_uri": "https://localhost:8080/",
          "height": 204
        },
        "id": "dKkKzYYBgELt",
        "outputId": "8d11cc92-574b-4f09-a1f6-d2bda9538a93"
      },
      "source": [
        "Observation.head()"
      ],
      "execution_count": 4,
      "outputs": [
        {
          "output_type": "execute_result",
          "data": {
            "text/html": [
              "<div>\n",
              "<style scoped>\n",
              "    .dataframe tbody tr th:only-of-type {\n",
              "        vertical-align: middle;\n",
              "    }\n",
              "\n",
              "    .dataframe tbody tr th {\n",
              "        vertical-align: top;\n",
              "    }\n",
              "\n",
              "    .dataframe thead th {\n",
              "        text-align: right;\n",
              "    }\n",
              "</style>\n",
              "<table border=\"1\" class=\"dataframe\">\n",
              "  <thead>\n",
              "    <tr style=\"text-align: right;\">\n",
              "      <th></th>\n",
              "      <th>Name</th>\n",
              "      <th>Avg_m_income</th>\n",
              "      <th>avg_daily_exp</th>\n",
              "      <th>no_of_dep</th>\n",
              "      <th>Classes</th>\n",
              "    </tr>\n",
              "  </thead>\n",
              "  <tbody>\n",
              "    <tr>\n",
              "      <th>0</th>\n",
              "      <td>ade</td>\n",
              "      <td>800000</td>\n",
              "      <td>6000</td>\n",
              "      <td>6</td>\n",
              "      <td>1</td>\n",
              "    </tr>\n",
              "    <tr>\n",
              "      <th>1</th>\n",
              "      <td>kunle</td>\n",
              "      <td>60000</td>\n",
              "      <td>2000</td>\n",
              "      <td>2</td>\n",
              "      <td>3</td>\n",
              "    </tr>\n",
              "    <tr>\n",
              "      <th>2</th>\n",
              "      <td>dayo</td>\n",
              "      <td>50000</td>\n",
              "      <td>3000</td>\n",
              "      <td>3</td>\n",
              "      <td>3</td>\n",
              "    </tr>\n",
              "    <tr>\n",
              "      <th>3</th>\n",
              "      <td>josh</td>\n",
              "      <td>120000</td>\n",
              "      <td>4000</td>\n",
              "      <td>4</td>\n",
              "      <td>3</td>\n",
              "    </tr>\n",
              "    <tr>\n",
              "      <th>4</th>\n",
              "      <td>elisha</td>\n",
              "      <td>30000</td>\n",
              "      <td>5000</td>\n",
              "      <td>5</td>\n",
              "      <td>3</td>\n",
              "    </tr>\n",
              "  </tbody>\n",
              "</table>\n",
              "</div>"
            ],
            "text/plain": [
              "     Name  Avg_m_income  avg_daily_exp  no_of_dep  Classes\n",
              "0     ade        800000           6000          6        1\n",
              "1   kunle         60000           2000          2        3\n",
              "2    dayo         50000           3000          3        3\n",
              "3    josh        120000           4000          4        3\n",
              "4  elisha         30000           5000          5        3"
            ]
          },
          "metadata": {
            "tags": []
          },
          "execution_count": 4
        }
      ]
    },
    {
      "cell_type": "code",
      "metadata": {
        "colab": {
          "base_uri": "https://localhost:8080/"
        },
        "id": "yehLOxiDuI68",
        "outputId": "8ebd6d0c-85b4-4835-f1d1-7132d8060eac"
      },
      "source": [
        "Observation.info()"
      ],
      "execution_count": 5,
      "outputs": [
        {
          "output_type": "stream",
          "text": [
            "<class 'pandas.core.frame.DataFrame'>\n",
            "RangeIndex: 20 entries, 0 to 19\n",
            "Data columns (total 5 columns):\n",
            " #   Column         Non-Null Count  Dtype \n",
            "---  ------         --------------  ----- \n",
            " 0   Name           20 non-null     object\n",
            " 1   Avg_m_income   20 non-null     int64 \n",
            " 2   avg_daily_exp  20 non-null     int64 \n",
            " 3   no_of_dep      20 non-null     int64 \n",
            " 4   Classes        20 non-null     int64 \n",
            "dtypes: int64(4), object(1)\n",
            "memory usage: 928.0+ bytes\n"
          ],
          "name": "stdout"
        }
      ]
    },
    {
      "cell_type": "code",
      "metadata": {
        "id": "2z0vZ2zMuR4t"
      },
      "source": [
        "m_d=Observation[[\"Avg_m_income\",\"avg_daily_exp\",\"no_of_dep\",\"Classes\"]]"
      ],
      "execution_count": 6,
      "outputs": []
    },
    {
      "cell_type": "code",
      "metadata": {
        "colab": {
          "base_uri": "https://localhost:8080/"
        },
        "id": "ZkOQ1W0Z9nd8",
        "outputId": "8f61785f-9ce0-4fec-8b1a-585d405430a3"
      },
      "source": [
        "X=np.asarray(m_d[[\"Avg_m_income\",\"avg_daily_exp\",\"no_of_dep\"]])\n",
        "X[0:5]\n",
        "\n"
      ],
      "execution_count": 7,
      "outputs": [
        {
          "output_type": "execute_result",
          "data": {
            "text/plain": [
              "array([[800000,   6000,      6],\n",
              "       [ 60000,   2000,      2],\n",
              "       [ 50000,   3000,      3],\n",
              "       [120000,   4000,      4],\n",
              "       [ 30000,   5000,      5]])"
            ]
          },
          "metadata": {
            "tags": []
          },
          "execution_count": 7
        }
      ]
    },
    {
      "cell_type": "code",
      "metadata": {
        "colab": {
          "base_uri": "https://localhost:8080/"
        },
        "id": "Egtdmi3l-dEG",
        "outputId": "868bf4d3-6fb3-40ee-d89a-d52dced5f80e"
      },
      "source": [
        "y=np.asarray(m_d[[\"Classes\"]])\n",
        "y[0:5]"
      ],
      "execution_count": 8,
      "outputs": [
        {
          "output_type": "execute_result",
          "data": {
            "text/plain": [
              "array([[1],\n",
              "       [3],\n",
              "       [3],\n",
              "       [3],\n",
              "       [3]])"
            ]
          },
          "metadata": {
            "tags": []
          },
          "execution_count": 8
        }
      ]
    },
    {
      "cell_type": "code",
      "metadata": {
        "colab": {
          "base_uri": "https://localhost:8080/"
        },
        "id": "B67YVPUO8Uk3",
        "outputId": "8fcb0ef4-97c8-4b8a-f48e-0dd8dd2b531b"
      },
      "source": [
        "#data normaliziation\n",
        "from sklearn import preprocessing \n",
        "\n",
        "X=preprocessing.StandardScaler().fit(X).transform(X)\n",
        "X[0:5]"
      ],
      "execution_count": 9,
      "outputs": [
        {
          "output_type": "execute_result",
          "data": {
            "text/plain": [
              "array([[ 1.2691836 ,  1.19908755,  1.31425748],\n",
              "       [-0.67834541, -1.62229492, -1.45260037],\n",
              "       [-0.70466337, -0.9169493 , -0.76088591],\n",
              "       [-0.52043765, -0.21160368, -0.06917145],\n",
              "       [-0.75729929,  0.49374193,  0.62254302]])"
            ]
          },
          "metadata": {
            "tags": []
          },
          "execution_count": 9
        }
      ]
    },
    {
      "cell_type": "code",
      "metadata": {
        "id": "tPb0K6FLAFGa"
      },
      "source": [
        "from sklearn.model_selection import train_test_split\n",
        "X_train,X_test,y_train,y_test=train_test_split(X,y,test_size=0.2,random_state=42,stratify=y)"
      ],
      "execution_count": 10,
      "outputs": []
    },
    {
      "cell_type": "code",
      "metadata": {
        "colab": {
          "base_uri": "https://localhost:8080/"
        },
        "id": "AOrOx4oDAkos",
        "outputId": "c664de9d-013a-404f-cd4f-7c46dd7a675a"
      },
      "source": [
        "print ('Train set:', X_train.shape,  y_train.shape)\n",
        "print ('Test set:', X_test.shape,  y_test.shape)"
      ],
      "execution_count": 11,
      "outputs": [
        {
          "output_type": "stream",
          "text": [
            "Train set: (16, 3) (16, 1)\n",
            "Test set: (4, 3) (4, 1)\n"
          ],
          "name": "stdout"
        }
      ]
    },
    {
      "cell_type": "code",
      "metadata": {
        "colab": {
          "base_uri": "https://localhost:8080/"
        },
        "id": "Kp77ZtM_AoPm",
        "outputId": "d067d824-ca62-4b8f-ddd8-65884d1734d2"
      },
      "source": [
        "from sklearn.linear_model import LogisticRegression\n",
        "LogRegModel=LogisticRegression(C=0.01,solver=\"liblinear\").fit(X_train,y_train)\n",
        "LogRegModel"
      ],
      "execution_count": 12,
      "outputs": [
        {
          "output_type": "stream",
          "text": [
            "/usr/local/lib/python3.7/dist-packages/sklearn/utils/validation.py:760: DataConversionWarning: A column-vector y was passed when a 1d array was expected. Please change the shape of y to (n_samples, ), for example using ravel().\n",
            "  y = column_or_1d(y, warn=True)\n"
          ],
          "name": "stderr"
        },
        {
          "output_type": "execute_result",
          "data": {
            "text/plain": [
              "LogisticRegression(C=0.01, class_weight=None, dual=False, fit_intercept=True,\n",
              "                   intercept_scaling=1, l1_ratio=None, max_iter=100,\n",
              "                   multi_class='auto', n_jobs=None, penalty='l2',\n",
              "                   random_state=None, solver='liblinear', tol=0.0001, verbose=0,\n",
              "                   warm_start=False)"
            ]
          },
          "metadata": {
            "tags": []
          },
          "execution_count": 12
        }
      ]
    },
    {
      "cell_type": "code",
      "metadata": {
        "id": "bwIbgfSnBDrt"
      },
      "source": [
        "prediction=LogRegModel.predict(X_test)"
      ],
      "execution_count": 14,
      "outputs": []
    },
    {
      "cell_type": "code",
      "metadata": {
        "colab": {
          "base_uri": "https://localhost:8080/"
        },
        "id": "0SpmrCpjt4do",
        "outputId": "cffd5f32-11e7-41ec-f394-400ed1b96c58"
      },
      "source": [
        "prediction"
      ],
      "execution_count": 15,
      "outputs": [
        {
          "output_type": "execute_result",
          "data": {
            "text/plain": [
              "array([1, 1, 3, 3])"
            ]
          },
          "metadata": {
            "tags": []
          },
          "execution_count": 15
        }
      ]
    },
    {
      "cell_type": "code",
      "metadata": {
        "colab": {
          "base_uri": "https://localhost:8080/"
        },
        "id": "Xpn59s7NxXL9",
        "outputId": "e4d7649a-b5fd-433c-bdc4-6c37067896fb"
      },
      "source": [
        "pred_prob = LogRegModel.predict_proba(X_test)\n",
        "pred_prob"
      ],
      "execution_count": 20,
      "outputs": [
        {
          "output_type": "execute_result",
          "data": {
            "text/plain": [
              "array([[0.35162471, 0.32984213, 0.31853316],\n",
              "       [0.34887029, 0.33674816, 0.31438154],\n",
              "       [0.33177616, 0.32307593, 0.34514792],\n",
              "       [0.33060613, 0.32285908, 0.34653479]])"
            ]
          },
          "metadata": {
            "tags": []
          },
          "execution_count": 20
        }
      ]
    },
    {
      "cell_type": "code",
      "metadata": {
        "colab": {
          "base_uri": "https://localhost:8080/"
        },
        "id": "jPrDJjqauqoJ",
        "outputId": "a274dd1e-f95d-4bd6-e8a8-26f89ec94116"
      },
      "source": [
        "#evaluating model using jaccard_similarity\n",
        "from sklearn.metrics import jaccard_similarity_score\n",
        "jaccard_similarity_score(y_test, prediction)"
      ],
      "execution_count": 17,
      "outputs": [
        {
          "output_type": "stream",
          "text": [
            "/usr/local/lib/python3.7/dist-packages/sklearn/metrics/_classification.py:664: FutureWarning: jaccard_similarity_score has been deprecated and replaced with jaccard_score. It will be removed in version 0.23. This implementation has surprising behavior for binary and multiclass classification tasks.\n",
            "  FutureWarning)\n"
          ],
          "name": "stderr"
        },
        {
          "output_type": "execute_result",
          "data": {
            "text/plain": [
              "1.0"
            ]
          },
          "metadata": {
            "tags": []
          },
          "execution_count": 17
        }
      ]
    },
    {
      "cell_type": "markdown",
      "metadata": {
        "id": "CEkB3U60xozN"
      },
      "source": [
        ""
      ]
    }
  ]
}