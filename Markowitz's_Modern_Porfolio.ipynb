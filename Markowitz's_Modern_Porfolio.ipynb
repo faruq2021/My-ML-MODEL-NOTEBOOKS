{
  "nbformat": 4,
  "nbformat_minor": 0,
  "metadata": {
    "colab": {
      "provenance": [],
      "authorship_tag": "ABX9TyP6ef0JMxhAERYvz3wFlxE9",
      "include_colab_link": true
    },
    "kernelspec": {
      "name": "python3",
      "display_name": "Python 3"
    },
    "language_info": {
      "name": "python"
    }
  },
  "cells": [
    {
      "cell_type": "markdown",
      "metadata": {
        "id": "view-in-github",
        "colab_type": "text"
      },
      "source": [
        "<a href=\"https://colab.research.google.com/github/faruq2021/My-ML-MODEL-NOTEBOOKS/blob/main/Markowitz's_Modern_Porfolio.ipynb\" target=\"_parent\"><img src=\"https://colab.research.google.com/assets/colab-badge.svg\" alt=\"Open In Colab\"/></a>"
      ]
    },
    {
      "cell_type": "code",
      "execution_count": 2,
      "metadata": {
        "colab": {
          "base_uri": "https://localhost:8080/"
        },
        "id": "IE3DNx2R7a_h",
        "outputId": "5de46ea9-007e-42d5-e0b7-11c20e58ab2f"
      },
      "outputs": [
        {
          "output_type": "stream",
          "name": "stdout",
          "text": [
            "[*********************100%%**********************]  4 of 4 completed\n"
          ]
        }
      ],
      "source": [
        "import numpy as np\n",
        "import pandas as pd\n",
        "import yfinance as yf\n",
        "import cvxpy as cp\n",
        "import matplotlib.pyplot as plt\n",
        "\n",
        "# Step 1: Get the historical price data for the stocks\n",
        "tickers = [\"AAPL\", \"MSFT\", \"GOOGL\", \"AMZN\"]  # Replace with your own tickers\n",
        "start_date = \"2016-01-01\"\n",
        "end_date = \"2021-12-31\"\n",
        "\n",
        "price_data = yf.download(tickers, start=start_date, end=end_date)[\"Adj Close\"]\n",
        "\n",
        "\n"
      ]
    },
    {
      "cell_type": "code",
      "source": [
        "# Step 2: Calculate the returns of the stocks\n",
        "returns = price_data.pct_change().dropna()\n",
        "print(returns)"
      ],
      "metadata": {
        "colab": {
          "base_uri": "https://localhost:8080/"
        },
        "id": "7pLsfwx48NSh",
        "outputId": "21741054-0810-41f9-e14e-d275930eba22"
      },
      "execution_count": 4,
      "outputs": [
        {
          "output_type": "stream",
          "name": "stdout",
          "text": [
            "                AAPL      AMZN     GOOGL      MSFT\n",
            "Date                                              \n",
            "2016-01-05 -0.025059 -0.005024  0.002752  0.004562\n",
            "2016-01-06 -0.019570 -0.001799 -0.002889 -0.018165\n",
            "2016-01-07 -0.042205 -0.039058 -0.024140 -0.034782\n",
            "2016-01-08  0.005288 -0.001464 -0.013617  0.003066\n",
            "2016-01-11  0.016192  0.017610  0.002955 -0.000573\n",
            "...              ...       ...       ...       ...\n",
            "2021-12-23  0.003644  0.000184  0.003425  0.004472\n",
            "2021-12-27  0.022975 -0.008178  0.006738  0.023186\n",
            "2021-12-28 -0.005767  0.005844 -0.008245 -0.003504\n",
            "2021-12-29  0.000502 -0.008555 -0.000218  0.002051\n",
            "2021-12-30 -0.006578 -0.003289 -0.003099 -0.007691\n",
            "\n",
            "[1509 rows x 4 columns]\n"
          ]
        }
      ]
    },
    {
      "cell_type": "code",
      "source": [
        "# Step 3: Calculate the covariance matrix of the stock returns\n",
        "cov_matrix = returns.cov()\n",
        "print(cov_matrix)"
      ],
      "metadata": {
        "colab": {
          "base_uri": "https://localhost:8080/"
        },
        "id": "5LNknOp58eO7",
        "outputId": "36778577-7991-4ad3-9358-c8cf060284af"
      },
      "execution_count": 6,
      "outputs": [
        {
          "output_type": "stream",
          "name": "stdout",
          "text": [
            "           AAPL      AMZN     GOOGL      MSFT\n",
            "AAPL   0.000343  0.000204  0.000194  0.000222\n",
            "AMZN   0.000204  0.000343  0.000198  0.000210\n",
            "GOOGL  0.000194  0.000198  0.000269  0.000214\n",
            "MSFT   0.000222  0.000210  0.000214  0.000284\n"
          ]
        }
      ]
    },
    {
      "cell_type": "code",
      "source": [
        "# Step 4: Define the optimization problem\n",
        "num_assets = len(tickers)\n",
        "weights = cp.Variable(num_assets)\n",
        "risk = cp.quad_form(weights, cov_matrix.values)\n",
        "prob = cp.Problem(cp.Minimize(risk),\n",
        "                  [cp.sum(weights) == 1,\n",
        "                   weights >= 0])"
      ],
      "metadata": {
        "id": "8YMzAL8-8qu4"
      },
      "execution_count": 7,
      "outputs": []
    },
    {
      "cell_type": "code",
      "source": [
        "# Step 5: Solve the optimization problem\n",
        "prob.solve()"
      ],
      "metadata": {
        "colab": {
          "base_uri": "https://localhost:8080/"
        },
        "id": "rNvuvIEY81LZ",
        "outputId": "2b7c698b-097f-4585-e12e-a73a7a3cdb23"
      },
      "execution_count": 8,
      "outputs": [
        {
          "output_type": "execute_result",
          "data": {
            "text/plain": [
              "0.00022945476532139713"
            ]
          },
          "metadata": {},
          "execution_count": 8
        }
      ]
    },
    {
      "cell_type": "code",
      "source": [
        "# Step 6: Get the optimal portfolio weights\n",
        "optimal_weights = weights.value\n",
        "print(\"Optimal weights: \", optimal_weights)"
      ],
      "metadata": {
        "colab": {
          "base_uri": "https://localhost:8080/"
        },
        "id": "hRtgQC6W9hIu",
        "outputId": "aa8dea99-6a93-475e-bfdf-0112a8d776d6"
      },
      "execution_count": 9,
      "outputs": [
        {
          "output_type": "stream",
          "name": "stdout",
          "text": [
            "Optimal weights:  [0.18418187 0.19309463 0.40789559 0.21482791]\n"
          ]
        }
      ]
    },
    {
      "cell_type": "code",
      "source": [
        "# Step 7: Calculate portfolio statistics\n",
        "portfolio_return = np.sum(returns.mean() * optimal_weights) * 252\n",
        "portfolio_std = np.sqrt(optimal_weights.T.dot(cov_matrix.values).dot(optimal_weights)) * np.sqrt(252)\n",
        "print(\"Expected return: \", portfolio_return)\n",
        "print(\"Volatility: \", portfolio_std)\n"
      ],
      "metadata": {
        "colab": {
          "base_uri": "https://localhost:8080/"
        },
        "id": "jj4ZOp459nPj",
        "outputId": "0fed2017-7bdc-4f3f-ba84-11daa9b3e731"
      },
      "execution_count": 10,
      "outputs": [
        {
          "output_type": "stream",
          "name": "stdout",
          "text": [
            "Expected return:  0.3138479552285284\n",
            "Volatility:  0.2404633046038253\n"
          ]
        }
      ]
    },
    {
      "cell_type": "code",
      "source": [
        "# Step 8: Plot the efficient frontier\n",
        "# Step 8: Plot the efficient frontier\n",
        "returns_range = np.linspace(0, returns.mean().max(), 100)\n",
        "volatility = []\n",
        "for ret in returns_range:\n",
        "    prob = cp.Problem(cp.Minimize(risk),\n",
        "                      [cp.sum(weights) == 1,\n",
        "                       weights >= 0])\n",
        "    prob.solve()\n",
        "    volatility.append(np.sqrt(prob.value))\n",
        "plt.plot(volatility, returns_range, 'b', label=\"Efficient Frontier\")\n",
        "plt.xlabel(\"Volatility\")\n",
        "plt.ylabel(\"Expected Return\")\n",
        "plt.legend()\n",
        "plt.grid()\n",
        "plt.show()\n",
        "\n"
      ],
      "metadata": {
        "colab": {
          "base_uri": "https://localhost:8080/",
          "height": 449
        },
        "id": "qKwMVonv-EyP",
        "outputId": "94b1b493-8a2f-43ed-f89a-1c984e18e0aa"
      },
      "execution_count": 23,
      "outputs": [
        {
          "output_type": "display_data",
          "data": {
            "text/plain": [
              "<Figure size 640x480 with 1 Axes>"
            ],
            "image/png": "[encoded data removed]"
          },
          "metadata": {}
        }
      ]
    }
  ]
}