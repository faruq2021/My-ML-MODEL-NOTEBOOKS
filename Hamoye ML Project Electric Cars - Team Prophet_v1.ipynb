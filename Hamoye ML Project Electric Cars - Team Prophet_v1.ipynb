{
 "cells": [
  {
   "cell_type": "markdown",
   "metadata": {},
   "source": [
    "## Hamoye ML Project Electric Cars - Team Prophet"
   ]
  },
  {
   "cell_type": "markdown",
   "metadata": {},
   "source": [
    "## Data scrapped from Web - by Team 1"
   ]
  },
  {
   "cell_type": "code",
   "execution_count": 1,
   "metadata": {},
   "outputs": [],
   "source": [
    "# Import necessary libraries\n",
    "import pandas as pd\n",
    "import numpy as np\n",
    "import matplotlib.pyplot as plt\n",
    "import seaborn as sns\n",
    "%matplotlib inline"
   ]
  },
  {
   "cell_type": "markdown",
   "metadata": {},
   "source": [
    "## Web Scrapping of Data"
   ]
  },
  {
   "cell_type": "code",
   "execution_count": 5,
   "metadata": {},
   "outputs": [
    {
     "name": "stderr",
     "output_type": "stream",
     "text": [
      "\n",
      "\n",
      "====== WebDriver manager ======\n",
      "Current google-chrome version is 92.0.4515\n",
      "Get LATEST driver version for 92.0.4515\n",
      "Driver [C:\\Users\\krane\\.wdm\\drivers\\chromedriver\\win32\\92.0.4515.107\\chromedriver.exe] found in cache\n"
     ]
    }
   ],
   "source": [
    "from selenium import webdriver\n",
    "from webdriver_manager.chrome import ChromeDriverManager\n",
    "import pandas as pd\n",
    "import time\n",
    "from selenium.webdriver.chrome.options import Options\n",
    "\n",
    "car_name = []\n",
    "car_model = []\n",
    "car_battery = []\n",
    "car_seats = []\n",
    "car_acceleration = []\n",
    "car_speed = []\n",
    "car_distance = []\n",
    "car_eff = []\n",
    "car_charge = []\n",
    "price_g = []\n",
    "price_n = []\n",
    "price_p = []\n",
    "\n",
    "\n",
    "option = Options()\n",
    "option.headless = True\n",
    "browser = webdriver.Chrome(ChromeDriverManager().install())\n",
    "url = 'https://ev-database.org/'\n",
    "browser.get(url)\n",
    "time.sleep(10)\n",
    "browser.find_element_by_xpath('//div[@id=\"paging\"]').click()\n",
    "browser.find_element_by_xpath('//*[@id=\"paging\"]/ul/li[4]').click()\n",
    "time.sleep(20)\n",
    "car_list = browser.find_elements_by_xpath('//div[@class=\"data-wrapper\"]')\n",
    "for names in car_list:\n",
    "    name = names.find_element_by_xpath('.//a[@class=\"title\"]/span').text\n",
    "    car_name.append(name)\n",
    "    model = names.find_element_by_xpath('.//a[@class=\"title\"]/span[2]').text\n",
    "    car_model.append(model)\n",
    "    battery = names.find_element_by_xpath('.//div[@class=\"subtitle\"]/span').text.split(' ')[0]\n",
    "    car_battery.append(battery)\n",
    "    seats = names.find_element_by_xpath('.//div[@class=\"icons\"]/span[6]').text\n",
    "    car_seats.append(seats)\n",
    "    acceleration = names.find_element_by_xpath('.//div[@class=\"specs\"]/p/span[2]').text.split(' ')[0]\n",
    "    car_acceleration.append(acceleration)\n",
    "    speed = names.find_element_by_xpath('.//div[@class=\"specs\"]/p[2]/span[2]').text.split(' ')[0]\n",
    "    car_speed.append(speed)\n",
    "    distance = names.find_element_by_xpath('.//div[@class=\"specs\"]/p[3]/span[2]').text.split(' ')[0]\n",
    "    car_distance.append(distance)\n",
    "    efficiency = names.find_element_by_xpath('.//div[@class=\"specs\"]/p[4]/span[2]').text.split(' ')[0]\n",
    "    car_eff.append(efficiency)\n",
    "    fast_charge = names.find_element_by_xpath('.//div[@class=\"specs\"]/p[5]/span[2]').text.split(' ')[0]\n",
    "    car_charge.append(fast_charge)\n",
    "    price_gbp = names.find_element_by_xpath('.//div[@class=\"pricing align-right\"]/span[3]').text[1:]\n",
    "    price_p.append(price_gbp)\n",
    "    price_germany = names.find_element_by_xpath('.//div[@class=\"pricing align-right\"]/span[1]').text[1:]\n",
    "    price_g.append(price_germany)\n",
    "    price_netherland = names.find_element_by_xpath('.//div[@class=\"pricing align-right\"]/span[2]').text[1:]\n",
    "    price_n.append(price_netherland)\n",
    "\n",
    "# saving the data into a dictionary and then turning it into a csv file\n",
    "car_data = {'vehicle_name':car_name,'model':car_model,'battery':car_battery,'seats':car_seats,\n",
    "            'acceleration':car_acceleration,'top_speed':car_speed,'distance':car_distance,'efficiency':car_eff,\n",
    "            'fast_charge':car_charge,'price_pounds':price_p,'price_germany':price_g,'price_netherland':price_n}\n",
    "# print(car_data)\n",
    "car_df = pd.DataFrame().from_dict(car_data)"
   ]
  },
  {
   "cell_type": "code",
   "execution_count": 6,
   "metadata": {},
   "outputs": [
    {
     "data": {
      "text/html": [
       "<div>\n",
       "<style scoped>\n",
       "    .dataframe tbody tr th:only-of-type {\n",
       "        vertical-align: middle;\n",
       "    }\n",
       "\n",
       "    .dataframe tbody tr th {\n",
       "        vertical-align: top;\n",
       "    }\n",
       "\n",
       "    .dataframe thead th {\n",
       "        text-align: right;\n",
       "    }\n",
       "</style>\n",
       "<table border=\"1\" class=\"dataframe\">\n",
       "  <thead>\n",
       "    <tr style=\"text-align: right;\">\n",
       "      <th></th>\n",
       "      <th>vehicle_name</th>\n",
       "      <th>model</th>\n",
       "      <th>battery</th>\n",
       "      <th>seats</th>\n",
       "      <th>acceleration</th>\n",
       "      <th>top_speed</th>\n",
       "      <th>distance</th>\n",
       "      <th>efficiency</th>\n",
       "      <th>fast_charge</th>\n",
       "      <th>price_pounds</th>\n",
       "      <th>price_germany</th>\n",
       "      <th>price_netherland</th>\n",
       "    </tr>\n",
       "  </thead>\n",
       "  <tbody>\n",
       "    <tr>\n",
       "      <th>0</th>\n",
       "      <td>Renault</td>\n",
       "      <td>Megane E-Tech EV60 220hp</td>\n",
       "      <td>60</td>\n",
       "      <td>5</td>\n",
       "      <td>7.4</td>\n",
       "      <td>160</td>\n",
       "      <td>360</td>\n",
       "      <td>167</td>\n",
       "      <td>520</td>\n",
       "      <td>£35,000</td>\n",
       "      <td>€40,000</td>\n",
       "      <td>€40,000</td>\n",
       "    </tr>\n",
       "    <tr>\n",
       "      <th>1</th>\n",
       "      <td>Tesla</td>\n",
       "      <td>Model 3 Standard Range Plus LFP</td>\n",
       "      <td>52.5</td>\n",
       "      <td>5</td>\n",
       "      <td>5.6</td>\n",
       "      <td>225</td>\n",
       "      <td>350</td>\n",
       "      <td>150</td>\n",
       "      <td>630</td>\n",
       "      <td>40,990</td>\n",
       "      <td>43,560</td>\n",
       "      <td>49,990</td>\n",
       "    </tr>\n",
       "    <tr>\n",
       "      <th>2</th>\n",
       "      <td>Kia</td>\n",
       "      <td>EV6 GT</td>\n",
       "      <td>77.4</td>\n",
       "      <td>5</td>\n",
       "      <td>3.5</td>\n",
       "      <td>260</td>\n",
       "      <td>395</td>\n",
       "      <td>196</td>\n",
       "      <td>920</td>\n",
       "      <td>58,295</td>\n",
       "      <td>65,990</td>\n",
       "      <td>63,595</td>\n",
       "    </tr>\n",
       "    <tr>\n",
       "      <th>3</th>\n",
       "      <td>Tesla</td>\n",
       "      <td>Model Y Long Range Dual Motor</td>\n",
       "      <td>70</td>\n",
       "      <td>7</td>\n",
       "      <td>5.0</td>\n",
       "      <td>217</td>\n",
       "      <td>410</td>\n",
       "      <td>171</td>\n",
       "      <td>590</td>\n",
       "      <td>£54,000</td>\n",
       "      <td>59,965</td>\n",
       "      <td>65,010</td>\n",
       "    </tr>\n",
       "    <tr>\n",
       "      <th>4</th>\n",
       "      <td>Mercedes</td>\n",
       "      <td>EQS 580 4MATIC</td>\n",
       "      <td>107.8</td>\n",
       "      <td>5</td>\n",
       "      <td>4.3</td>\n",
       "      <td>210</td>\n",
       "      <td>610</td>\n",
       "      <td>177</td>\n",
       "      <td>800</td>\n",
       "      <td>£115,000</td>\n",
       "      <td>135,529</td>\n",
       "      <td>154,949</td>\n",
       "    </tr>\n",
       "  </tbody>\n",
       "</table>\n",
       "</div>"
      ],
      "text/plain": [
       "  vehicle_name                            model battery seats acceleration  \\\n",
       "0      Renault         Megane E-Tech EV60 220hp      60     5          7.4   \n",
       "1        Tesla  Model 3 Standard Range Plus LFP    52.5     5          5.6   \n",
       "2          Kia                           EV6 GT    77.4     5          3.5   \n",
       "3        Tesla    Model Y Long Range Dual Motor      70     7          5.0   \n",
       "4     Mercedes                   EQS 580 4MATIC   107.8     5          4.3   \n",
       "\n",
       "  top_speed distance efficiency fast_charge price_pounds price_germany  \\\n",
       "0       160      360        167         520      £35,000       €40,000   \n",
       "1       225      350        150         630       40,990        43,560   \n",
       "2       260      395        196         920       58,295        65,990   \n",
       "3       217      410        171         590      £54,000        59,965   \n",
       "4       210      610        177         800     £115,000       135,529   \n",
       "\n",
       "  price_netherland  \n",
       "0          €40,000  \n",
       "1           49,990  \n",
       "2           63,595  \n",
       "3           65,010  \n",
       "4          154,949  "
      ]
     },
     "execution_count": 6,
     "metadata": {},
     "output_type": "execute_result"
    }
   ],
   "source": [
    "# Check the dataframe\n",
    "car_df.head()"
   ]
  },
  {
   "cell_type": "code",
   "execution_count": 7,
   "metadata": {},
   "outputs": [],
   "source": [
    "# Export the dataframe to CSV file, for later quick reference\n",
    "car_df.to_csv('D:\\People\\Amit\\Hamoye\\project\\\\electric_cars.csv')"
   ]
  },
  {
   "cell_type": "markdown",
   "metadata": {},
   "source": [
    "## Data Cleaning and Treatment by Team 2 and 3"
   ]
  },
  {
   "cell_type": "code",
   "execution_count": 10,
   "metadata": {},
   "outputs": [],
   "source": [
    "# Read/Load the dataset from local CSV file\n",
    "# Writing index_col=0 doesn't add additional column 'Unnamed: 0', while importing data from CSV File\n",
    "df = pd.read_csv('D:\\People\\Amit\\Hamoye\\project\\\\electric_cars.csv', index_col=0)"
   ]
  },
  {
   "cell_type": "code",
   "execution_count": 11,
   "metadata": {},
   "outputs": [
    {
     "data": {
      "text/html": [
       "<div>\n",
       "<style scoped>\n",
       "    .dataframe tbody tr th:only-of-type {\n",
       "        vertical-align: middle;\n",
       "    }\n",
       "\n",
       "    .dataframe tbody tr th {\n",
       "        vertical-align: top;\n",
       "    }\n",
       "\n",
       "    .dataframe thead th {\n",
       "        text-align: right;\n",
       "    }\n",
       "</style>\n",
       "<table border=\"1\" class=\"dataframe\">\n",
       "  <thead>\n",
       "    <tr style=\"text-align: right;\">\n",
       "      <th></th>\n",
       "      <th>vehicle_name</th>\n",
       "      <th>model</th>\n",
       "      <th>battery</th>\n",
       "      <th>seats</th>\n",
       "      <th>acceleration</th>\n",
       "      <th>top_speed</th>\n",
       "      <th>distance</th>\n",
       "      <th>efficiency</th>\n",
       "      <th>fast_charge</th>\n",
       "      <th>price_pounds</th>\n",
       "      <th>price_germany</th>\n",
       "      <th>price_netherland</th>\n",
       "    </tr>\n",
       "  </thead>\n",
       "  <tbody>\n",
       "    <tr>\n",
       "      <th>0</th>\n",
       "      <td>Renault</td>\n",
       "      <td>Megane E-Tech EV60 220hp</td>\n",
       "      <td>60.0</td>\n",
       "      <td>5</td>\n",
       "      <td>7.4</td>\n",
       "      <td>160</td>\n",
       "      <td>360</td>\n",
       "      <td>167</td>\n",
       "      <td>520</td>\n",
       "      <td>£35,000</td>\n",
       "      <td>€40,000</td>\n",
       "      <td>€40,000</td>\n",
       "    </tr>\n",
       "    <tr>\n",
       "      <th>1</th>\n",
       "      <td>Tesla</td>\n",
       "      <td>Model 3 Standard Range Plus LFP</td>\n",
       "      <td>52.5</td>\n",
       "      <td>5</td>\n",
       "      <td>5.6</td>\n",
       "      <td>225</td>\n",
       "      <td>350</td>\n",
       "      <td>150</td>\n",
       "      <td>630</td>\n",
       "      <td>40,990</td>\n",
       "      <td>43,560</td>\n",
       "      <td>49,990</td>\n",
       "    </tr>\n",
       "    <tr>\n",
       "      <th>2</th>\n",
       "      <td>Kia</td>\n",
       "      <td>EV6 GT</td>\n",
       "      <td>77.4</td>\n",
       "      <td>5</td>\n",
       "      <td>3.5</td>\n",
       "      <td>260</td>\n",
       "      <td>395</td>\n",
       "      <td>196</td>\n",
       "      <td>920</td>\n",
       "      <td>58,295</td>\n",
       "      <td>65,990</td>\n",
       "      <td>63,595</td>\n",
       "    </tr>\n",
       "    <tr>\n",
       "      <th>3</th>\n",
       "      <td>Tesla</td>\n",
       "      <td>Model Y Long Range Dual Motor</td>\n",
       "      <td>70.0</td>\n",
       "      <td>7</td>\n",
       "      <td>5.0</td>\n",
       "      <td>217</td>\n",
       "      <td>410</td>\n",
       "      <td>171</td>\n",
       "      <td>590</td>\n",
       "      <td>£54,000</td>\n",
       "      <td>59,965</td>\n",
       "      <td>65,010</td>\n",
       "    </tr>\n",
       "    <tr>\n",
       "      <th>4</th>\n",
       "      <td>Mercedes</td>\n",
       "      <td>EQS 580 4MATIC</td>\n",
       "      <td>107.8</td>\n",
       "      <td>5</td>\n",
       "      <td>4.3</td>\n",
       "      <td>210</td>\n",
       "      <td>610</td>\n",
       "      <td>177</td>\n",
       "      <td>800</td>\n",
       "      <td>£115,000</td>\n",
       "      <td>135,529</td>\n",
       "      <td>154,949</td>\n",
       "    </tr>\n",
       "  </tbody>\n",
       "</table>\n",
       "</div>"
      ],
      "text/plain": [
       "  vehicle_name                            model  battery  seats  acceleration  \\\n",
       "0      Renault         Megane E-Tech EV60 220hp     60.0      5           7.4   \n",
       "1        Tesla  Model 3 Standard Range Plus LFP     52.5      5           5.6   \n",
       "2          Kia                           EV6 GT     77.4      5           3.5   \n",
       "3        Tesla    Model Y Long Range Dual Motor     70.0      7           5.0   \n",
       "4     Mercedes                   EQS 580 4MATIC    107.8      5           4.3   \n",
       "\n",
       "   top_speed  distance  efficiency fast_charge price_pounds price_germany  \\\n",
       "0        160       360         167         520      £35,000       €40,000   \n",
       "1        225       350         150         630       40,990        43,560   \n",
       "2        260       395         196         920       58,295        65,990   \n",
       "3        217       410         171         590      £54,000        59,965   \n",
       "4        210       610         177         800     £115,000       135,529   \n",
       "\n",
       "  price_netherland  \n",
       "0          €40,000  \n",
       "1           49,990  \n",
       "2           63,595  \n",
       "3           65,010  \n",
       "4          154,949  "
      ]
     },
     "execution_count": 11,
     "metadata": {},
     "output_type": "execute_result"
    }
   ],
   "source": [
    "# check the dataframe\n",
    "df.head()"
   ]
  },
  {
   "cell_type": "code",
   "execution_count": 12,
   "metadata": {},
   "outputs": [
    {
     "data": {
      "text/plain": [
       "vehicle_name         object\n",
       "model                object\n",
       "battery             float64\n",
       "seats                 int64\n",
       "acceleration        float64\n",
       "top_speed             int64\n",
       "distance              int64\n",
       "efficiency            int64\n",
       "fast_charge          object\n",
       "price_pounds         object\n",
       "price_germany        object\n",
       "price_netherland     object\n",
       "dtype: object"
      ]
     },
     "execution_count": 12,
     "metadata": {},
     "output_type": "execute_result"
    }
   ],
   "source": [
    "# check the data-types\n",
    "df.dtypes"
   ]
  },
  {
   "cell_type": "markdown",
   "metadata": {},
   "source": [
    "#### Here, apart from vehicle_name and model all other columns should be numeric, lets convert them to Numeric types."
   ]
  },
  {
   "cell_type": "code",
   "execution_count": 15,
   "metadata": {},
   "outputs": [
    {
     "ename": "ValueError",
     "evalue": "invalid literal for int() with base 10: '-'",
     "output_type": "error",
     "traceback": [
      "\u001b[1;31m---------------------------------------------------------------------------\u001b[0m",
      "\u001b[1;31mValueError\u001b[0m                                Traceback (most recent call last)",
      "\u001b[1;32m<ipython-input-15-9afd8144e160>\u001b[0m in \u001b[0;36m<module>\u001b[1;34m\u001b[0m\n\u001b[1;32m----> 1\u001b[1;33m \u001b[0mdf\u001b[0m \u001b[1;33m=\u001b[0m \u001b[0mdf\u001b[0m\u001b[1;33m.\u001b[0m\u001b[0mastype\u001b[0m\u001b[1;33m(\u001b[0m\u001b[1;33m{\u001b[0m\u001b[1;34m'fast_charge'\u001b[0m\u001b[1;33m:\u001b[0m \u001b[0mnp\u001b[0m\u001b[1;33m.\u001b[0m\u001b[0mint\u001b[0m\u001b[1;33m}\u001b[0m\u001b[1;33m)\u001b[0m\u001b[1;33m\u001b[0m\u001b[1;33m\u001b[0m\u001b[0m\n\u001b[0m",
      "\u001b[1;32mC:\\ProgramData\\Anaconda3\\lib\\site-packages\\pandas\\core\\generic.py\u001b[0m in \u001b[0;36mastype\u001b[1;34m(self, dtype, copy, errors)\u001b[0m\n\u001b[0;32m   5681\u001b[0m                 \u001b[1;32mif\u001b[0m \u001b[0mcol_name\u001b[0m \u001b[1;32min\u001b[0m \u001b[0mdtype\u001b[0m\u001b[1;33m:\u001b[0m\u001b[1;33m\u001b[0m\u001b[1;33m\u001b[0m\u001b[0m\n\u001b[0;32m   5682\u001b[0m                     results.append(\n\u001b[1;32m-> 5683\u001b[1;33m                         \u001b[0mcol\u001b[0m\u001b[1;33m.\u001b[0m\u001b[0mastype\u001b[0m\u001b[1;33m(\u001b[0m\u001b[0mdtype\u001b[0m\u001b[1;33m=\u001b[0m\u001b[0mdtype\u001b[0m\u001b[1;33m[\u001b[0m\u001b[0mcol_name\u001b[0m\u001b[1;33m]\u001b[0m\u001b[1;33m,\u001b[0m \u001b[0mcopy\u001b[0m\u001b[1;33m=\u001b[0m\u001b[0mcopy\u001b[0m\u001b[1;33m,\u001b[0m \u001b[0merrors\u001b[0m\u001b[1;33m=\u001b[0m\u001b[0merrors\u001b[0m\u001b[1;33m)\u001b[0m\u001b[1;33m\u001b[0m\u001b[1;33m\u001b[0m\u001b[0m\n\u001b[0m\u001b[0;32m   5684\u001b[0m                     )\n\u001b[0;32m   5685\u001b[0m                 \u001b[1;32melse\u001b[0m\u001b[1;33m:\u001b[0m\u001b[1;33m\u001b[0m\u001b[1;33m\u001b[0m\u001b[0m\n",
      "\u001b[1;32mC:\\ProgramData\\Anaconda3\\lib\\site-packages\\pandas\\core\\generic.py\u001b[0m in \u001b[0;36mastype\u001b[1;34m(self, dtype, copy, errors)\u001b[0m\n\u001b[0;32m   5696\u001b[0m         \u001b[1;32melse\u001b[0m\u001b[1;33m:\u001b[0m\u001b[1;33m\u001b[0m\u001b[1;33m\u001b[0m\u001b[0m\n\u001b[0;32m   5697\u001b[0m             \u001b[1;31m# else, only a single dtype is given\u001b[0m\u001b[1;33m\u001b[0m\u001b[1;33m\u001b[0m\u001b[1;33m\u001b[0m\u001b[0m\n\u001b[1;32m-> 5698\u001b[1;33m             \u001b[0mnew_data\u001b[0m \u001b[1;33m=\u001b[0m \u001b[0mself\u001b[0m\u001b[1;33m.\u001b[0m\u001b[0m_data\u001b[0m\u001b[1;33m.\u001b[0m\u001b[0mastype\u001b[0m\u001b[1;33m(\u001b[0m\u001b[0mdtype\u001b[0m\u001b[1;33m=\u001b[0m\u001b[0mdtype\u001b[0m\u001b[1;33m,\u001b[0m \u001b[0mcopy\u001b[0m\u001b[1;33m=\u001b[0m\u001b[0mcopy\u001b[0m\u001b[1;33m,\u001b[0m \u001b[0merrors\u001b[0m\u001b[1;33m=\u001b[0m\u001b[0merrors\u001b[0m\u001b[1;33m)\u001b[0m\u001b[1;33m\u001b[0m\u001b[1;33m\u001b[0m\u001b[0m\n\u001b[0m\u001b[0;32m   5699\u001b[0m             \u001b[1;32mreturn\u001b[0m \u001b[0mself\u001b[0m\u001b[1;33m.\u001b[0m\u001b[0m_constructor\u001b[0m\u001b[1;33m(\u001b[0m\u001b[0mnew_data\u001b[0m\u001b[1;33m)\u001b[0m\u001b[1;33m.\u001b[0m\u001b[0m__finalize__\u001b[0m\u001b[1;33m(\u001b[0m\u001b[0mself\u001b[0m\u001b[1;33m)\u001b[0m\u001b[1;33m\u001b[0m\u001b[1;33m\u001b[0m\u001b[0m\n\u001b[0;32m   5700\u001b[0m \u001b[1;33m\u001b[0m\u001b[0m\n",
      "\u001b[1;32mC:\\ProgramData\\Anaconda3\\lib\\site-packages\\pandas\\core\\internals\\managers.py\u001b[0m in \u001b[0;36mastype\u001b[1;34m(self, dtype, copy, errors)\u001b[0m\n\u001b[0;32m    580\u001b[0m \u001b[1;33m\u001b[0m\u001b[0m\n\u001b[0;32m    581\u001b[0m     \u001b[1;32mdef\u001b[0m \u001b[0mastype\u001b[0m\u001b[1;33m(\u001b[0m\u001b[0mself\u001b[0m\u001b[1;33m,\u001b[0m \u001b[0mdtype\u001b[0m\u001b[1;33m,\u001b[0m \u001b[0mcopy\u001b[0m\u001b[1;33m:\u001b[0m \u001b[0mbool\u001b[0m \u001b[1;33m=\u001b[0m \u001b[1;32mFalse\u001b[0m\u001b[1;33m,\u001b[0m \u001b[0merrors\u001b[0m\u001b[1;33m:\u001b[0m \u001b[0mstr\u001b[0m \u001b[1;33m=\u001b[0m \u001b[1;34m\"raise\"\u001b[0m\u001b[1;33m)\u001b[0m\u001b[1;33m:\u001b[0m\u001b[1;33m\u001b[0m\u001b[1;33m\u001b[0m\u001b[0m\n\u001b[1;32m--> 582\u001b[1;33m         \u001b[1;32mreturn\u001b[0m \u001b[0mself\u001b[0m\u001b[1;33m.\u001b[0m\u001b[0mapply\u001b[0m\u001b[1;33m(\u001b[0m\u001b[1;34m\"astype\"\u001b[0m\u001b[1;33m,\u001b[0m \u001b[0mdtype\u001b[0m\u001b[1;33m=\u001b[0m\u001b[0mdtype\u001b[0m\u001b[1;33m,\u001b[0m \u001b[0mcopy\u001b[0m\u001b[1;33m=\u001b[0m\u001b[0mcopy\u001b[0m\u001b[1;33m,\u001b[0m \u001b[0merrors\u001b[0m\u001b[1;33m=\u001b[0m\u001b[0merrors\u001b[0m\u001b[1;33m)\u001b[0m\u001b[1;33m\u001b[0m\u001b[1;33m\u001b[0m\u001b[0m\n\u001b[0m\u001b[0;32m    583\u001b[0m \u001b[1;33m\u001b[0m\u001b[0m\n\u001b[0;32m    584\u001b[0m     \u001b[1;32mdef\u001b[0m \u001b[0mconvert\u001b[0m\u001b[1;33m(\u001b[0m\u001b[0mself\u001b[0m\u001b[1;33m,\u001b[0m \u001b[1;33m**\u001b[0m\u001b[0mkwargs\u001b[0m\u001b[1;33m)\u001b[0m\u001b[1;33m:\u001b[0m\u001b[1;33m\u001b[0m\u001b[1;33m\u001b[0m\u001b[0m\n",
      "\u001b[1;32mC:\\ProgramData\\Anaconda3\\lib\\site-packages\\pandas\\core\\internals\\managers.py\u001b[0m in \u001b[0;36mapply\u001b[1;34m(self, f, filter, **kwargs)\u001b[0m\n\u001b[0;32m    440\u001b[0m                 \u001b[0mapplied\u001b[0m \u001b[1;33m=\u001b[0m \u001b[0mb\u001b[0m\u001b[1;33m.\u001b[0m\u001b[0mapply\u001b[0m\u001b[1;33m(\u001b[0m\u001b[0mf\u001b[0m\u001b[1;33m,\u001b[0m \u001b[1;33m**\u001b[0m\u001b[0mkwargs\u001b[0m\u001b[1;33m)\u001b[0m\u001b[1;33m\u001b[0m\u001b[1;33m\u001b[0m\u001b[0m\n\u001b[0;32m    441\u001b[0m             \u001b[1;32melse\u001b[0m\u001b[1;33m:\u001b[0m\u001b[1;33m\u001b[0m\u001b[1;33m\u001b[0m\u001b[0m\n\u001b[1;32m--> 442\u001b[1;33m                 \u001b[0mapplied\u001b[0m \u001b[1;33m=\u001b[0m \u001b[0mgetattr\u001b[0m\u001b[1;33m(\u001b[0m\u001b[0mb\u001b[0m\u001b[1;33m,\u001b[0m \u001b[0mf\u001b[0m\u001b[1;33m)\u001b[0m\u001b[1;33m(\u001b[0m\u001b[1;33m**\u001b[0m\u001b[0mkwargs\u001b[0m\u001b[1;33m)\u001b[0m\u001b[1;33m\u001b[0m\u001b[1;33m\u001b[0m\u001b[0m\n\u001b[0m\u001b[0;32m    443\u001b[0m             \u001b[0mresult_blocks\u001b[0m \u001b[1;33m=\u001b[0m \u001b[0m_extend_blocks\u001b[0m\u001b[1;33m(\u001b[0m\u001b[0mapplied\u001b[0m\u001b[1;33m,\u001b[0m \u001b[0mresult_blocks\u001b[0m\u001b[1;33m)\u001b[0m\u001b[1;33m\u001b[0m\u001b[1;33m\u001b[0m\u001b[0m\n\u001b[0;32m    444\u001b[0m \u001b[1;33m\u001b[0m\u001b[0m\n",
      "\u001b[1;32mC:\\ProgramData\\Anaconda3\\lib\\site-packages\\pandas\\core\\internals\\blocks.py\u001b[0m in \u001b[0;36mastype\u001b[1;34m(self, dtype, copy, errors)\u001b[0m\n\u001b[0;32m    623\u001b[0m             \u001b[0mvals1d\u001b[0m \u001b[1;33m=\u001b[0m \u001b[0mvalues\u001b[0m\u001b[1;33m.\u001b[0m\u001b[0mravel\u001b[0m\u001b[1;33m(\u001b[0m\u001b[1;33m)\u001b[0m\u001b[1;33m\u001b[0m\u001b[1;33m\u001b[0m\u001b[0m\n\u001b[0;32m    624\u001b[0m             \u001b[1;32mtry\u001b[0m\u001b[1;33m:\u001b[0m\u001b[1;33m\u001b[0m\u001b[1;33m\u001b[0m\u001b[0m\n\u001b[1;32m--> 625\u001b[1;33m                 \u001b[0mvalues\u001b[0m \u001b[1;33m=\u001b[0m \u001b[0mastype_nansafe\u001b[0m\u001b[1;33m(\u001b[0m\u001b[0mvals1d\u001b[0m\u001b[1;33m,\u001b[0m \u001b[0mdtype\u001b[0m\u001b[1;33m,\u001b[0m \u001b[0mcopy\u001b[0m\u001b[1;33m=\u001b[0m\u001b[1;32mTrue\u001b[0m\u001b[1;33m)\u001b[0m\u001b[1;33m\u001b[0m\u001b[1;33m\u001b[0m\u001b[0m\n\u001b[0m\u001b[0;32m    626\u001b[0m             \u001b[1;32mexcept\u001b[0m \u001b[1;33m(\u001b[0m\u001b[0mValueError\u001b[0m\u001b[1;33m,\u001b[0m \u001b[0mTypeError\u001b[0m\u001b[1;33m)\u001b[0m\u001b[1;33m:\u001b[0m\u001b[1;33m\u001b[0m\u001b[1;33m\u001b[0m\u001b[0m\n\u001b[0;32m    627\u001b[0m                 \u001b[1;31m# e.g. astype_nansafe can fail on object-dtype of strings\u001b[0m\u001b[1;33m\u001b[0m\u001b[1;33m\u001b[0m\u001b[1;33m\u001b[0m\u001b[0m\n",
      "\u001b[1;32mC:\\ProgramData\\Anaconda3\\lib\\site-packages\\pandas\\core\\dtypes\\cast.py\u001b[0m in \u001b[0;36mastype_nansafe\u001b[1;34m(arr, dtype, copy, skipna)\u001b[0m\n\u001b[0;32m    872\u001b[0m         \u001b[1;31m# work around NumPy brokenness, #1987\u001b[0m\u001b[1;33m\u001b[0m\u001b[1;33m\u001b[0m\u001b[1;33m\u001b[0m\u001b[0m\n\u001b[0;32m    873\u001b[0m         \u001b[1;32mif\u001b[0m \u001b[0mnp\u001b[0m\u001b[1;33m.\u001b[0m\u001b[0missubdtype\u001b[0m\u001b[1;33m(\u001b[0m\u001b[0mdtype\u001b[0m\u001b[1;33m.\u001b[0m\u001b[0mtype\u001b[0m\u001b[1;33m,\u001b[0m \u001b[0mnp\u001b[0m\u001b[1;33m.\u001b[0m\u001b[0minteger\u001b[0m\u001b[1;33m)\u001b[0m\u001b[1;33m:\u001b[0m\u001b[1;33m\u001b[0m\u001b[1;33m\u001b[0m\u001b[0m\n\u001b[1;32m--> 874\u001b[1;33m             \u001b[1;32mreturn\u001b[0m \u001b[0mlib\u001b[0m\u001b[1;33m.\u001b[0m\u001b[0mastype_intsafe\u001b[0m\u001b[1;33m(\u001b[0m\u001b[0marr\u001b[0m\u001b[1;33m.\u001b[0m\u001b[0mravel\u001b[0m\u001b[1;33m(\u001b[0m\u001b[1;33m)\u001b[0m\u001b[1;33m,\u001b[0m \u001b[0mdtype\u001b[0m\u001b[1;33m)\u001b[0m\u001b[1;33m.\u001b[0m\u001b[0mreshape\u001b[0m\u001b[1;33m(\u001b[0m\u001b[0marr\u001b[0m\u001b[1;33m.\u001b[0m\u001b[0mshape\u001b[0m\u001b[1;33m)\u001b[0m\u001b[1;33m\u001b[0m\u001b[1;33m\u001b[0m\u001b[0m\n\u001b[0m\u001b[0;32m    875\u001b[0m \u001b[1;33m\u001b[0m\u001b[0m\n\u001b[0;32m    876\u001b[0m         \u001b[1;31m# if we have a datetime/timedelta array of objects\u001b[0m\u001b[1;33m\u001b[0m\u001b[1;33m\u001b[0m\u001b[1;33m\u001b[0m\u001b[0m\n",
      "\u001b[1;32mpandas\\_libs\\lib.pyx\u001b[0m in \u001b[0;36mpandas._libs.lib.astype_intsafe\u001b[1;34m()\u001b[0m\n",
      "\u001b[1;31mValueError\u001b[0m: invalid literal for int() with base 10: '-'"
     ]
    }
   ],
   "source": [
    "df = df.astype({'fast_charge': np.int})"
   ]
  },
  {
   "cell_type": "markdown",
   "metadata": {},
   "source": [
    "#### Observe that fast-charge is not converting to int type because of string value '-'\n",
    "#### Let us find and replace it"
   ]
  },
  {
   "cell_type": "code",
   "execution_count": 16,
   "metadata": {},
   "outputs": [
    {
     "data": {
      "text/plain": [
       "69   fast_charge    -\n",
       "113  fast_charge    -\n",
       "128  fast_charge    -\n",
       "142  fast_charge    -\n",
       "168  fast_charge    -\n",
       "dtype: object"
      ]
     },
     "execution_count": 16,
     "metadata": {},
     "output_type": "execute_result"
    }
   ],
   "source": [
    "# Find '-' in dataset\n",
    "df[df.isin(['-'])].stack()"
   ]
  },
  {
   "cell_type": "markdown",
   "metadata": {},
   "source": [
    "#### Its present only in fast-charge column"
   ]
  },
  {
   "cell_type": "code",
   "execution_count": 17,
   "metadata": {},
   "outputs": [],
   "source": [
    "# Replace string '-' with Null Value\n",
    "df['fast_charge']=df['fast_charge'].replace(to_replace='-', value=np.NaN)"
   ]
  },
  {
   "cell_type": "code",
   "execution_count": 20,
   "metadata": {},
   "outputs": [
    {
     "data": {
      "text/plain": [
       "5"
      ]
     },
     "execution_count": 20,
     "metadata": {},
     "output_type": "execute_result"
    }
   ],
   "source": [
    "# Check Null values\n",
    "df['fast_charge'].isnull().sum()"
   ]
  },
  {
   "cell_type": "code",
   "execution_count": 21,
   "metadata": {},
   "outputs": [],
   "source": [
    "# Replace Null values with Median values\n",
    "df['fast_charge'] = df['fast_charge'].fillna(df['fast_charge'].median())"
   ]
  },
  {
   "cell_type": "code",
   "execution_count": 22,
   "metadata": {},
   "outputs": [
    {
     "data": {
      "text/plain": [
       "0"
      ]
     },
     "execution_count": 22,
     "metadata": {},
     "output_type": "execute_result"
    }
   ],
   "source": [
    "# re-check Null values\n",
    "df['fast_charge'].isnull().sum()"
   ]
  },
  {
   "cell_type": "code",
   "execution_count": 25,
   "metadata": {},
   "outputs": [],
   "source": [
    "# Now convert fast-charge to Numeric type \n",
    "df = df.astype({'fast_charge': np.int})"
   ]
  },
  {
   "cell_type": "code",
   "execution_count": 26,
   "metadata": {},
   "outputs": [
    {
     "data": {
      "text/plain": [
       "vehicle_name         object\n",
       "model                object\n",
       "battery             float64\n",
       "seats                 int64\n",
       "acceleration        float64\n",
       "top_speed             int64\n",
       "distance              int64\n",
       "efficiency            int64\n",
       "fast_charge           int32\n",
       "price_pounds         object\n",
       "price_germany        object\n",
       "price_netherland     object\n",
       "dtype: object"
      ]
     },
     "execution_count": 26,
     "metadata": {},
     "output_type": "execute_result"
    }
   ],
   "source": [
    "#Check data-types\n",
    "df.dtypes"
   ]
  },
  {
   "cell_type": "markdown",
   "metadata": {},
   "source": [
    "#### Let us convert price_pounds, price_germany and price_netherland to Numeric types"
   ]
  },
  {
   "cell_type": "code",
   "execution_count": 27,
   "metadata": {},
   "outputs": [
    {
     "ename": "ValueError",
     "evalue": "invalid literal for int() with base 10: ' £35,000'",
     "output_type": "error",
     "traceback": [
      "\u001b[1;31m---------------------------------------------------------------------------\u001b[0m",
      "\u001b[1;31mValueError\u001b[0m                                Traceback (most recent call last)",
      "\u001b[1;32m<ipython-input-27-fb5a25af0e4e>\u001b[0m in \u001b[0;36m<module>\u001b[1;34m\u001b[0m\n\u001b[1;32m----> 1\u001b[1;33m \u001b[0mdf\u001b[0m \u001b[1;33m=\u001b[0m \u001b[0mdf\u001b[0m\u001b[1;33m.\u001b[0m\u001b[0mastype\u001b[0m\u001b[1;33m(\u001b[0m\u001b[1;33m{\u001b[0m\u001b[1;34m'price_pounds'\u001b[0m\u001b[1;33m:\u001b[0m \u001b[0mnp\u001b[0m\u001b[1;33m.\u001b[0m\u001b[0mint\u001b[0m\u001b[1;33m}\u001b[0m\u001b[1;33m)\u001b[0m\u001b[1;33m\u001b[0m\u001b[1;33m\u001b[0m\u001b[0m\n\u001b[0m",
      "\u001b[1;32mC:\\ProgramData\\Anaconda3\\lib\\site-packages\\pandas\\core\\generic.py\u001b[0m in \u001b[0;36mastype\u001b[1;34m(self, dtype, copy, errors)\u001b[0m\n\u001b[0;32m   5681\u001b[0m                 \u001b[1;32mif\u001b[0m \u001b[0mcol_name\u001b[0m \u001b[1;32min\u001b[0m \u001b[0mdtype\u001b[0m\u001b[1;33m:\u001b[0m\u001b[1;33m\u001b[0m\u001b[1;33m\u001b[0m\u001b[0m\n\u001b[0;32m   5682\u001b[0m                     results.append(\n\u001b[1;32m-> 5683\u001b[1;33m                         \u001b[0mcol\u001b[0m\u001b[1;33m.\u001b[0m\u001b[0mastype\u001b[0m\u001b[1;33m(\u001b[0m\u001b[0mdtype\u001b[0m\u001b[1;33m=\u001b[0m\u001b[0mdtype\u001b[0m\u001b[1;33m[\u001b[0m\u001b[0mcol_name\u001b[0m\u001b[1;33m]\u001b[0m\u001b[1;33m,\u001b[0m \u001b[0mcopy\u001b[0m\u001b[1;33m=\u001b[0m\u001b[0mcopy\u001b[0m\u001b[1;33m,\u001b[0m \u001b[0merrors\u001b[0m\u001b[1;33m=\u001b[0m\u001b[0merrors\u001b[0m\u001b[1;33m)\u001b[0m\u001b[1;33m\u001b[0m\u001b[1;33m\u001b[0m\u001b[0m\n\u001b[0m\u001b[0;32m   5684\u001b[0m                     )\n\u001b[0;32m   5685\u001b[0m                 \u001b[1;32melse\u001b[0m\u001b[1;33m:\u001b[0m\u001b[1;33m\u001b[0m\u001b[1;33m\u001b[0m\u001b[0m\n",
      "\u001b[1;32mC:\\ProgramData\\Anaconda3\\lib\\site-packages\\pandas\\core\\generic.py\u001b[0m in \u001b[0;36mastype\u001b[1;34m(self, dtype, copy, errors)\u001b[0m\n\u001b[0;32m   5696\u001b[0m         \u001b[1;32melse\u001b[0m\u001b[1;33m:\u001b[0m\u001b[1;33m\u001b[0m\u001b[1;33m\u001b[0m\u001b[0m\n\u001b[0;32m   5697\u001b[0m             \u001b[1;31m# else, only a single dtype is given\u001b[0m\u001b[1;33m\u001b[0m\u001b[1;33m\u001b[0m\u001b[1;33m\u001b[0m\u001b[0m\n\u001b[1;32m-> 5698\u001b[1;33m             \u001b[0mnew_data\u001b[0m \u001b[1;33m=\u001b[0m \u001b[0mself\u001b[0m\u001b[1;33m.\u001b[0m\u001b[0m_data\u001b[0m\u001b[1;33m.\u001b[0m\u001b[0mastype\u001b[0m\u001b[1;33m(\u001b[0m\u001b[0mdtype\u001b[0m\u001b[1;33m=\u001b[0m\u001b[0mdtype\u001b[0m\u001b[1;33m,\u001b[0m \u001b[0mcopy\u001b[0m\u001b[1;33m=\u001b[0m\u001b[0mcopy\u001b[0m\u001b[1;33m,\u001b[0m \u001b[0merrors\u001b[0m\u001b[1;33m=\u001b[0m\u001b[0merrors\u001b[0m\u001b[1;33m)\u001b[0m\u001b[1;33m\u001b[0m\u001b[1;33m\u001b[0m\u001b[0m\n\u001b[0m\u001b[0;32m   5699\u001b[0m             \u001b[1;32mreturn\u001b[0m \u001b[0mself\u001b[0m\u001b[1;33m.\u001b[0m\u001b[0m_constructor\u001b[0m\u001b[1;33m(\u001b[0m\u001b[0mnew_data\u001b[0m\u001b[1;33m)\u001b[0m\u001b[1;33m.\u001b[0m\u001b[0m__finalize__\u001b[0m\u001b[1;33m(\u001b[0m\u001b[0mself\u001b[0m\u001b[1;33m)\u001b[0m\u001b[1;33m\u001b[0m\u001b[1;33m\u001b[0m\u001b[0m\n\u001b[0;32m   5700\u001b[0m \u001b[1;33m\u001b[0m\u001b[0m\n",
      "\u001b[1;32mC:\\ProgramData\\Anaconda3\\lib\\site-packages\\pandas\\core\\internals\\managers.py\u001b[0m in \u001b[0;36mastype\u001b[1;34m(self, dtype, copy, errors)\u001b[0m\n\u001b[0;32m    580\u001b[0m \u001b[1;33m\u001b[0m\u001b[0m\n\u001b[0;32m    581\u001b[0m     \u001b[1;32mdef\u001b[0m \u001b[0mastype\u001b[0m\u001b[1;33m(\u001b[0m\u001b[0mself\u001b[0m\u001b[1;33m,\u001b[0m \u001b[0mdtype\u001b[0m\u001b[1;33m,\u001b[0m \u001b[0mcopy\u001b[0m\u001b[1;33m:\u001b[0m \u001b[0mbool\u001b[0m \u001b[1;33m=\u001b[0m \u001b[1;32mFalse\u001b[0m\u001b[1;33m,\u001b[0m \u001b[0merrors\u001b[0m\u001b[1;33m:\u001b[0m \u001b[0mstr\u001b[0m \u001b[1;33m=\u001b[0m \u001b[1;34m\"raise\"\u001b[0m\u001b[1;33m)\u001b[0m\u001b[1;33m:\u001b[0m\u001b[1;33m\u001b[0m\u001b[1;33m\u001b[0m\u001b[0m\n\u001b[1;32m--> 582\u001b[1;33m         \u001b[1;32mreturn\u001b[0m \u001b[0mself\u001b[0m\u001b[1;33m.\u001b[0m\u001b[0mapply\u001b[0m\u001b[1;33m(\u001b[0m\u001b[1;34m\"astype\"\u001b[0m\u001b[1;33m,\u001b[0m \u001b[0mdtype\u001b[0m\u001b[1;33m=\u001b[0m\u001b[0mdtype\u001b[0m\u001b[1;33m,\u001b[0m \u001b[0mcopy\u001b[0m\u001b[1;33m=\u001b[0m\u001b[0mcopy\u001b[0m\u001b[1;33m,\u001b[0m \u001b[0merrors\u001b[0m\u001b[1;33m=\u001b[0m\u001b[0merrors\u001b[0m\u001b[1;33m)\u001b[0m\u001b[1;33m\u001b[0m\u001b[1;33m\u001b[0m\u001b[0m\n\u001b[0m\u001b[0;32m    583\u001b[0m \u001b[1;33m\u001b[0m\u001b[0m\n\u001b[0;32m    584\u001b[0m     \u001b[1;32mdef\u001b[0m \u001b[0mconvert\u001b[0m\u001b[1;33m(\u001b[0m\u001b[0mself\u001b[0m\u001b[1;33m,\u001b[0m \u001b[1;33m**\u001b[0m\u001b[0mkwargs\u001b[0m\u001b[1;33m)\u001b[0m\u001b[1;33m:\u001b[0m\u001b[1;33m\u001b[0m\u001b[1;33m\u001b[0m\u001b[0m\n",
      "\u001b[1;32mC:\\ProgramData\\Anaconda3\\lib\\site-packages\\pandas\\core\\internals\\managers.py\u001b[0m in \u001b[0;36mapply\u001b[1;34m(self, f, filter, **kwargs)\u001b[0m\n\u001b[0;32m    440\u001b[0m                 \u001b[0mapplied\u001b[0m \u001b[1;33m=\u001b[0m \u001b[0mb\u001b[0m\u001b[1;33m.\u001b[0m\u001b[0mapply\u001b[0m\u001b[1;33m(\u001b[0m\u001b[0mf\u001b[0m\u001b[1;33m,\u001b[0m \u001b[1;33m**\u001b[0m\u001b[0mkwargs\u001b[0m\u001b[1;33m)\u001b[0m\u001b[1;33m\u001b[0m\u001b[1;33m\u001b[0m\u001b[0m\n\u001b[0;32m    441\u001b[0m             \u001b[1;32melse\u001b[0m\u001b[1;33m:\u001b[0m\u001b[1;33m\u001b[0m\u001b[1;33m\u001b[0m\u001b[0m\n\u001b[1;32m--> 442\u001b[1;33m                 \u001b[0mapplied\u001b[0m \u001b[1;33m=\u001b[0m \u001b[0mgetattr\u001b[0m\u001b[1;33m(\u001b[0m\u001b[0mb\u001b[0m\u001b[1;33m,\u001b[0m \u001b[0mf\u001b[0m\u001b[1;33m)\u001b[0m\u001b[1;33m(\u001b[0m\u001b[1;33m**\u001b[0m\u001b[0mkwargs\u001b[0m\u001b[1;33m)\u001b[0m\u001b[1;33m\u001b[0m\u001b[1;33m\u001b[0m\u001b[0m\n\u001b[0m\u001b[0;32m    443\u001b[0m             \u001b[0mresult_blocks\u001b[0m \u001b[1;33m=\u001b[0m \u001b[0m_extend_blocks\u001b[0m\u001b[1;33m(\u001b[0m\u001b[0mapplied\u001b[0m\u001b[1;33m,\u001b[0m \u001b[0mresult_blocks\u001b[0m\u001b[1;33m)\u001b[0m\u001b[1;33m\u001b[0m\u001b[1;33m\u001b[0m\u001b[0m\n\u001b[0;32m    444\u001b[0m \u001b[1;33m\u001b[0m\u001b[0m\n",
      "\u001b[1;32mC:\\ProgramData\\Anaconda3\\lib\\site-packages\\pandas\\core\\internals\\blocks.py\u001b[0m in \u001b[0;36mastype\u001b[1;34m(self, dtype, copy, errors)\u001b[0m\n\u001b[0;32m    623\u001b[0m             \u001b[0mvals1d\u001b[0m \u001b[1;33m=\u001b[0m \u001b[0mvalues\u001b[0m\u001b[1;33m.\u001b[0m\u001b[0mravel\u001b[0m\u001b[1;33m(\u001b[0m\u001b[1;33m)\u001b[0m\u001b[1;33m\u001b[0m\u001b[1;33m\u001b[0m\u001b[0m\n\u001b[0;32m    624\u001b[0m             \u001b[1;32mtry\u001b[0m\u001b[1;33m:\u001b[0m\u001b[1;33m\u001b[0m\u001b[1;33m\u001b[0m\u001b[0m\n\u001b[1;32m--> 625\u001b[1;33m                 \u001b[0mvalues\u001b[0m \u001b[1;33m=\u001b[0m \u001b[0mastype_nansafe\u001b[0m\u001b[1;33m(\u001b[0m\u001b[0mvals1d\u001b[0m\u001b[1;33m,\u001b[0m \u001b[0mdtype\u001b[0m\u001b[1;33m,\u001b[0m \u001b[0mcopy\u001b[0m\u001b[1;33m=\u001b[0m\u001b[1;32mTrue\u001b[0m\u001b[1;33m)\u001b[0m\u001b[1;33m\u001b[0m\u001b[1;33m\u001b[0m\u001b[0m\n\u001b[0m\u001b[0;32m    626\u001b[0m             \u001b[1;32mexcept\u001b[0m \u001b[1;33m(\u001b[0m\u001b[0mValueError\u001b[0m\u001b[1;33m,\u001b[0m \u001b[0mTypeError\u001b[0m\u001b[1;33m)\u001b[0m\u001b[1;33m:\u001b[0m\u001b[1;33m\u001b[0m\u001b[1;33m\u001b[0m\u001b[0m\n\u001b[0;32m    627\u001b[0m                 \u001b[1;31m# e.g. astype_nansafe can fail on object-dtype of strings\u001b[0m\u001b[1;33m\u001b[0m\u001b[1;33m\u001b[0m\u001b[1;33m\u001b[0m\u001b[0m\n",
      "\u001b[1;32mC:\\ProgramData\\Anaconda3\\lib\\site-packages\\pandas\\core\\dtypes\\cast.py\u001b[0m in \u001b[0;36mastype_nansafe\u001b[1;34m(arr, dtype, copy, skipna)\u001b[0m\n\u001b[0;32m    872\u001b[0m         \u001b[1;31m# work around NumPy brokenness, #1987\u001b[0m\u001b[1;33m\u001b[0m\u001b[1;33m\u001b[0m\u001b[1;33m\u001b[0m\u001b[0m\n\u001b[0;32m    873\u001b[0m         \u001b[1;32mif\u001b[0m \u001b[0mnp\u001b[0m\u001b[1;33m.\u001b[0m\u001b[0missubdtype\u001b[0m\u001b[1;33m(\u001b[0m\u001b[0mdtype\u001b[0m\u001b[1;33m.\u001b[0m\u001b[0mtype\u001b[0m\u001b[1;33m,\u001b[0m \u001b[0mnp\u001b[0m\u001b[1;33m.\u001b[0m\u001b[0minteger\u001b[0m\u001b[1;33m)\u001b[0m\u001b[1;33m:\u001b[0m\u001b[1;33m\u001b[0m\u001b[1;33m\u001b[0m\u001b[0m\n\u001b[1;32m--> 874\u001b[1;33m             \u001b[1;32mreturn\u001b[0m \u001b[0mlib\u001b[0m\u001b[1;33m.\u001b[0m\u001b[0mastype_intsafe\u001b[0m\u001b[1;33m(\u001b[0m\u001b[0marr\u001b[0m\u001b[1;33m.\u001b[0m\u001b[0mravel\u001b[0m\u001b[1;33m(\u001b[0m\u001b[1;33m)\u001b[0m\u001b[1;33m,\u001b[0m \u001b[0mdtype\u001b[0m\u001b[1;33m)\u001b[0m\u001b[1;33m.\u001b[0m\u001b[0mreshape\u001b[0m\u001b[1;33m(\u001b[0m\u001b[0marr\u001b[0m\u001b[1;33m.\u001b[0m\u001b[0mshape\u001b[0m\u001b[1;33m)\u001b[0m\u001b[1;33m\u001b[0m\u001b[1;33m\u001b[0m\u001b[0m\n\u001b[0m\u001b[0;32m    875\u001b[0m \u001b[1;33m\u001b[0m\u001b[0m\n\u001b[0;32m    876\u001b[0m         \u001b[1;31m# if we have a datetime/timedelta array of objects\u001b[0m\u001b[1;33m\u001b[0m\u001b[1;33m\u001b[0m\u001b[1;33m\u001b[0m\u001b[0m\n",
      "\u001b[1;32mpandas\\_libs\\lib.pyx\u001b[0m in \u001b[0;36mpandas._libs.lib.astype_intsafe\u001b[1;34m()\u001b[0m\n",
      "\u001b[1;31mValueError\u001b[0m: invalid literal for int() with base 10: ' £35,000'"
     ]
    }
   ],
   "source": [
    "df = df.astype({'price_pounds': np.int})"
   ]
  },
  {
   "cell_type": "markdown",
   "metadata": {},
   "source": [
    "#### Its not getting converted, we need to clean it first"
   ]
  },
  {
   "cell_type": "code",
   "execution_count": 38,
   "metadata": {},
   "outputs": [],
   "source": [
    "#Cleaning comma(,), curency symbols(£,€), and replacing N/A(/A) values with Null(NaN).\n",
    "df['price_pounds'] = df['price_pounds'].str.replace(',', '')\n",
    "df['price_pounds'] = df['price_pounds'].str.replace('£', '')\n",
    "df['price_pounds'] = df['price_pounds'].str.replace('€', '')\n",
    "df['price_pounds'] = df['price_pounds'].str.replace('/A', '')\n",
    "df['price_pounds'] = df['price_pounds'].replace(to_replace='', value=np.NaN)"
   ]
  },
  {
   "cell_type": "code",
   "execution_count": 39,
   "metadata": {},
   "outputs": [
    {
     "data": {
      "text/plain": [
       "45"
      ]
     },
     "execution_count": 39,
     "metadata": {},
     "output_type": "execute_result"
    }
   ],
   "source": [
    "#Check its Null values\n",
    "df['price_pounds'].isnull().sum()"
   ]
  },
  {
   "cell_type": "code",
   "execution_count": 40,
   "metadata": {},
   "outputs": [
    {
     "data": {
      "text/plain": [
       "dtype('O')"
      ]
     },
     "execution_count": 40,
     "metadata": {},
     "output_type": "execute_result"
    }
   ],
   "source": [
    "#Check its dtype\n",
    "df['price_pounds'].dtype"
   ]
  },
  {
   "cell_type": "code",
   "execution_count": 42,
   "metadata": {},
   "outputs": [],
   "source": [
    "#Convert it into numeric type\n",
    "df = df.astype({'price_pounds': np.float32})"
   ]
  },
  {
   "cell_type": "code",
   "execution_count": 44,
   "metadata": {},
   "outputs": [
    {
     "data": {
      "text/plain": [
       "dtype('float32')"
      ]
     },
     "execution_count": 44,
     "metadata": {},
     "output_type": "execute_result"
    }
   ],
   "source": [
    "# Check its dtype again\n",
    "df['price_pounds'].dtype"
   ]
  },
  {
   "cell_type": "markdown",
   "metadata": {},
   "source": [
    "#### Now we do similar cleaning for price_germany and price_netherland"
   ]
  },
  {
   "cell_type": "code",
   "execution_count": 45,
   "metadata": {},
   "outputs": [],
   "source": [
    "#Cleaning comma(,), curency symbols(£,€), and replacing N/A(/A) values with Null(NaN).\n",
    "df['price_germany'] = df['price_germany'].str.replace(',', '')\n",
    "df['price_germany'] = df['price_germany'].str.replace('£', '')\n",
    "df['price_germany'] = df['price_germany'].str.replace('€', '')\n",
    "df['price_germany'] = df['price_germany'].str.replace('/A', '')\n",
    "df['price_germany'] = df['price_germany'].replace(to_replace='', value=np.NaN)\n",
    "#Converting it to Numric data-type\n",
    "df = df.astype({'price_germany': np.float32})"
   ]
  },
  {
   "cell_type": "code",
   "execution_count": 49,
   "metadata": {},
   "outputs": [],
   "source": [
    "#Cleaning comma(,), curency symbols(£,€), and replacing N/A(/A) values with Null(NaN).\n",
    "df['price_netherland'] = df['price_netherland'].str.replace(',', '')\n",
    "df['price_netherland'] = df['price_netherland'].str.replace('£', '')\n",
    "df['price_netherland'] = df['price_netherland'].str.replace('€', '')\n",
    "df['price_netherland'] = df['price_netherland'].str.replace('/A', '')\n",
    "df['price_netherland'] = df['price_netherland'].replace(to_replace='', value=np.NaN)\n",
    "#Converting it to Numric data-type\n",
    "df = df.astype({'price_netherland': np.float32})"
   ]
  },
  {
   "cell_type": "code",
   "execution_count": 50,
   "metadata": {},
   "outputs": [
    {
     "data": {
      "text/plain": [
       "vehicle_name         object\n",
       "model                object\n",
       "battery             float64\n",
       "seats                 int64\n",
       "acceleration        float64\n",
       "top_speed             int64\n",
       "distance              int64\n",
       "efficiency            int64\n",
       "fast_charge           int32\n",
       "price_pounds        float32\n",
       "price_germany       float32\n",
       "price_netherland    float32\n",
       "dtype: object"
      ]
     },
     "execution_count": 50,
     "metadata": {},
     "output_type": "execute_result"
    }
   ],
   "source": [
    "#Check overall data-type\n",
    "df.dtypes"
   ]
  },
  {
   "cell_type": "code",
   "execution_count": 51,
   "metadata": {},
   "outputs": [
    {
     "data": {
      "text/html": [
       "<div>\n",
       "<style scoped>\n",
       "    .dataframe tbody tr th:only-of-type {\n",
       "        vertical-align: middle;\n",
       "    }\n",
       "\n",
       "    .dataframe tbody tr th {\n",
       "        vertical-align: top;\n",
       "    }\n",
       "\n",
       "    .dataframe thead th {\n",
       "        text-align: right;\n",
       "    }\n",
       "</style>\n",
       "<table border=\"1\" class=\"dataframe\">\n",
       "  <thead>\n",
       "    <tr style=\"text-align: right;\">\n",
       "      <th></th>\n",
       "      <th>vehicle_name</th>\n",
       "      <th>model</th>\n",
       "      <th>battery</th>\n",
       "      <th>seats</th>\n",
       "      <th>acceleration</th>\n",
       "      <th>top_speed</th>\n",
       "      <th>distance</th>\n",
       "      <th>efficiency</th>\n",
       "      <th>fast_charge</th>\n",
       "      <th>price_pounds</th>\n",
       "      <th>price_germany</th>\n",
       "      <th>price_netherland</th>\n",
       "    </tr>\n",
       "  </thead>\n",
       "  <tbody>\n",
       "    <tr>\n",
       "      <th>0</th>\n",
       "      <td>Renault</td>\n",
       "      <td>Megane E-Tech EV60 220hp</td>\n",
       "      <td>60.0</td>\n",
       "      <td>5</td>\n",
       "      <td>7.4</td>\n",
       "      <td>160</td>\n",
       "      <td>360</td>\n",
       "      <td>167</td>\n",
       "      <td>520</td>\n",
       "      <td>35000.0</td>\n",
       "      <td>40000.0</td>\n",
       "      <td>40000.0</td>\n",
       "    </tr>\n",
       "    <tr>\n",
       "      <th>1</th>\n",
       "      <td>Tesla</td>\n",
       "      <td>Model 3 Standard Range Plus LFP</td>\n",
       "      <td>52.5</td>\n",
       "      <td>5</td>\n",
       "      <td>5.6</td>\n",
       "      <td>225</td>\n",
       "      <td>350</td>\n",
       "      <td>150</td>\n",
       "      <td>630</td>\n",
       "      <td>40990.0</td>\n",
       "      <td>43560.0</td>\n",
       "      <td>49990.0</td>\n",
       "    </tr>\n",
       "    <tr>\n",
       "      <th>2</th>\n",
       "      <td>Kia</td>\n",
       "      <td>EV6 GT</td>\n",
       "      <td>77.4</td>\n",
       "      <td>5</td>\n",
       "      <td>3.5</td>\n",
       "      <td>260</td>\n",
       "      <td>395</td>\n",
       "      <td>196</td>\n",
       "      <td>920</td>\n",
       "      <td>58295.0</td>\n",
       "      <td>65990.0</td>\n",
       "      <td>63595.0</td>\n",
       "    </tr>\n",
       "    <tr>\n",
       "      <th>3</th>\n",
       "      <td>Tesla</td>\n",
       "      <td>Model Y Long Range Dual Motor</td>\n",
       "      <td>70.0</td>\n",
       "      <td>7</td>\n",
       "      <td>5.0</td>\n",
       "      <td>217</td>\n",
       "      <td>410</td>\n",
       "      <td>171</td>\n",
       "      <td>590</td>\n",
       "      <td>54000.0</td>\n",
       "      <td>59965.0</td>\n",
       "      <td>65010.0</td>\n",
       "    </tr>\n",
       "    <tr>\n",
       "      <th>4</th>\n",
       "      <td>Mercedes</td>\n",
       "      <td>EQS 580 4MATIC</td>\n",
       "      <td>107.8</td>\n",
       "      <td>5</td>\n",
       "      <td>4.3</td>\n",
       "      <td>210</td>\n",
       "      <td>610</td>\n",
       "      <td>177</td>\n",
       "      <td>800</td>\n",
       "      <td>115000.0</td>\n",
       "      <td>135529.0</td>\n",
       "      <td>154949.0</td>\n",
       "    </tr>\n",
       "  </tbody>\n",
       "</table>\n",
       "</div>"
      ],
      "text/plain": [
       "  vehicle_name                            model  battery  seats  acceleration  \\\n",
       "0      Renault         Megane E-Tech EV60 220hp     60.0      5           7.4   \n",
       "1        Tesla  Model 3 Standard Range Plus LFP     52.5      5           5.6   \n",
       "2          Kia                           EV6 GT     77.4      5           3.5   \n",
       "3        Tesla    Model Y Long Range Dual Motor     70.0      7           5.0   \n",
       "4     Mercedes                   EQS 580 4MATIC    107.8      5           4.3   \n",
       "\n",
       "   top_speed  distance  efficiency  fast_charge  price_pounds  price_germany  \\\n",
       "0        160       360         167          520       35000.0        40000.0   \n",
       "1        225       350         150          630       40990.0        43560.0   \n",
       "2        260       395         196          920       58295.0        65990.0   \n",
       "3        217       410         171          590       54000.0        59965.0   \n",
       "4        210       610         177          800      115000.0       135529.0   \n",
       "\n",
       "   price_netherland  \n",
       "0           40000.0  \n",
       "1           49990.0  \n",
       "2           63595.0  \n",
       "3           65010.0  \n",
       "4          154949.0  "
      ]
     },
     "execution_count": 51,
     "metadata": {},
     "output_type": "execute_result"
    }
   ],
   "source": [
    "#check dataset\n",
    "df.head()"
   ]
  },
  {
   "cell_type": "code",
   "execution_count": 52,
   "metadata": {},
   "outputs": [
    {
     "data": {
      "text/plain": [
       "vehicle_name         0\n",
       "model                0\n",
       "battery              0\n",
       "seats                0\n",
       "acceleration         0\n",
       "top_speed            0\n",
       "distance             0\n",
       "efficiency           0\n",
       "fast_charge          0\n",
       "price_pounds        45\n",
       "price_germany       13\n",
       "price_netherland    25\n",
       "dtype: int64"
      ]
     },
     "execution_count": 52,
     "metadata": {},
     "output_type": "execute_result"
    }
   ],
   "source": [
    "#Check Null values\n",
    "df.isnull().sum()"
   ]
  },
  {
   "cell_type": "markdown",
   "metadata": {},
   "source": [
    "#### The three price columns have Null values, and price_germany has least Null Values. It is suggested that instead of keeping prices in three different currencies, we can convert the price to universal currency USD value. But before that we will see it price_germany has any outliers."
   ]
  },
  {
   "cell_type": "code",
   "execution_count": 55,
   "metadata": {},
   "outputs": [
    {
     "data": {
      "text/plain": [
       "<matplotlib.axes._subplots.AxesSubplot at 0x210032925b0>"
      ]
     },
     "execution_count": 55,
     "metadata": {},
     "output_type": "execute_result"
    },
    {
     "data": {
      "image/png": "[encoded data removed]",
      "text/plain": [
       "<Figure size 432x288 with 1 Axes>"
      ]
     },
     "metadata": {
      "needs_background": "light"
     },
     "output_type": "display_data"
    }
   ],
   "source": [
    "#Plot the price_germany using box-plot to visualize Outliers\n",
    "sns.boxplot(x='price_germany',data=df,orient='v')"
   ]
  },
  {
   "cell_type": "markdown",
   "metadata": {},
   "source": [
    "#### We observe many outliers on the upper side. "
   ]
  },
  {
   "cell_type": "code",
   "execution_count": 57,
   "metadata": {},
   "outputs": [],
   "source": [
    "#Lets see how to get the outliers\n",
    "Q1 = df['price_germany'].quantile(0.25) #First Quantile\n",
    "Q3 = df['price_germany'].quantile(0.75) # Third Quantile\n",
    "IQR = Q3 - Q1 #Interquantile Range"
   ]
  },
  {
   "cell_type": "markdown",
   "metadata": {},
   "source": [
    "#### Upper side Outliers are Q3+1.5(IQR)\n",
    "#### Lower side Outliers are Q1-1.5(IQR)"
   ]
  },
  {
   "cell_type": "code",
   "execution_count": 59,
   "metadata": {},
   "outputs": [],
   "source": [
    "## storing index locations of upper and lower outliers\n",
    "index_upper = df[df['price_germany'] >= (Q3+1.5*IQR)].index\n",
    "index_lower = df[df['price_germany'] <= (Q1-1.5*IQR)].index"
   ]
  },
  {
   "cell_type": "code",
   "execution_count": 60,
   "metadata": {},
   "outputs": [
    {
     "data": {
      "text/html": [
       "<div>\n",
       "<style scoped>\n",
       "    .dataframe tbody tr th:only-of-type {\n",
       "        vertical-align: middle;\n",
       "    }\n",
       "\n",
       "    .dataframe tbody tr th {\n",
       "        vertical-align: top;\n",
       "    }\n",
       "\n",
       "    .dataframe thead th {\n",
       "        text-align: right;\n",
       "    }\n",
       "</style>\n",
       "<table border=\"1\" class=\"dataframe\">\n",
       "  <thead>\n",
       "    <tr style=\"text-align: right;\">\n",
       "      <th></th>\n",
       "      <th>vehicle_name</th>\n",
       "      <th>model</th>\n",
       "      <th>battery</th>\n",
       "      <th>seats</th>\n",
       "      <th>acceleration</th>\n",
       "      <th>top_speed</th>\n",
       "      <th>distance</th>\n",
       "      <th>efficiency</th>\n",
       "      <th>fast_charge</th>\n",
       "      <th>price_pounds</th>\n",
       "      <th>price_germany</th>\n",
       "      <th>price_netherland</th>\n",
       "    </tr>\n",
       "  </thead>\n",
       "  <tbody>\n",
       "    <tr>\n",
       "      <th>4</th>\n",
       "      <td>Mercedes</td>\n",
       "      <td>EQS 580 4MATIC</td>\n",
       "      <td>107.8</td>\n",
       "      <td>5</td>\n",
       "      <td>4.3</td>\n",
       "      <td>210</td>\n",
       "      <td>610</td>\n",
       "      <td>177</td>\n",
       "      <td>800</td>\n",
       "      <td>115000.0</td>\n",
       "      <td>135529.0</td>\n",
       "      <td>154949.0</td>\n",
       "    </tr>\n",
       "    <tr>\n",
       "      <th>14</th>\n",
       "      <td>Mercedes</td>\n",
       "      <td>EQS 450+</td>\n",
       "      <td>107.8</td>\n",
       "      <td>5</td>\n",
       "      <td>6.2</td>\n",
       "      <td>210</td>\n",
       "      <td>640</td>\n",
       "      <td>168</td>\n",
       "      <td>840</td>\n",
       "      <td>95000.0</td>\n",
       "      <td>106374.0</td>\n",
       "      <td>118891.0</td>\n",
       "    </tr>\n",
       "    <tr>\n",
       "      <th>17</th>\n",
       "      <td>Audi</td>\n",
       "      <td>e-tron GT RS</td>\n",
       "      <td>85.0</td>\n",
       "      <td>4</td>\n",
       "      <td>3.3</td>\n",
       "      <td>250</td>\n",
       "      <td>405</td>\n",
       "      <td>210</td>\n",
       "      <td>810</td>\n",
       "      <td>110950.0</td>\n",
       "      <td>138200.0</td>\n",
       "      <td>146295.0</td>\n",
       "    </tr>\n",
       "    <tr>\n",
       "      <th>25</th>\n",
       "      <td>Tesla</td>\n",
       "      <td>Model S Plaid</td>\n",
       "      <td>90.0</td>\n",
       "      <td>5</td>\n",
       "      <td>2.1</td>\n",
       "      <td>322</td>\n",
       "      <td>535</td>\n",
       "      <td>168</td>\n",
       "      <td>800</td>\n",
       "      <td>118980.0</td>\n",
       "      <td>126990.0</td>\n",
       "      <td>131000.0</td>\n",
       "    </tr>\n",
       "    <tr>\n",
       "      <th>37</th>\n",
       "      <td>Porsche</td>\n",
       "      <td>Taycan Turbo S</td>\n",
       "      <td>83.7</td>\n",
       "      <td>4</td>\n",
       "      <td>2.8</td>\n",
       "      <td>260</td>\n",
       "      <td>390</td>\n",
       "      <td>215</td>\n",
       "      <td>860</td>\n",
       "      <td>138830.0</td>\n",
       "      <td>186336.0</td>\n",
       "      <td>191700.0</td>\n",
       "    </tr>\n",
       "    <tr>\n",
       "      <th>49</th>\n",
       "      <td>Lightyear</td>\n",
       "      <td>One</td>\n",
       "      <td>60.0</td>\n",
       "      <td>5</td>\n",
       "      <td>10.0</td>\n",
       "      <td>150</td>\n",
       "      <td>575</td>\n",
       "      <td>104</td>\n",
       "      <td>540</td>\n",
       "      <td>NaN</td>\n",
       "      <td>149000.0</td>\n",
       "      <td>149990.0</td>\n",
       "    </tr>\n",
       "    <tr>\n",
       "      <th>78</th>\n",
       "      <td>Tesla</td>\n",
       "      <td>Roadster</td>\n",
       "      <td>200.0</td>\n",
       "      <td>4</td>\n",
       "      <td>2.1</td>\n",
       "      <td>410</td>\n",
       "      <td>970</td>\n",
       "      <td>206</td>\n",
       "      <td>920</td>\n",
       "      <td>189000.0</td>\n",
       "      <td>215000.0</td>\n",
       "      <td>215000.0</td>\n",
       "    </tr>\n",
       "    <tr>\n",
       "      <th>84</th>\n",
       "      <td>Lucid</td>\n",
       "      <td>Air Grand Touring</td>\n",
       "      <td>110.0</td>\n",
       "      <td>5</td>\n",
       "      <td>3.2</td>\n",
       "      <td>270</td>\n",
       "      <td>660</td>\n",
       "      <td>167</td>\n",
       "      <td>1380</td>\n",
       "      <td>125000.0</td>\n",
       "      <td>140000.0</td>\n",
       "      <td>140000.0</td>\n",
       "    </tr>\n",
       "    <tr>\n",
       "      <th>111</th>\n",
       "      <td>Tesla</td>\n",
       "      <td>Model X Plaid</td>\n",
       "      <td>90.0</td>\n",
       "      <td>7</td>\n",
       "      <td>2.6</td>\n",
       "      <td>262</td>\n",
       "      <td>455</td>\n",
       "      <td>198</td>\n",
       "      <td>680</td>\n",
       "      <td>110980.0</td>\n",
       "      <td>116990.0</td>\n",
       "      <td>121000.0</td>\n",
       "    </tr>\n",
       "    <tr>\n",
       "      <th>115</th>\n",
       "      <td>Porsche</td>\n",
       "      <td>Taycan 4S</td>\n",
       "      <td>71.0</td>\n",
       "      <td>4</td>\n",
       "      <td>4.0</td>\n",
       "      <td>250</td>\n",
       "      <td>375</td>\n",
       "      <td>189</td>\n",
       "      <td>750</td>\n",
       "      <td>83580.0</td>\n",
       "      <td>106487.0</td>\n",
       "      <td>110600.0</td>\n",
       "    </tr>\n",
       "    <tr>\n",
       "      <th>127</th>\n",
       "      <td>Mercedes</td>\n",
       "      <td>EQS AMG 53 4MATIC+</td>\n",
       "      <td>107.8</td>\n",
       "      <td>5</td>\n",
       "      <td>3.4</td>\n",
       "      <td>250</td>\n",
       "      <td>565</td>\n",
       "      <td>191</td>\n",
       "      <td>740</td>\n",
       "      <td>135000.0</td>\n",
       "      <td>175000.0</td>\n",
       "      <td>175000.0</td>\n",
       "    </tr>\n",
       "    <tr>\n",
       "      <th>141</th>\n",
       "      <td>Porsche</td>\n",
       "      <td>Taycan Turbo S Cross Turismo</td>\n",
       "      <td>83.7</td>\n",
       "      <td>4</td>\n",
       "      <td>2.9</td>\n",
       "      <td>250</td>\n",
       "      <td>380</td>\n",
       "      <td>220</td>\n",
       "      <td>790</td>\n",
       "      <td>139910.0</td>\n",
       "      <td>187746.0</td>\n",
       "      <td>193200.0</td>\n",
       "    </tr>\n",
       "    <tr>\n",
       "      <th>147</th>\n",
       "      <td>Porsche</td>\n",
       "      <td>Taycan 4S Plus</td>\n",
       "      <td>83.7</td>\n",
       "      <td>4</td>\n",
       "      <td>4.0</td>\n",
       "      <td>250</td>\n",
       "      <td>435</td>\n",
       "      <td>192</td>\n",
       "      <td>910</td>\n",
       "      <td>88193.0</td>\n",
       "      <td>113008.0</td>\n",
       "      <td>116431.0</td>\n",
       "    </tr>\n",
       "    <tr>\n",
       "      <th>152</th>\n",
       "      <td>Porsche</td>\n",
       "      <td>Taycan Turbo</td>\n",
       "      <td>83.7</td>\n",
       "      <td>4</td>\n",
       "      <td>3.2</td>\n",
       "      <td>260</td>\n",
       "      <td>400</td>\n",
       "      <td>209</td>\n",
       "      <td>840</td>\n",
       "      <td>115860.0</td>\n",
       "      <td>153016.0</td>\n",
       "      <td>157900.0</td>\n",
       "    </tr>\n",
       "    <tr>\n",
       "      <th>160</th>\n",
       "      <td>Porsche</td>\n",
       "      <td>Taycan 4S Cross Turismo</td>\n",
       "      <td>83.7</td>\n",
       "      <td>4</td>\n",
       "      <td>4.1</td>\n",
       "      <td>240</td>\n",
       "      <td>405</td>\n",
       "      <td>207</td>\n",
       "      <td>850</td>\n",
       "      <td>87820.0</td>\n",
       "      <td>111842.0</td>\n",
       "      <td>116000.0</td>\n",
       "    </tr>\n",
       "    <tr>\n",
       "      <th>172</th>\n",
       "      <td>Porsche</td>\n",
       "      <td>Taycan Turbo Cross Turismo</td>\n",
       "      <td>83.7</td>\n",
       "      <td>4</td>\n",
       "      <td>3.3</td>\n",
       "      <td>250</td>\n",
       "      <td>385</td>\n",
       "      <td>217</td>\n",
       "      <td>800</td>\n",
       "      <td>116950.0</td>\n",
       "      <td>154444.0</td>\n",
       "      <td>159300.0</td>\n",
       "    </tr>\n",
       "  </tbody>\n",
       "</table>\n",
       "</div>"
      ],
      "text/plain": [
       "    vehicle_name                         model  battery  seats  acceleration  \\\n",
       "4       Mercedes                EQS 580 4MATIC    107.8      5           4.3   \n",
       "14      Mercedes                      EQS 450+    107.8      5           6.2   \n",
       "17          Audi                  e-tron GT RS     85.0      4           3.3   \n",
       "25         Tesla                 Model S Plaid     90.0      5           2.1   \n",
       "37       Porsche                Taycan Turbo S     83.7      4           2.8   \n",
       "49     Lightyear                           One     60.0      5          10.0   \n",
       "78         Tesla                      Roadster    200.0      4           2.1   \n",
       "84         Lucid             Air Grand Touring    110.0      5           3.2   \n",
       "111        Tesla                 Model X Plaid     90.0      7           2.6   \n",
       "115      Porsche                     Taycan 4S     71.0      4           4.0   \n",
       "127     Mercedes            EQS AMG 53 4MATIC+    107.8      5           3.4   \n",
       "141      Porsche  Taycan Turbo S Cross Turismo     83.7      4           2.9   \n",
       "147      Porsche                Taycan 4S Plus     83.7      4           4.0   \n",
       "152      Porsche                  Taycan Turbo     83.7      4           3.2   \n",
       "160      Porsche       Taycan 4S Cross Turismo     83.7      4           4.1   \n",
       "172      Porsche    Taycan Turbo Cross Turismo     83.7      4           3.3   \n",
       "\n",
       "     top_speed  distance  efficiency  fast_charge  price_pounds  \\\n",
       "4          210       610         177          800      115000.0   \n",
       "14         210       640         168          840       95000.0   \n",
       "17         250       405         210          810      110950.0   \n",
       "25         322       535         168          800      118980.0   \n",
       "37         260       390         215          860      138830.0   \n",
       "49         150       575         104          540           NaN   \n",
       "78         410       970         206          920      189000.0   \n",
       "84         270       660         167         1380      125000.0   \n",
       "111        262       455         198          680      110980.0   \n",
       "115        250       375         189          750       83580.0   \n",
       "127        250       565         191          740      135000.0   \n",
       "141        250       380         220          790      139910.0   \n",
       "147        250       435         192          910       88193.0   \n",
       "152        260       400         209          840      115860.0   \n",
       "160        240       405         207          850       87820.0   \n",
       "172        250       385         217          800      116950.0   \n",
       "\n",
       "     price_germany  price_netherland  \n",
       "4         135529.0          154949.0  \n",
       "14        106374.0          118891.0  \n",
       "17        138200.0          146295.0  \n",
       "25        126990.0          131000.0  \n",
       "37        186336.0          191700.0  \n",
       "49        149000.0          149990.0  \n",
       "78        215000.0          215000.0  \n",
       "84        140000.0          140000.0  \n",
       "111       116990.0          121000.0  \n",
       "115       106487.0          110600.0  \n",
       "127       175000.0          175000.0  \n",
       "141       187746.0          193200.0  \n",
       "147       113008.0          116431.0  \n",
       "152       153016.0          157900.0  \n",
       "160       111842.0          116000.0  \n",
       "172       154444.0          159300.0  "
      ]
     },
     "execution_count": 60,
     "metadata": {},
     "output_type": "execute_result"
    }
   ],
   "source": [
    "# Check upper outliers\n",
    "df.iloc[index_upper]"
   ]
  },
  {
   "cell_type": "code",
   "execution_count": 62,
   "metadata": {},
   "outputs": [
    {
     "data": {
      "text/html": [
       "<div>\n",
       "<style scoped>\n",
       "    .dataframe tbody tr th:only-of-type {\n",
       "        vertical-align: middle;\n",
       "    }\n",
       "\n",
       "    .dataframe tbody tr th {\n",
       "        vertical-align: top;\n",
       "    }\n",
       "\n",
       "    .dataframe thead th {\n",
       "        text-align: right;\n",
       "    }\n",
       "</style>\n",
       "<table border=\"1\" class=\"dataframe\">\n",
       "  <thead>\n",
       "    <tr style=\"text-align: right;\">\n",
       "      <th></th>\n",
       "      <th>vehicle_name</th>\n",
       "      <th>model</th>\n",
       "      <th>battery</th>\n",
       "      <th>seats</th>\n",
       "      <th>acceleration</th>\n",
       "      <th>top_speed</th>\n",
       "      <th>distance</th>\n",
       "      <th>efficiency</th>\n",
       "      <th>fast_charge</th>\n",
       "      <th>price_pounds</th>\n",
       "      <th>price_germany</th>\n",
       "      <th>price_netherland</th>\n",
       "    </tr>\n",
       "  </thead>\n",
       "  <tbody>\n",
       "  </tbody>\n",
       "</table>\n",
       "</div>"
      ],
      "text/plain": [
       "Empty DataFrame\n",
       "Columns: [vehicle_name, model, battery, seats, acceleration, top_speed, distance, efficiency, fast_charge, price_pounds, price_germany, price_netherland]\n",
       "Index: []"
      ]
     },
     "execution_count": 62,
     "metadata": {},
     "output_type": "execute_result"
    }
   ],
   "source": [
    "# Check lower outlier\n",
    "df.iloc[index_lower]"
   ]
  },
  {
   "cell_type": "code",
   "execution_count": 65,
   "metadata": {},
   "outputs": [
    {
     "data": {
      "text/plain": [
       "vehicle_name        16\n",
       "model               16\n",
       "battery             16\n",
       "seats               16\n",
       "acceleration        16\n",
       "top_speed           16\n",
       "distance            16\n",
       "efficiency          16\n",
       "fast_charge         16\n",
       "price_pounds        15\n",
       "price_germany       16\n",
       "price_netherland    16\n",
       "dtype: int64"
      ]
     },
     "execution_count": 65,
     "metadata": {},
     "output_type": "execute_result"
    }
   ],
   "source": [
    "df.iloc[index_upper].count()"
   ]
  },
  {
   "cell_type": "code",
   "execution_count": 67,
   "metadata": {},
   "outputs": [],
   "source": [
    "#### We have 16 Outliers on Upper side. Dropping outliers from price_germanythem using below code\n",
    "df.drop(index_upper, inplace=True)\n",
    "df.drop(index_lower, inplace=True)"
   ]
  },
  {
   "cell_type": "code",
   "execution_count": 68,
   "metadata": {},
   "outputs": [],
   "source": [
    "#Replacing the Null values with Median values.\n",
    "df['price_germany'] = df['price_germany'].fillna(df['price_germany'].median())"
   ]
  },
  {
   "cell_type": "code",
   "execution_count": 69,
   "metadata": {},
   "outputs": [
    {
     "data": {
      "text/plain": [
       "vehicle_name         object\n",
       "model                object\n",
       "battery             float64\n",
       "seats                 int64\n",
       "acceleration        float64\n",
       "top_speed             int64\n",
       "distance              int64\n",
       "efficiency            int64\n",
       "fast_charge           int32\n",
       "price_pounds        float32\n",
       "price_germany       float32\n",
       "price_netherland    float32\n",
       "dtype: object"
      ]
     },
     "execution_count": 69,
     "metadata": {},
     "output_type": "execute_result"
    }
   ],
   "source": [
    "#Check datset\n",
    "df.dtypes"
   ]
  },
  {
   "cell_type": "code",
   "execution_count": 70,
   "metadata": {},
   "outputs": [
    {
     "data": {
      "text/plain": [
       "vehicle_name         0\n",
       "model                0\n",
       "battery              0\n",
       "seats                0\n",
       "acceleration         0\n",
       "top_speed            0\n",
       "distance             0\n",
       "efficiency           0\n",
       "fast_charge          0\n",
       "price_pounds        44\n",
       "price_germany        0\n",
       "price_netherland    25\n",
       "dtype: int64"
      ]
     },
     "execution_count": 70,
     "metadata": {},
     "output_type": "execute_result"
    }
   ],
   "source": [
    "#Check Null values\n",
    "df.isnull().sum()"
   ]
  },
  {
   "cell_type": "code",
   "execution_count": 77,
   "metadata": {},
   "outputs": [],
   "source": [
    "#### Now we use price_germany to get prices in USD\n",
    "df['price_usd'] = round((df['price_germany']/1.18))"
   ]
  },
  {
   "cell_type": "code",
   "execution_count": 81,
   "metadata": {},
   "outputs": [
    {
     "data": {
      "text/html": [
       "<div>\n",
       "<style scoped>\n",
       "    .dataframe tbody tr th:only-of-type {\n",
       "        vertical-align: middle;\n",
       "    }\n",
       "\n",
       "    .dataframe tbody tr th {\n",
       "        vertical-align: top;\n",
       "    }\n",
       "\n",
       "    .dataframe thead th {\n",
       "        text-align: right;\n",
       "    }\n",
       "</style>\n",
       "<table border=\"1\" class=\"dataframe\">\n",
       "  <thead>\n",
       "    <tr style=\"text-align: right;\">\n",
       "      <th></th>\n",
       "      <th>vehicle_name</th>\n",
       "      <th>model</th>\n",
       "      <th>battery</th>\n",
       "      <th>seats</th>\n",
       "      <th>acceleration</th>\n",
       "      <th>top_speed</th>\n",
       "      <th>distance</th>\n",
       "      <th>efficiency</th>\n",
       "      <th>fast_charge</th>\n",
       "      <th>price_pounds</th>\n",
       "      <th>price_germany</th>\n",
       "      <th>price_netherland</th>\n",
       "      <th>price_usd</th>\n",
       "    </tr>\n",
       "  </thead>\n",
       "  <tbody>\n",
       "    <tr>\n",
       "      <th>0</th>\n",
       "      <td>Renault</td>\n",
       "      <td>Megane E-Tech EV60 220hp</td>\n",
       "      <td>60.0</td>\n",
       "      <td>5</td>\n",
       "      <td>7.4</td>\n",
       "      <td>160</td>\n",
       "      <td>360</td>\n",
       "      <td>167</td>\n",
       "      <td>520</td>\n",
       "      <td>35000.0</td>\n",
       "      <td>40000.0</td>\n",
       "      <td>40000.0</td>\n",
       "      <td>33898.0</td>\n",
       "    </tr>\n",
       "    <tr>\n",
       "      <th>1</th>\n",
       "      <td>Tesla</td>\n",
       "      <td>Model 3 Standard Range Plus LFP</td>\n",
       "      <td>52.5</td>\n",
       "      <td>5</td>\n",
       "      <td>5.6</td>\n",
       "      <td>225</td>\n",
       "      <td>350</td>\n",
       "      <td>150</td>\n",
       "      <td>630</td>\n",
       "      <td>40990.0</td>\n",
       "      <td>43560.0</td>\n",
       "      <td>49990.0</td>\n",
       "      <td>36915.0</td>\n",
       "    </tr>\n",
       "    <tr>\n",
       "      <th>2</th>\n",
       "      <td>Kia</td>\n",
       "      <td>EV6 GT</td>\n",
       "      <td>77.4</td>\n",
       "      <td>5</td>\n",
       "      <td>3.5</td>\n",
       "      <td>260</td>\n",
       "      <td>395</td>\n",
       "      <td>196</td>\n",
       "      <td>920</td>\n",
       "      <td>58295.0</td>\n",
       "      <td>65990.0</td>\n",
       "      <td>63595.0</td>\n",
       "      <td>55924.0</td>\n",
       "    </tr>\n",
       "    <tr>\n",
       "      <th>3</th>\n",
       "      <td>Tesla</td>\n",
       "      <td>Model Y Long Range Dual Motor</td>\n",
       "      <td>70.0</td>\n",
       "      <td>7</td>\n",
       "      <td>5.0</td>\n",
       "      <td>217</td>\n",
       "      <td>410</td>\n",
       "      <td>171</td>\n",
       "      <td>590</td>\n",
       "      <td>54000.0</td>\n",
       "      <td>59965.0</td>\n",
       "      <td>65010.0</td>\n",
       "      <td>50818.0</td>\n",
       "    </tr>\n",
       "    <tr>\n",
       "      <th>5</th>\n",
       "      <td>Skoda</td>\n",
       "      <td>Enyaq iV 80</td>\n",
       "      <td>77.0</td>\n",
       "      <td>5</td>\n",
       "      <td>8.6</td>\n",
       "      <td>160</td>\n",
       "      <td>420</td>\n",
       "      <td>183</td>\n",
       "      <td>510</td>\n",
       "      <td>39365.0</td>\n",
       "      <td>43950.0</td>\n",
       "      <td>47780.0</td>\n",
       "      <td>37246.0</td>\n",
       "    </tr>\n",
       "  </tbody>\n",
       "</table>\n",
       "</div>"
      ],
      "text/plain": [
       "  vehicle_name                            model  battery  seats  acceleration  \\\n",
       "0      Renault         Megane E-Tech EV60 220hp     60.0      5           7.4   \n",
       "1        Tesla  Model 3 Standard Range Plus LFP     52.5      5           5.6   \n",
       "2          Kia                           EV6 GT     77.4      5           3.5   \n",
       "3        Tesla    Model Y Long Range Dual Motor     70.0      7           5.0   \n",
       "5        Skoda                      Enyaq iV 80     77.0      5           8.6   \n",
       "\n",
       "   top_speed  distance  efficiency  fast_charge  price_pounds  price_germany  \\\n",
       "0        160       360         167          520       35000.0        40000.0   \n",
       "1        225       350         150          630       40990.0        43560.0   \n",
       "2        260       395         196          920       58295.0        65990.0   \n",
       "3        217       410         171          590       54000.0        59965.0   \n",
       "5        160       420         183          510       39365.0        43950.0   \n",
       "\n",
       "   price_netherland  price_usd  \n",
       "0           40000.0    33898.0  \n",
       "1           49990.0    36915.0  \n",
       "2           63595.0    55924.0  \n",
       "3           65010.0    50818.0  \n",
       "5           47780.0    37246.0  "
      ]
     },
     "execution_count": 81,
     "metadata": {},
     "output_type": "execute_result"
    }
   ],
   "source": [
    "#check dataset\n",
    "df.head()"
   ]
  },
  {
   "cell_type": "code",
   "execution_count": 82,
   "metadata": {},
   "outputs": [
    {
     "data": {
      "text/plain": [
       "vehicle_name         object\n",
       "model                object\n",
       "battery             float64\n",
       "seats                 int64\n",
       "acceleration        float64\n",
       "top_speed             int64\n",
       "distance              int64\n",
       "efficiency            int64\n",
       "fast_charge           int32\n",
       "price_pounds        float32\n",
       "price_germany       float32\n",
       "price_netherland    float32\n",
       "price_usd           float32\n",
       "dtype: object"
      ]
     },
     "execution_count": 82,
     "metadata": {},
     "output_type": "execute_result"
    }
   ],
   "source": [
    "#check dtypes\n",
    "df.dtypes"
   ]
  },
  {
   "cell_type": "code",
   "execution_count": 83,
   "metadata": {},
   "outputs": [
    {
     "data": {
      "text/plain": [
       "vehicle_name         0\n",
       "model                0\n",
       "battery              0\n",
       "seats                0\n",
       "acceleration         0\n",
       "top_speed            0\n",
       "distance             0\n",
       "efficiency           0\n",
       "fast_charge          0\n",
       "price_pounds        44\n",
       "price_germany        0\n",
       "price_netherland    25\n",
       "price_usd            0\n",
       "dtype: int64"
      ]
     },
     "execution_count": 83,
     "metadata": {},
     "output_type": "execute_result"
    }
   ],
   "source": [
    "#check Null values\n",
    "df.isnull().sum()"
   ]
  },
  {
   "cell_type": "markdown",
   "metadata": {},
   "source": [
    "## Trying to get some insights from the Data"
   ]
  },
  {
   "cell_type": "markdown",
   "metadata": {},
   "source": [
    "##### Top 5 Car Brands as per Average values of their Models"
   ]
  },
  {
   "cell_type": "code",
   "execution_count": 147,
   "metadata": {},
   "outputs": [
    {
     "data": {
      "text/plain": [
       "vehicle_name\n",
       "Porsche    75254.335938\n",
       "Lucid      74152.500000\n",
       "Jaguar     65508.000000\n",
       "Audi       54875.562500\n",
       "BMW        54770.000000\n",
       "Name: price_usd, dtype: float32"
      ]
     },
     "execution_count": 147,
     "metadata": {},
     "output_type": "execute_result"
    }
   ],
   "source": [
    "# Top 5 Car Brands as per Average values of their EV Car Models\n",
    "df.groupby('vehicle_name')['price_usd'].mean().sort_values(ascending=False).head(5)"
   ]
  },
  {
   "cell_type": "code",
   "execution_count": 157,
   "metadata": {},
   "outputs": [
    {
     "data": {
      "image/png": "[encoded data removed]",
      "text/plain": [
       "<Figure size 432x288 with 1 Axes>"
      ]
     },
     "metadata": {
      "needs_background": "light"
     },
     "output_type": "display_data"
    }
   ],
   "source": [
    "df.groupby('vehicle_name')['price_usd'].mean().sort_values(ascending=False).head(5).plot()\n",
    "plt.show()"
   ]
  },
  {
   "cell_type": "markdown",
   "metadata": {},
   "source": [
    "#### Top 5 Car Brands with maximum no. of Models"
   ]
  },
  {
   "cell_type": "code",
   "execution_count": 108,
   "metadata": {},
   "outputs": [
    {
     "data": {
      "text/plain": [
       "Audi          16\n",
       "Tesla         12\n",
       "Volkswagen    11\n",
       "Hyundai       10\n",
       "Kia            9\n",
       "Name: vehicle_name, dtype: int64"
      ]
     },
     "execution_count": 108,
     "metadata": {},
     "output_type": "execute_result"
    }
   ],
   "source": [
    "#### Top 5 Car Brands with maximum no. of Models\n",
    "df['vehicle_name'].value_counts().head(5)"
   ]
  },
  {
   "cell_type": "code",
   "execution_count": 156,
   "metadata": {},
   "outputs": [
    {
     "data": {
      "image/png": "[encoded data removed]",
      "text/plain": [
       "<Figure size 432x288 with 1 Axes>"
      ]
     },
     "metadata": {
      "needs_background": "light"
     },
     "output_type": "display_data"
    }
   ],
   "source": [
    "df['vehicle_name'].value_counts().head(5).plot()\n",
    "plt.show()"
   ]
  },
  {
   "cell_type": "markdown",
   "metadata": {},
   "source": [
    "#### Top 5 Car Models with Highest Top Speed"
   ]
  },
  {
   "cell_type": "code",
   "execution_count": 144,
   "metadata": {},
   "outputs": [
    {
     "data": {
      "text/html": [
       "<div>\n",
       "<style scoped>\n",
       "    .dataframe tbody tr th:only-of-type {\n",
       "        vertical-align: middle;\n",
       "    }\n",
       "\n",
       "    .dataframe tbody tr th {\n",
       "        vertical-align: top;\n",
       "    }\n",
       "\n",
       "    .dataframe thead th {\n",
       "        text-align: right;\n",
       "    }\n",
       "</style>\n",
       "<table border=\"1\" class=\"dataframe\">\n",
       "  <thead>\n",
       "    <tr style=\"text-align: right;\">\n",
       "      <th></th>\n",
       "      <th>vehicle_name</th>\n",
       "      <th>model</th>\n",
       "      <th>top_speed</th>\n",
       "    </tr>\n",
       "  </thead>\n",
       "  <tbody>\n",
       "    <tr>\n",
       "      <th>33</th>\n",
       "      <td>Tesla</td>\n",
       "      <td>Model 3 Performance</td>\n",
       "      <td>261</td>\n",
       "    </tr>\n",
       "    <tr>\n",
       "      <th>2</th>\n",
       "      <td>Kia</td>\n",
       "      <td>EV6 GT</td>\n",
       "      <td>260</td>\n",
       "    </tr>\n",
       "    <tr>\n",
       "      <th>163</th>\n",
       "      <td>Lucid</td>\n",
       "      <td>Air Touring</td>\n",
       "      <td>250</td>\n",
       "    </tr>\n",
       "    <tr>\n",
       "      <th>65</th>\n",
       "      <td>Tesla</td>\n",
       "      <td>Model S Long Range</td>\n",
       "      <td>250</td>\n",
       "    </tr>\n",
       "    <tr>\n",
       "      <th>88</th>\n",
       "      <td>Tesla</td>\n",
       "      <td>Model X Long Range</td>\n",
       "      <td>250</td>\n",
       "    </tr>\n",
       "  </tbody>\n",
       "</table>\n",
       "</div>"
      ],
      "text/plain": [
       "    vehicle_name                model  top_speed\n",
       "33         Tesla  Model 3 Performance        261\n",
       "2            Kia               EV6 GT        260\n",
       "163        Lucid          Air Touring        250\n",
       "65         Tesla   Model S Long Range        250\n",
       "88         Tesla   Model X Long Range        250"
      ]
     },
     "execution_count": 144,
     "metadata": {},
     "output_type": "execute_result"
    }
   ],
   "source": [
    "df1 = df[['vehicle_name','model','top_speed']]\n",
    "df1.sort_values('top_speed',ascending=False).head()"
   ]
  },
  {
   "cell_type": "markdown",
   "metadata": {},
   "source": [
    "#### Top 5 Cars with highest Battery back-up"
   ]
  },
  {
   "cell_type": "code",
   "execution_count": 145,
   "metadata": {},
   "outputs": [
    {
     "data": {
      "text/html": [
       "<div>\n",
       "<style scoped>\n",
       "    .dataframe tbody tr th:only-of-type {\n",
       "        vertical-align: middle;\n",
       "    }\n",
       "\n",
       "    .dataframe tbody tr th {\n",
       "        vertical-align: top;\n",
       "    }\n",
       "\n",
       "    .dataframe thead th {\n",
       "        text-align: right;\n",
       "    }\n",
       "</style>\n",
       "<table border=\"1\" class=\"dataframe\">\n",
       "  <thead>\n",
       "    <tr style=\"text-align: right;\">\n",
       "      <th></th>\n",
       "      <th>vehicle_name</th>\n",
       "      <th>model</th>\n",
       "      <th>battery</th>\n",
       "    </tr>\n",
       "  </thead>\n",
       "  <tbody>\n",
       "    <tr>\n",
       "      <th>43</th>\n",
       "      <td>Tesla</td>\n",
       "      <td>Cybertruck Tri Motor</td>\n",
       "      <td>200.0</td>\n",
       "    </tr>\n",
       "    <tr>\n",
       "      <th>137</th>\n",
       "      <td>Tesla</td>\n",
       "      <td>Cybertruck Dual Motor</td>\n",
       "      <td>120.0</td>\n",
       "    </tr>\n",
       "    <tr>\n",
       "      <th>32</th>\n",
       "      <td>BMW</td>\n",
       "      <td>iX xDrive50</td>\n",
       "      <td>105.2</td>\n",
       "    </tr>\n",
       "    <tr>\n",
       "      <th>129</th>\n",
       "      <td>Tesla</td>\n",
       "      <td>Cybertruck Single Motor</td>\n",
       "      <td>100.0</td>\n",
       "    </tr>\n",
       "    <tr>\n",
       "      <th>149</th>\n",
       "      <td>Byton</td>\n",
       "      <td>M-Byte 95 kWh 4WD</td>\n",
       "      <td>95.0</td>\n",
       "    </tr>\n",
       "  </tbody>\n",
       "</table>\n",
       "</div>"
      ],
      "text/plain": [
       "    vehicle_name                    model  battery\n",
       "43         Tesla     Cybertruck Tri Motor    200.0\n",
       "137        Tesla    Cybertruck Dual Motor    120.0\n",
       "32           BMW              iX xDrive50    105.2\n",
       "129        Tesla  Cybertruck Single Motor    100.0\n",
       "149        Byton        M-Byte 95 kWh 4WD     95.0"
      ]
     },
     "execution_count": 145,
     "metadata": {},
     "output_type": "execute_result"
    }
   ],
   "source": [
    "df2 = df[['vehicle_name','model','battery']]\n",
    "df2.sort_values('battery',ascending=False).head()"
   ]
  },
  {
   "cell_type": "markdown",
   "metadata": {},
   "source": [
    "#### Distribution of Car prices across the datset"
   ]
  },
  {
   "cell_type": "code",
   "execution_count": 163,
   "metadata": {},
   "outputs": [
    {
     "data": {
      "text/plain": [
       "<matplotlib.axes._subplots.AxesSubplot at 0x210057a8370>"
      ]
     },
     "execution_count": 163,
     "metadata": {},
     "output_type": "execute_result"
    },
    {
     "data": {
      "image/png": "[encoded data removed]",
      "text/plain": [
       "<Figure size 432x288 with 1 Axes>"
      ]
     },
     "metadata": {
      "needs_background": "light"
     },
     "output_type": "display_data"
    }
   ],
   "source": [
    "sns.distplot(df['price_usd'],kde=False,bins=30)"
   ]
  },
  {
   "cell_type": "markdown",
   "metadata": {},
   "source": [
    "#### Correlation among various Features in dataset"
   ]
  },
  {
   "cell_type": "code",
   "execution_count": 175,
   "metadata": {},
   "outputs": [],
   "source": [
    "features1 = df[['battery', 'seats', 'acceleration', 'top_speed', 'distance', 'efficiency', 'fast_charge', 'price_usd']]"
   ]
  },
  {
   "cell_type": "code",
   "execution_count": 177,
   "metadata": {},
   "outputs": [],
   "source": [
    "corr = features1.corr()"
   ]
  },
  {
   "cell_type": "code",
   "execution_count": 181,
   "metadata": {},
   "outputs": [
    {
     "data": {
      "text/plain": [
       "<matplotlib.axes._subplots.AxesSubplot at 0x21005aba610>"
      ]
     },
     "execution_count": 181,
     "metadata": {},
     "output_type": "execute_result"
    },
    {
     "data": {
      "image/png": "[encoded data removed]",
      "text/plain": [
       "<Figure size 576x432 with 2 Axes>"
      ]
     },
     "metadata": {
      "needs_background": "light"
     },
     "output_type": "display_data"
    }
   ],
   "source": [
    "plt.figure(figsize=(8,6))\n",
    "sns.heatmap(corr, annot=True)"
   ]
  },
  {
   "cell_type": "markdown",
   "metadata": {},
   "source": [
    "#### We can see very High correlation between Distance and Battery(0.87). Also, good correlation between Fast-charge and Top speed(0.74).  Also target variable price_usd has a moderate correlation with battery(0.67)."
   ]
  },
  {
   "cell_type": "markdown",
   "metadata": {},
   "source": [
    "## ...To be Continued"
   ]
  },
  {
   "cell_type": "code",
   "execution_count": null,
   "metadata": {},
   "outputs": [],
   "source": []
  }
 ],
 "metadata": {
  "kernelspec": {
   "display_name": "Python 3",
   "language": "python",
   "name": "python3"
  },
  "language_info": {
   "codemirror_mode": {
    "name": "ipython",
    "version": 3
   },
   "file_extension": ".py",
   "mimetype": "text/x-python",
   "name": "python",
   "nbconvert_exporter": "python",
   "pygments_lexer": "ipython3",
   "version": "3.8.3"
  }
 },
 "nbformat": 4,
 "nbformat_minor": 4
}
